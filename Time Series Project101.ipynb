{
 "cells": [
  {
   "cell_type": "markdown",
   "metadata": {},
   "source": [
    "# Time Series Project"
   ]
  },
  {
   "cell_type": "markdown",
   "metadata": {},
   "source": [
    "## Business Understanding \n",
    "\n",
    "This project is a a regression project on time series data. A store in Ecuador, Favorita wants to be able to make prediction on sales based on all important factors across all its stores. \n",
    "This requires preparing existing data into format that enables us to create a good model to make good predictions in the future. It also requires an analysis to get clarity on some features of the data gathered and how they come together to influence outcomes."
   ]
  },
  {
   "cell_type": "markdown",
   "metadata": {},
   "source": [
    "## Data Understanding \n"
   ]
  },
  {
   "cell_type": "markdown",
   "metadata": {},
   "source": [
    "### Questions \n",
    "\n",
    "1. How are the clusters performing against each other? \n",
    "2. What family brings in the most money across all stores?\n",
    "3. Which locales are the busiest in terms of transactions?\n",
    "4. In which year did most of the transactions happen?\n",
    "5. How have sales been over the years?\n",
    "6. What are the dates of the top 10 sales?\n",
    "7. What were the dates of the highest sales for each year?\n",
    "8. How many transactions happen in the christmas period(20th - 31st December) each year?"
   ]
  },
  {
   "cell_type": "markdown",
   "metadata": {},
   "source": [
    "### Hypothesis \n",
    "\n",
    "#### Null: Oil prices do not have an effect on sales \n",
    "#### Alternate: Oil prices have an effect on sales"
   ]
  },
  {
   "cell_type": "markdown",
   "metadata": {},
   "source": [
    "### Data Handling \n",
    "### Import necessary libraries"
   ]
  },
  {
   "cell_type": "code",
   "execution_count": 306,
   "metadata": {},
   "outputs": [],
   "source": [
    "\n",
    "# Data Handling\n",
    "import pandas as pd \n",
    "import numpy as np \n",
    "\n",
    "# Visualization\n",
    "import matplotlib.pyplot as plt\n",
    "import matplotlib.ticker as ticker\n",
    "import matplotlib.dates as mdates\n",
    "import mplcursors\n",
    "import seaborn as sns\n",
    "\n",
    "# Stationarity \n",
    "import statsmodels.api as sm\n",
    "from statsmodels.tsa.stattools import kpss\n",
    "\n",
    "# Encoding\n",
    "from sklearn.preprocessing import StandardScaler\n",
    "from sklearn.preprocessing import OneHotEncoder\n",
    "\n",
    "# Modeling\n",
    "from sklearn.linear_model import LinearRegression\n",
    "from sklearn.tree import DecisionTreeRegressor\n",
    "from sklearn.tree import DecisionTreeClassifier\n",
    "from sklearn.linear_model import SGDRegressor\n",
    "from sklearn.ensemble import RandomForestRegressor\n",
    "from xgboost import XGBRegressor\n",
    "from statsmodels.tsa.ar_model import AutoReg\n",
    "from statsmodels.tsa.arima.model import ARIMA\n",
    "from statsmodels.tsa.statespace.sarimax import SARIMAX\n",
    "\n",
    "# Evaluation\n",
    "from sklearn.metrics import mean_squared_error, mean_squared_log_error\n",
    "from sklearn.model_selection import GridSearchCV\n",
    "from sklearn.preprocessing import LabelEncoder\n",
    "\n",
    "# Model Selection\n",
    "from skforecast.ForecasterAutoreg import ForecasterAutoreg\n",
    "\n",
    "#Saving Model\n",
    "import pickle \n",
    "\n",
    "# Warnings\n",
    "import warnings\n",
    "warnings.filterwarnings('ignore')\n"
   ]
  },
  {
   "cell_type": "markdown",
   "metadata": {},
   "source": [
    "### Load Data"
   ]
  },
  {
   "cell_type": "code",
   "execution_count": 120,
   "metadata": {},
   "outputs": [],
   "source": [
    "train = pd.read_csv(\"train.csv\")\n",
    "transactions = pd.read_csv(\"transactions.csv\")\n",
    "holiday = pd.read_csv(\"holiday.csv\")\n",
    "oil  = pd.read_csv(\"oil.csv\")\n",
    "stores = pd.read_csv(\"stores.csv\")\n",
    "test = pd.read_excel('test.xlsx')"
   ]
  },
  {
   "cell_type": "markdown",
   "metadata": {},
   "source": [
    "### Get an overview of the data frames"
   ]
  },
  {
   "cell_type": "code",
   "execution_count": 121,
   "metadata": {},
   "outputs": [
    {
     "data": {
      "text/html": [
       "<div>\n",
       "<style scoped>\n",
       "    .dataframe tbody tr th:only-of-type {\n",
       "        vertical-align: middle;\n",
       "    }\n",
       "\n",
       "    .dataframe tbody tr th {\n",
       "        vertical-align: top;\n",
       "    }\n",
       "\n",
       "    .dataframe thead th {\n",
       "        text-align: right;\n",
       "    }\n",
       "</style>\n",
       "<table border=\"1\" class=\"dataframe\">\n",
       "  <thead>\n",
       "    <tr style=\"text-align: right;\">\n",
       "      <th></th>\n",
       "      <th>id</th>\n",
       "      <th>date</th>\n",
       "      <th>store_nbr</th>\n",
       "      <th>family</th>\n",
       "      <th>sales</th>\n",
       "      <th>onpromotion</th>\n",
       "    </tr>\n",
       "  </thead>\n",
       "  <tbody>\n",
       "    <tr>\n",
       "      <th>0</th>\n",
       "      <td>0</td>\n",
       "      <td>2013-01-01</td>\n",
       "      <td>1</td>\n",
       "      <td>AUTOMOTIVE</td>\n",
       "      <td>0.0</td>\n",
       "      <td>0</td>\n",
       "    </tr>\n",
       "    <tr>\n",
       "      <th>1</th>\n",
       "      <td>1</td>\n",
       "      <td>2013-01-01</td>\n",
       "      <td>1</td>\n",
       "      <td>BABY CARE</td>\n",
       "      <td>0.0</td>\n",
       "      <td>0</td>\n",
       "    </tr>\n",
       "    <tr>\n",
       "      <th>2</th>\n",
       "      <td>2</td>\n",
       "      <td>2013-01-01</td>\n",
       "      <td>1</td>\n",
       "      <td>BEAUTY</td>\n",
       "      <td>0.0</td>\n",
       "      <td>0</td>\n",
       "    </tr>\n",
       "    <tr>\n",
       "      <th>3</th>\n",
       "      <td>3</td>\n",
       "      <td>2013-01-01</td>\n",
       "      <td>1</td>\n",
       "      <td>BEVERAGES</td>\n",
       "      <td>0.0</td>\n",
       "      <td>0</td>\n",
       "    </tr>\n",
       "    <tr>\n",
       "      <th>4</th>\n",
       "      <td>4</td>\n",
       "      <td>2013-01-01</td>\n",
       "      <td>1</td>\n",
       "      <td>BOOKS</td>\n",
       "      <td>0.0</td>\n",
       "      <td>0</td>\n",
       "    </tr>\n",
       "  </tbody>\n",
       "</table>\n",
       "</div>"
      ],
      "text/plain": [
       "   id        date  store_nbr      family  sales  onpromotion\n",
       "0   0  2013-01-01          1  AUTOMOTIVE    0.0            0\n",
       "1   1  2013-01-01          1   BABY CARE    0.0            0\n",
       "2   2  2013-01-01          1      BEAUTY    0.0            0\n",
       "3   3  2013-01-01          1   BEVERAGES    0.0            0\n",
       "4   4  2013-01-01          1       BOOKS    0.0            0"
      ]
     },
     "execution_count": 121,
     "metadata": {},
     "output_type": "execute_result"
    }
   ],
   "source": [
    "# train dataframe\n",
    "train.head()"
   ]
  },
  {
   "cell_type": "code",
   "execution_count": 122,
   "metadata": {},
   "outputs": [
    {
     "data": {
      "text/html": [
       "<div>\n",
       "<style scoped>\n",
       "    .dataframe tbody tr th:only-of-type {\n",
       "        vertical-align: middle;\n",
       "    }\n",
       "\n",
       "    .dataframe tbody tr th {\n",
       "        vertical-align: top;\n",
       "    }\n",
       "\n",
       "    .dataframe thead th {\n",
       "        text-align: right;\n",
       "    }\n",
       "</style>\n",
       "<table border=\"1\" class=\"dataframe\">\n",
       "  <thead>\n",
       "    <tr style=\"text-align: right;\">\n",
       "      <th></th>\n",
       "      <th>date</th>\n",
       "      <th>store_nbr</th>\n",
       "      <th>transactions</th>\n",
       "    </tr>\n",
       "  </thead>\n",
       "  <tbody>\n",
       "    <tr>\n",
       "      <th>0</th>\n",
       "      <td>2013-01-01</td>\n",
       "      <td>25</td>\n",
       "      <td>770</td>\n",
       "    </tr>\n",
       "    <tr>\n",
       "      <th>1</th>\n",
       "      <td>2013-01-02</td>\n",
       "      <td>1</td>\n",
       "      <td>2111</td>\n",
       "    </tr>\n",
       "    <tr>\n",
       "      <th>2</th>\n",
       "      <td>2013-01-02</td>\n",
       "      <td>2</td>\n",
       "      <td>2358</td>\n",
       "    </tr>\n",
       "    <tr>\n",
       "      <th>3</th>\n",
       "      <td>2013-01-02</td>\n",
       "      <td>3</td>\n",
       "      <td>3487</td>\n",
       "    </tr>\n",
       "    <tr>\n",
       "      <th>4</th>\n",
       "      <td>2013-01-02</td>\n",
       "      <td>4</td>\n",
       "      <td>1922</td>\n",
       "    </tr>\n",
       "  </tbody>\n",
       "</table>\n",
       "</div>"
      ],
      "text/plain": [
       "         date  store_nbr  transactions\n",
       "0  2013-01-01         25           770\n",
       "1  2013-01-02          1          2111\n",
       "2  2013-01-02          2          2358\n",
       "3  2013-01-02          3          3487\n",
       "4  2013-01-02          4          1922"
      ]
     },
     "execution_count": 122,
     "metadata": {},
     "output_type": "execute_result"
    }
   ],
   "source": [
    "# transactions dataframe\n",
    "transactions.head()"
   ]
  },
  {
   "cell_type": "markdown",
   "metadata": {},
   "source": [
    "### Train Dataframe\n",
    "\n",
    "- The training data contains information about dates, store numbers, product families, promotions, and sales figures. \n",
    "- The data shows sales and time series data for the features store_nbr, family, and onpromotion.\n",
    "- The store_nbr feature indicates the specific location where the goods are sold by the retailer. \n",
    "- The family feature describes the category of goods being sold. \n",
    "- The sales column provides the total sales for a particular product family at a specific retailer on a given day. - - - Sales can involve fractional units so decimal values are possible. \n",
    "- The onpromotion column indicates the total number of promoted products within a family at a specific store on a specific date."
   ]
  },
  {
   "cell_type": "code",
   "execution_count": 123,
   "metadata": {},
   "outputs": [
    {
     "data": {
      "text/html": [
       "<div>\n",
       "<style scoped>\n",
       "    .dataframe tbody tr th:only-of-type {\n",
       "        vertical-align: middle;\n",
       "    }\n",
       "\n",
       "    .dataframe tbody tr th {\n",
       "        vertical-align: top;\n",
       "    }\n",
       "\n",
       "    .dataframe thead th {\n",
       "        text-align: right;\n",
       "    }\n",
       "</style>\n",
       "<table border=\"1\" class=\"dataframe\">\n",
       "  <thead>\n",
       "    <tr style=\"text-align: right;\">\n",
       "      <th></th>\n",
       "      <th>date</th>\n",
       "      <th>type</th>\n",
       "      <th>locale</th>\n",
       "      <th>locale_name</th>\n",
       "      <th>description</th>\n",
       "      <th>transferred</th>\n",
       "    </tr>\n",
       "  </thead>\n",
       "  <tbody>\n",
       "    <tr>\n",
       "      <th>0</th>\n",
       "      <td>2012-03-02</td>\n",
       "      <td>Holiday</td>\n",
       "      <td>Local</td>\n",
       "      <td>Manta</td>\n",
       "      <td>Fundacion de Manta</td>\n",
       "      <td>False</td>\n",
       "    </tr>\n",
       "    <tr>\n",
       "      <th>1</th>\n",
       "      <td>2012-04-01</td>\n",
       "      <td>Holiday</td>\n",
       "      <td>Regional</td>\n",
       "      <td>Cotopaxi</td>\n",
       "      <td>Provincializacion de Cotopaxi</td>\n",
       "      <td>False</td>\n",
       "    </tr>\n",
       "    <tr>\n",
       "      <th>2</th>\n",
       "      <td>2012-04-12</td>\n",
       "      <td>Holiday</td>\n",
       "      <td>Local</td>\n",
       "      <td>Cuenca</td>\n",
       "      <td>Fundacion de Cuenca</td>\n",
       "      <td>False</td>\n",
       "    </tr>\n",
       "    <tr>\n",
       "      <th>3</th>\n",
       "      <td>2012-04-14</td>\n",
       "      <td>Holiday</td>\n",
       "      <td>Local</td>\n",
       "      <td>Libertad</td>\n",
       "      <td>Cantonizacion de Libertad</td>\n",
       "      <td>False</td>\n",
       "    </tr>\n",
       "    <tr>\n",
       "      <th>4</th>\n",
       "      <td>2012-04-21</td>\n",
       "      <td>Holiday</td>\n",
       "      <td>Local</td>\n",
       "      <td>Riobamba</td>\n",
       "      <td>Cantonizacion de Riobamba</td>\n",
       "      <td>False</td>\n",
       "    </tr>\n",
       "  </tbody>\n",
       "</table>\n",
       "</div>"
      ],
      "text/plain": [
       "         date     type    locale locale_name                    description  \\\n",
       "0  2012-03-02  Holiday     Local       Manta             Fundacion de Manta   \n",
       "1  2012-04-01  Holiday  Regional    Cotopaxi  Provincializacion de Cotopaxi   \n",
       "2  2012-04-12  Holiday     Local      Cuenca            Fundacion de Cuenca   \n",
       "3  2012-04-14  Holiday     Local    Libertad      Cantonizacion de Libertad   \n",
       "4  2012-04-21  Holiday     Local    Riobamba      Cantonizacion de Riobamba   \n",
       "\n",
       "   transferred  \n",
       "0        False  \n",
       "1        False  \n",
       "2        False  \n",
       "3        False  \n",
       "4        False  "
      ]
     },
     "execution_count": 123,
     "metadata": {},
     "output_type": "execute_result"
    }
   ],
   "source": [
    "# holiday dataframe \n",
    "holiday.head()"
   ]
  },
  {
   "cell_type": "markdown",
   "metadata": {},
   "source": [
    "### Holiday Dataframe \n",
    "\n",
    "- Shows events and holidays, their descriptions and whether or not it's transferred"
   ]
  },
  {
   "cell_type": "code",
   "execution_count": 124,
   "metadata": {},
   "outputs": [
    {
     "data": {
      "text/html": [
       "<div>\n",
       "<style scoped>\n",
       "    .dataframe tbody tr th:only-of-type {\n",
       "        vertical-align: middle;\n",
       "    }\n",
       "\n",
       "    .dataframe tbody tr th {\n",
       "        vertical-align: top;\n",
       "    }\n",
       "\n",
       "    .dataframe thead th {\n",
       "        text-align: right;\n",
       "    }\n",
       "</style>\n",
       "<table border=\"1\" class=\"dataframe\">\n",
       "  <thead>\n",
       "    <tr style=\"text-align: right;\">\n",
       "      <th></th>\n",
       "      <th>date</th>\n",
       "      <th>dcoilwtico</th>\n",
       "    </tr>\n",
       "  </thead>\n",
       "  <tbody>\n",
       "    <tr>\n",
       "      <th>0</th>\n",
       "      <td>2013-01-01</td>\n",
       "      <td>NaN</td>\n",
       "    </tr>\n",
       "    <tr>\n",
       "      <th>1</th>\n",
       "      <td>2013-01-02</td>\n",
       "      <td>93.139999</td>\n",
       "    </tr>\n",
       "    <tr>\n",
       "      <th>2</th>\n",
       "      <td>2013-01-03</td>\n",
       "      <td>92.970001</td>\n",
       "    </tr>\n",
       "    <tr>\n",
       "      <th>3</th>\n",
       "      <td>2013-01-04</td>\n",
       "      <td>93.120003</td>\n",
       "    </tr>\n",
       "    <tr>\n",
       "      <th>4</th>\n",
       "      <td>2013-01-07</td>\n",
       "      <td>93.199997</td>\n",
       "    </tr>\n",
       "  </tbody>\n",
       "</table>\n",
       "</div>"
      ],
      "text/plain": [
       "         date  dcoilwtico\n",
       "0  2013-01-01         NaN\n",
       "1  2013-01-02   93.139999\n",
       "2  2013-01-03   92.970001\n",
       "3  2013-01-04   93.120003\n",
       "4  2013-01-07   93.199997"
      ]
     },
     "execution_count": 124,
     "metadata": {},
     "output_type": "execute_result"
    }
   ],
   "source": [
    "# oil dataframe \n",
    "oil.head()"
   ]
  },
  {
   "cell_type": "markdown",
   "metadata": {},
   "source": [
    "### Oil Dataframe \n",
    "- Oil prices play a crucial role in how things are purchased in Ecuador\n",
    "- This dataframe shows the oil prices per barrel based on dates"
   ]
  },
  {
   "cell_type": "code",
   "execution_count": 125,
   "metadata": {},
   "outputs": [
    {
     "data": {
      "text/html": [
       "<div>\n",
       "<style scoped>\n",
       "    .dataframe tbody tr th:only-of-type {\n",
       "        vertical-align: middle;\n",
       "    }\n",
       "\n",
       "    .dataframe tbody tr th {\n",
       "        vertical-align: top;\n",
       "    }\n",
       "\n",
       "    .dataframe thead th {\n",
       "        text-align: right;\n",
       "    }\n",
       "</style>\n",
       "<table border=\"1\" class=\"dataframe\">\n",
       "  <thead>\n",
       "    <tr style=\"text-align: right;\">\n",
       "      <th></th>\n",
       "      <th>store_nbr</th>\n",
       "      <th>city</th>\n",
       "      <th>state</th>\n",
       "      <th>type</th>\n",
       "      <th>cluster</th>\n",
       "    </tr>\n",
       "  </thead>\n",
       "  <tbody>\n",
       "    <tr>\n",
       "      <th>0</th>\n",
       "      <td>1</td>\n",
       "      <td>Quito</td>\n",
       "      <td>Pichincha</td>\n",
       "      <td>D</td>\n",
       "      <td>13</td>\n",
       "    </tr>\n",
       "    <tr>\n",
       "      <th>1</th>\n",
       "      <td>2</td>\n",
       "      <td>Quito</td>\n",
       "      <td>Pichincha</td>\n",
       "      <td>D</td>\n",
       "      <td>13</td>\n",
       "    </tr>\n",
       "    <tr>\n",
       "      <th>2</th>\n",
       "      <td>3</td>\n",
       "      <td>Quito</td>\n",
       "      <td>Pichincha</td>\n",
       "      <td>D</td>\n",
       "      <td>8</td>\n",
       "    </tr>\n",
       "    <tr>\n",
       "      <th>3</th>\n",
       "      <td>4</td>\n",
       "      <td>Quito</td>\n",
       "      <td>Pichincha</td>\n",
       "      <td>D</td>\n",
       "      <td>9</td>\n",
       "    </tr>\n",
       "    <tr>\n",
       "      <th>4</th>\n",
       "      <td>5</td>\n",
       "      <td>Santo Domingo</td>\n",
       "      <td>Santo Domingo de los Tsachilas</td>\n",
       "      <td>D</td>\n",
       "      <td>4</td>\n",
       "    </tr>\n",
       "  </tbody>\n",
       "</table>\n",
       "</div>"
      ],
      "text/plain": [
       "   store_nbr           city                           state type  cluster\n",
       "0          1          Quito                       Pichincha    D       13\n",
       "1          2          Quito                       Pichincha    D       13\n",
       "2          3          Quito                       Pichincha    D        8\n",
       "3          4          Quito                       Pichincha    D        9\n",
       "4          5  Santo Domingo  Santo Domingo de los Tsachilas    D        4"
      ]
     },
     "execution_count": 125,
     "metadata": {},
     "output_type": "execute_result"
    }
   ],
   "source": [
    "# stores dataframe \n",
    "stores.head()"
   ]
  },
  {
   "cell_type": "markdown",
   "metadata": {},
   "source": [
    "### Stores Dataframe \n",
    "- Keeps information on various stores \n",
    "- Contains information such as store type, city, cluster and state the store is located \n",
    "- Cluster refers to a grouping of related stores "
   ]
  },
  {
   "cell_type": "code",
   "execution_count": 126,
   "metadata": {},
   "outputs": [
    {
     "data": {
      "text/html": [
       "<div>\n",
       "<style scoped>\n",
       "    .dataframe tbody tr th:only-of-type {\n",
       "        vertical-align: middle;\n",
       "    }\n",
       "\n",
       "    .dataframe tbody tr th {\n",
       "        vertical-align: top;\n",
       "    }\n",
       "\n",
       "    .dataframe thead th {\n",
       "        text-align: right;\n",
       "    }\n",
       "</style>\n",
       "<table border=\"1\" class=\"dataframe\">\n",
       "  <thead>\n",
       "    <tr style=\"text-align: right;\">\n",
       "      <th></th>\n",
       "      <th>id</th>\n",
       "      <th>date</th>\n",
       "      <th>store_nbr</th>\n",
       "      <th>family</th>\n",
       "      <th>onpromotion</th>\n",
       "    </tr>\n",
       "  </thead>\n",
       "  <tbody>\n",
       "    <tr>\n",
       "      <th>0</th>\n",
       "      <td>3000888</td>\n",
       "      <td>2017-08-16</td>\n",
       "      <td>1</td>\n",
       "      <td>AUTOMOTIVE</td>\n",
       "      <td>0</td>\n",
       "    </tr>\n",
       "    <tr>\n",
       "      <th>1</th>\n",
       "      <td>3000889</td>\n",
       "      <td>2017-08-16</td>\n",
       "      <td>1</td>\n",
       "      <td>BABY CARE</td>\n",
       "      <td>0</td>\n",
       "    </tr>\n",
       "    <tr>\n",
       "      <th>2</th>\n",
       "      <td>3000890</td>\n",
       "      <td>2017-08-16</td>\n",
       "      <td>1</td>\n",
       "      <td>BEAUTY</td>\n",
       "      <td>2</td>\n",
       "    </tr>\n",
       "    <tr>\n",
       "      <th>3</th>\n",
       "      <td>3000891</td>\n",
       "      <td>2017-08-16</td>\n",
       "      <td>1</td>\n",
       "      <td>BEVERAGES</td>\n",
       "      <td>20</td>\n",
       "    </tr>\n",
       "    <tr>\n",
       "      <th>4</th>\n",
       "      <td>3000892</td>\n",
       "      <td>2017-08-16</td>\n",
       "      <td>1</td>\n",
       "      <td>BOOKS</td>\n",
       "      <td>0</td>\n",
       "    </tr>\n",
       "  </tbody>\n",
       "</table>\n",
       "</div>"
      ],
      "text/plain": [
       "        id       date  store_nbr      family  onpromotion\n",
       "0  3000888 2017-08-16          1  AUTOMOTIVE            0\n",
       "1  3000889 2017-08-16          1   BABY CARE            0\n",
       "2  3000890 2017-08-16          1      BEAUTY            2\n",
       "3  3000891 2017-08-16          1   BEVERAGES           20\n",
       "4  3000892 2017-08-16          1       BOOKS            0"
      ]
     },
     "execution_count": 126,
     "metadata": {},
     "output_type": "execute_result"
    }
   ],
   "source": [
    "test.head()"
   ]
  },
  {
   "cell_type": "markdown",
   "metadata": {},
   "source": [
    "### Test Dataframe\n",
    "- Contains same information as train dataframe\n",
    "- Contains information that will be used to test the model yet to be trained"
   ]
  },
  {
   "cell_type": "markdown",
   "metadata": {},
   "source": [
    "## Understand the features/columns of the dataframes"
   ]
  },
  {
   "cell_type": "code",
   "execution_count": 127,
   "metadata": {},
   "outputs": [
    {
     "name": "stdout",
     "output_type": "stream",
     "text": [
      "<class 'pandas.core.frame.DataFrame'>\n",
      "RangeIndex: 3000888 entries, 0 to 3000887\n",
      "Data columns (total 6 columns):\n",
      " #   Column       Dtype  \n",
      "---  ------       -----  \n",
      " 0   id           int64  \n",
      " 1   date         object \n",
      " 2   store_nbr    int64  \n",
      " 3   family       object \n",
      " 4   sales        float64\n",
      " 5   onpromotion  int64  \n",
      "dtypes: float64(1), int64(3), object(2)\n",
      "memory usage: 137.4+ MB\n"
     ]
    }
   ],
   "source": [
    "train.info()"
   ]
  },
  {
   "cell_type": "code",
   "execution_count": 128,
   "metadata": {},
   "outputs": [],
   "source": [
    "# Change date column to date time \n",
    "train['date'] = pd.to_datetime(train['date'])"
   ]
  },
  {
   "cell_type": "code",
   "execution_count": 129,
   "metadata": {},
   "outputs": [
    {
     "data": {
      "text/plain": [
       "id                      int64\n",
       "date           datetime64[ns]\n",
       "store_nbr               int64\n",
       "family                 object\n",
       "sales                 float64\n",
       "onpromotion             int64\n",
       "dtype: object"
      ]
     },
     "execution_count": 129,
     "metadata": {},
     "output_type": "execute_result"
    }
   ],
   "source": [
    "train.dtypes"
   ]
  },
  {
   "cell_type": "code",
   "execution_count": 130,
   "metadata": {},
   "outputs": [
    {
     "name": "stdout",
     "output_type": "stream",
     "text": [
      "<class 'pandas.core.frame.DataFrame'>\n",
      "RangeIndex: 83488 entries, 0 to 83487\n",
      "Data columns (total 3 columns):\n",
      " #   Column        Non-Null Count  Dtype \n",
      "---  ------        --------------  ----- \n",
      " 0   date          83488 non-null  object\n",
      " 1   store_nbr     83488 non-null  int64 \n",
      " 2   transactions  83488 non-null  int64 \n",
      "dtypes: int64(2), object(1)\n",
      "memory usage: 1.9+ MB\n"
     ]
    }
   ],
   "source": [
    "transactions.info()"
   ]
  },
  {
   "cell_type": "code",
   "execution_count": 131,
   "metadata": {},
   "outputs": [],
   "source": [
    "# Change date column to date time \n",
    "transactions['date'] = pd.to_datetime(transactions['date'])"
   ]
  },
  {
   "cell_type": "code",
   "execution_count": 132,
   "metadata": {},
   "outputs": [
    {
     "data": {
      "text/plain": [
       "date            datetime64[ns]\n",
       "store_nbr                int64\n",
       "transactions             int64\n",
       "dtype: object"
      ]
     },
     "execution_count": 132,
     "metadata": {},
     "output_type": "execute_result"
    }
   ],
   "source": [
    "transactions.dtypes"
   ]
  },
  {
   "cell_type": "code",
   "execution_count": 133,
   "metadata": {},
   "outputs": [
    {
     "name": "stdout",
     "output_type": "stream",
     "text": [
      "<class 'pandas.core.frame.DataFrame'>\n",
      "RangeIndex: 350 entries, 0 to 349\n",
      "Data columns (total 6 columns):\n",
      " #   Column       Non-Null Count  Dtype \n",
      "---  ------       --------------  ----- \n",
      " 0   date         350 non-null    object\n",
      " 1   type         350 non-null    object\n",
      " 2   locale       350 non-null    object\n",
      " 3   locale_name  350 non-null    object\n",
      " 4   description  350 non-null    object\n",
      " 5   transferred  350 non-null    bool  \n",
      "dtypes: bool(1), object(5)\n",
      "memory usage: 14.1+ KB\n"
     ]
    }
   ],
   "source": [
    "holiday.info()"
   ]
  },
  {
   "cell_type": "code",
   "execution_count": 134,
   "metadata": {},
   "outputs": [],
   "source": [
    "# Change date column to date time \n",
    "holiday['date'] = pd.to_datetime(holiday['date'])"
   ]
  },
  {
   "cell_type": "code",
   "execution_count": 135,
   "metadata": {},
   "outputs": [
    {
     "data": {
      "text/plain": [
       "date           datetime64[ns]\n",
       "type                   object\n",
       "locale                 object\n",
       "locale_name            object\n",
       "description            object\n",
       "transferred              bool\n",
       "dtype: object"
      ]
     },
     "execution_count": 135,
     "metadata": {},
     "output_type": "execute_result"
    }
   ],
   "source": [
    "holiday.dtypes"
   ]
  },
  {
   "cell_type": "code",
   "execution_count": 136,
   "metadata": {},
   "outputs": [
    {
     "name": "stdout",
     "output_type": "stream",
     "text": [
      "<class 'pandas.core.frame.DataFrame'>\n",
      "RangeIndex: 1218 entries, 0 to 1217\n",
      "Data columns (total 2 columns):\n",
      " #   Column      Non-Null Count  Dtype  \n",
      "---  ------      --------------  -----  \n",
      " 0   date        1218 non-null   object \n",
      " 1   dcoilwtico  1175 non-null   float64\n",
      "dtypes: float64(1), object(1)\n",
      "memory usage: 19.2+ KB\n"
     ]
    }
   ],
   "source": [
    "oil.info()"
   ]
  },
  {
   "cell_type": "code",
   "execution_count": 137,
   "metadata": {},
   "outputs": [],
   "source": [
    "# Change date column to date time \n",
    "oil['date'] = pd.to_datetime(oil['date'])"
   ]
  },
  {
   "cell_type": "code",
   "execution_count": 138,
   "metadata": {},
   "outputs": [
    {
     "data": {
      "text/plain": [
       "date          datetime64[ns]\n",
       "dcoilwtico           float64\n",
       "dtype: object"
      ]
     },
     "execution_count": 138,
     "metadata": {},
     "output_type": "execute_result"
    }
   ],
   "source": [
    "oil.dtypes"
   ]
  },
  {
   "cell_type": "code",
   "execution_count": 139,
   "metadata": {
    "scrolled": true
   },
   "outputs": [
    {
     "name": "stdout",
     "output_type": "stream",
     "text": [
      "<class 'pandas.core.frame.DataFrame'>\n",
      "RangeIndex: 54 entries, 0 to 53\n",
      "Data columns (total 5 columns):\n",
      " #   Column     Non-Null Count  Dtype \n",
      "---  ------     --------------  ----- \n",
      " 0   store_nbr  54 non-null     int64 \n",
      " 1   city       54 non-null     object\n",
      " 2   state      54 non-null     object\n",
      " 3   type       54 non-null     object\n",
      " 4   cluster    54 non-null     int64 \n",
      "dtypes: int64(2), object(3)\n",
      "memory usage: 2.2+ KB\n"
     ]
    }
   ],
   "source": [
    "stores.info()"
   ]
  },
  {
   "cell_type": "code",
   "execution_count": 140,
   "metadata": {},
   "outputs": [
    {
     "name": "stdout",
     "output_type": "stream",
     "text": [
      "<class 'pandas.core.frame.DataFrame'>\n",
      "RangeIndex: 28512 entries, 0 to 28511\n",
      "Data columns (total 5 columns):\n",
      " #   Column       Non-Null Count  Dtype         \n",
      "---  ------       --------------  -----         \n",
      " 0   id           28512 non-null  int64         \n",
      " 1   date         28512 non-null  datetime64[ns]\n",
      " 2   store_nbr    28512 non-null  int64         \n",
      " 3   family       28512 non-null  object        \n",
      " 4   onpromotion  28512 non-null  int64         \n",
      "dtypes: datetime64[ns](1), int64(3), object(1)\n",
      "memory usage: 1.1+ MB\n"
     ]
    }
   ],
   "source": [
    "test.info()"
   ]
  },
  {
   "cell_type": "code",
   "execution_count": 141,
   "metadata": {},
   "outputs": [],
   "source": [
    "# Change date column to date time \n",
    "test['date'] = pd.to_datetime(test['date'])"
   ]
  },
  {
   "cell_type": "code",
   "execution_count": 142,
   "metadata": {},
   "outputs": [
    {
     "data": {
      "text/plain": [
       "id                      int64\n",
       "date           datetime64[ns]\n",
       "store_nbr               int64\n",
       "family                 object\n",
       "onpromotion             int64\n",
       "dtype: object"
      ]
     },
     "execution_count": 142,
     "metadata": {},
     "output_type": "execute_result"
    }
   ],
   "source": [
    "test.dtypes"
   ]
  },
  {
   "cell_type": "markdown",
   "metadata": {},
   "source": [
    "### Check for the shape of all dataframes "
   ]
  },
  {
   "cell_type": "code",
   "execution_count": 143,
   "metadata": {},
   "outputs": [
    {
     "data": {
      "text/plain": [
       "(3000888, 6)"
      ]
     },
     "execution_count": 143,
     "metadata": {},
     "output_type": "execute_result"
    }
   ],
   "source": [
    "train.shape"
   ]
  },
  {
   "cell_type": "code",
   "execution_count": 144,
   "metadata": {},
   "outputs": [
    {
     "data": {
      "text/plain": [
       "(83488, 3)"
      ]
     },
     "execution_count": 144,
     "metadata": {},
     "output_type": "execute_result"
    }
   ],
   "source": [
    "transactions.shape"
   ]
  },
  {
   "cell_type": "code",
   "execution_count": 145,
   "metadata": {},
   "outputs": [
    {
     "data": {
      "text/plain": [
       "(350, 6)"
      ]
     },
     "execution_count": 145,
     "metadata": {},
     "output_type": "execute_result"
    }
   ],
   "source": [
    "holiday.shape"
   ]
  },
  {
   "cell_type": "code",
   "execution_count": 146,
   "metadata": {},
   "outputs": [
    {
     "data": {
      "text/plain": [
       "(1218, 2)"
      ]
     },
     "execution_count": 146,
     "metadata": {},
     "output_type": "execute_result"
    }
   ],
   "source": [
    "oil.shape"
   ]
  },
  {
   "cell_type": "code",
   "execution_count": 147,
   "metadata": {},
   "outputs": [
    {
     "data": {
      "text/plain": [
       "(54, 5)"
      ]
     },
     "execution_count": 147,
     "metadata": {},
     "output_type": "execute_result"
    }
   ],
   "source": [
    "stores.shape"
   ]
  },
  {
   "cell_type": "code",
   "execution_count": 148,
   "metadata": {},
   "outputs": [
    {
     "data": {
      "text/plain": [
       "(28512, 5)"
      ]
     },
     "execution_count": 148,
     "metadata": {},
     "output_type": "execute_result"
    }
   ],
   "source": [
    "test.shape"
   ]
  },
  {
   "cell_type": "markdown",
   "metadata": {},
   "source": [
    "## Data Preparation"
   ]
  },
  {
   "cell_type": "markdown",
   "metadata": {},
   "source": [
    "### Check for missing values "
   ]
  },
  {
   "cell_type": "code",
   "execution_count": 149,
   "metadata": {},
   "outputs": [
    {
     "data": {
      "text/plain": [
       "id             0\n",
       "date           0\n",
       "store_nbr      0\n",
       "family         0\n",
       "sales          0\n",
       "onpromotion    0\n",
       "dtype: int64"
      ]
     },
     "execution_count": 149,
     "metadata": {},
     "output_type": "execute_result"
    }
   ],
   "source": [
    "train.isna().sum()"
   ]
  },
  {
   "cell_type": "code",
   "execution_count": 150,
   "metadata": {},
   "outputs": [
    {
     "data": {
      "text/plain": [
       "date            0\n",
       "store_nbr       0\n",
       "transactions    0\n",
       "dtype: int64"
      ]
     },
     "execution_count": 150,
     "metadata": {},
     "output_type": "execute_result"
    }
   ],
   "source": [
    "transactions.isna().sum()"
   ]
  },
  {
   "cell_type": "code",
   "execution_count": 151,
   "metadata": {},
   "outputs": [
    {
     "data": {
      "text/plain": [
       "date           0\n",
       "type           0\n",
       "locale         0\n",
       "locale_name    0\n",
       "description    0\n",
       "transferred    0\n",
       "dtype: int64"
      ]
     },
     "execution_count": 151,
     "metadata": {},
     "output_type": "execute_result"
    }
   ],
   "source": [
    "holiday.isna().sum()"
   ]
  },
  {
   "cell_type": "code",
   "execution_count": 152,
   "metadata": {},
   "outputs": [
    {
     "data": {
      "text/plain": [
       "date           0\n",
       "dcoilwtico    43\n",
       "dtype: int64"
      ]
     },
     "execution_count": 152,
     "metadata": {},
     "output_type": "execute_result"
    }
   ],
   "source": [
    "oil.isna().sum()"
   ]
  },
  {
   "cell_type": "code",
   "execution_count": 153,
   "metadata": {},
   "outputs": [
    {
     "data": {
      "text/html": [
       "<div>\n",
       "<style scoped>\n",
       "    .dataframe tbody tr th:only-of-type {\n",
       "        vertical-align: middle;\n",
       "    }\n",
       "\n",
       "    .dataframe tbody tr th {\n",
       "        vertical-align: top;\n",
       "    }\n",
       "\n",
       "    .dataframe thead th {\n",
       "        text-align: right;\n",
       "    }\n",
       "</style>\n",
       "<table border=\"1\" class=\"dataframe\">\n",
       "  <thead>\n",
       "    <tr style=\"text-align: right;\">\n",
       "      <th></th>\n",
       "      <th>date</th>\n",
       "      <th>dcoilwtico</th>\n",
       "    </tr>\n",
       "  </thead>\n",
       "  <tbody>\n",
       "    <tr>\n",
       "      <th>count</th>\n",
       "      <td>1218</td>\n",
       "      <td>1175.000000</td>\n",
       "    </tr>\n",
       "    <tr>\n",
       "      <th>mean</th>\n",
       "      <td>2015-05-02 12:00:00</td>\n",
       "      <td>67.714366</td>\n",
       "    </tr>\n",
       "    <tr>\n",
       "      <th>min</th>\n",
       "      <td>2013-01-01 00:00:00</td>\n",
       "      <td>26.190001</td>\n",
       "    </tr>\n",
       "    <tr>\n",
       "      <th>25%</th>\n",
       "      <td>2014-03-03 06:00:00</td>\n",
       "      <td>46.405001</td>\n",
       "    </tr>\n",
       "    <tr>\n",
       "      <th>50%</th>\n",
       "      <td>2015-05-02 12:00:00</td>\n",
       "      <td>53.189999</td>\n",
       "    </tr>\n",
       "    <tr>\n",
       "      <th>75%</th>\n",
       "      <td>2016-06-30 18:00:00</td>\n",
       "      <td>95.660000</td>\n",
       "    </tr>\n",
       "    <tr>\n",
       "      <th>max</th>\n",
       "      <td>2017-08-31 00:00:00</td>\n",
       "      <td>110.620003</td>\n",
       "    </tr>\n",
       "    <tr>\n",
       "      <th>std</th>\n",
       "      <td>NaN</td>\n",
       "      <td>25.630476</td>\n",
       "    </tr>\n",
       "  </tbody>\n",
       "</table>\n",
       "</div>"
      ],
      "text/plain": [
       "                      date   dcoilwtico\n",
       "count                 1218  1175.000000\n",
       "mean   2015-05-02 12:00:00    67.714366\n",
       "min    2013-01-01 00:00:00    26.190001\n",
       "25%    2014-03-03 06:00:00    46.405001\n",
       "50%    2015-05-02 12:00:00    53.189999\n",
       "75%    2016-06-30 18:00:00    95.660000\n",
       "max    2017-08-31 00:00:00   110.620003\n",
       "std                    NaN    25.630476"
      ]
     },
     "execution_count": 153,
     "metadata": {},
     "output_type": "execute_result"
    }
   ],
   "source": [
    "# look at the numeric values in oil df\n",
    "oil.describe()"
   ]
  },
  {
   "cell_type": "code",
   "execution_count": 154,
   "metadata": {},
   "outputs": [
    {
     "data": {
      "text/plain": [
       "0             NaN\n",
       "1       93.139999\n",
       "2       92.970001\n",
       "3       93.120003\n",
       "4       93.199997\n",
       "          ...    \n",
       "1213    47.650002\n",
       "1214    46.400002\n",
       "1215    46.459999\n",
       "1216    45.959999\n",
       "1217    47.259998\n",
       "Name: dcoilwtico, Length: 1218, dtype: float64"
      ]
     },
     "execution_count": 154,
     "metadata": {},
     "output_type": "execute_result"
    }
   ],
   "source": [
    "oil['dcoilwtico']"
   ]
  },
  {
   "cell_type": "markdown",
   "metadata": {},
   "source": [
    "The missing values in the oil dataframe have to be filled. Since the range between minimum and maximum values is very large and the values progress or decrease steadily it will be good to use the forward fill technique"
   ]
  },
  {
   "cell_type": "code",
   "execution_count": 155,
   "metadata": {},
   "outputs": [
    {
     "data": {
      "text/plain": [
       "array([         nan,  93.13999939,  92.97000122,  93.12000275,\n",
       "        93.19999695,  93.20999908,  93.08000183,  93.80999756,\n",
       "        93.59999847,  94.26999664,  93.26000214,  94.27999878,\n",
       "        95.48999786,  95.61000061,  96.08999634,  95.05999756,\n",
       "        95.34999847,  95.15000153,  95.94999695,  97.62000275,\n",
       "        97.98000336,  97.65000153,  97.45999908,  96.20999908,\n",
       "        96.68000031,  96.44000244,  95.83999634,  95.70999908,\n",
       "        97.01000214,  97.48000336,  97.02999878,  97.30000305,\n",
       "        96.69000244,  94.91999817,  92.79000092,  92.73999786,\n",
       "        92.62999725,  92.83999634,  92.02999878,  90.70999908,\n",
       "        90.12999725,  90.87999725,  90.47000122,  91.52999878,\n",
       "        92.01000214,  92.06999969,  92.44000244,  92.47000122,\n",
       "        93.02999878,  93.48999786,  93.70999908,  92.45999908,\n",
       "        93.41000366,  94.55000305,  95.98999786,  96.52999878,\n",
       "        97.23999786,  97.09999847,  97.23000336,  95.01999664,\n",
       "        92.76000214,  93.36000061,  94.18000031,  94.58999634,\n",
       "        93.44000244,  91.23000336,  88.75      ,  88.73000336,\n",
       "        86.65000153,  87.83000183,  88.04000092,  88.80999756,\n",
       "        89.20999908,  91.06999969,  93.26999664,  94.08999634,\n",
       "        93.22000122,  90.73999786,  93.69999695,  95.25      ,\n",
       "        95.80000305,  95.27999878,  96.23999786,  95.80999756,\n",
       "        94.76000214,  93.95999908,  93.94999695,  94.84999847,\n",
       "        95.72000122,  96.29000092,  95.55000305,  93.98000336,\n",
       "        94.12000275,  93.83999634,  94.65000153,  93.12999725,\n",
       "        93.56999969,  91.93000031,  93.66000366,  94.70999908,\n",
       "        96.11000061,  95.81999969,  95.5       ,  95.98000336,\n",
       "        96.66000366,  97.83000183,  97.86000061,  98.45999908,\n",
       "        98.23999786,  94.88999939,  95.06999969,  95.47000122,\n",
       "        97.        ,  96.36000061,  97.94000244,  99.65000153,\n",
       "       101.91999817, 103.08999634, 103.02999878, 103.45999908,\n",
       "       106.41000366, 104.76999664, 105.84999847, 106.19999695,\n",
       "       105.87999725, 106.38999939, 107.94000244, 108.        ,\n",
       "       106.61000061, 107.12999725, 105.41000366, 105.47000122,\n",
       "       104.76000214, 104.61000061, 103.13999939, 105.09999847,\n",
       "       107.93000031, 106.94000244, 105.31999969, 104.41000366,\n",
       "       103.44999695, 106.04000092, 106.19000244, 106.77999878,\n",
       "       106.88999939, 107.43000031, 107.58000183, 107.13999939,\n",
       "       104.90000153, 103.93000031, 104.93000031, 106.48000336,\n",
       "       109.11000061, 110.16999817, 108.51000214, 107.98000336,\n",
       "       108.66999817, 107.29000092, 108.5       , 110.62000275,\n",
       "       109.62000275, 107.48000336, 107.65000153, 108.72000122,\n",
       "       108.30999756, 106.54000092, 105.36000061, 108.23000336,\n",
       "       106.26000214, 104.69999695, 103.62000275, 103.22000122,\n",
       "       102.68000031, 103.09999847, 102.86000061, 102.36000061,\n",
       "       102.08999634, 104.15000153, 103.29000092, 103.83000183,\n",
       "       103.06999969, 103.54000092, 101.62999725, 103.08000183,\n",
       "       102.16999817, 102.45999908, 101.15000153, 102.33999634,\n",
       "       100.72000122, 100.87000275,  99.27999878,  97.62999725,\n",
       "        96.90000153,  96.65000153,  97.40000153,  98.73999786,\n",
       "        98.29000092,  96.80999756,  94.55999756,  94.58000183,\n",
       "        93.40000153,  94.73999786,  94.25      ,  95.12999725,\n",
       "        93.91000366,  93.76000214,  93.80000305,  93.34999847,\n",
       "        93.33999634,  94.52999878,  93.86000061,  92.05000305,\n",
       "        92.55000305,  93.61000061,  95.83000183,  96.97000122,\n",
       "        97.13999939,  98.31999969,  97.25      ,  97.20999908,\n",
       "        96.26999664,  97.18000031,  96.98999786,  97.58999634,\n",
       "        98.40000153,  99.11000061,  98.62000275,  98.87000275,\n",
       "        99.18000031,  99.94000244,  98.90000153,  98.16999817,\n",
       "        95.13999939,  93.30999756,  91.90000153,  91.36000061,\n",
       "        92.38999939,  91.44999695,  92.15000153,  93.77999878,\n",
       "        93.54000092,  94.51000214,  96.34999847,  97.48999786,\n",
       "        97.33999634,  98.25      ,  97.55000305,  97.83999634,\n",
       "        99.98000336, 100.12000275,  99.95999908, 100.37999725,\n",
       "       100.26999664, 100.30999756, 102.54000092, 103.19999695,\n",
       "       102.52999878, 103.16999817, 102.19999695, 102.93000031,\n",
       "       102.87999725, 105.33999634, 103.63999939, 101.75      ,\n",
       "       101.81999969, 102.81999969, 101.38999939, 100.29000092,\n",
       "        98.56999969,  99.23000336,  98.43000031, 100.08000183,\n",
       "       100.70999908,  99.68000031,  99.97000122, 100.05000305,\n",
       "        99.66000366, 100.61000061, 101.25      , 101.73000336,\n",
       "       101.56999969,  99.69000244,  99.59999847, 101.16000366,\n",
       "       100.43000031, 102.56999969, 103.55000305, 103.37000275,\n",
       "       103.68000031, 104.05000305, 103.69999695, 103.70999908,\n",
       "       104.33000183, 104.34999847, 101.69000244, 101.47000122,\n",
       "       100.84999847, 101.12999725, 101.55999756, 100.06999969,\n",
       "       100.08999634,  99.73999786,  99.80999756, 101.05999756,\n",
       "       100.51999664, 100.31999969, 100.88999939, 102.01000214,\n",
       "       102.62999725, 101.73999786, 102.30999756, 102.94999695,\n",
       "       102.80000305, 104.30999756, 104.02999878, 105.01000214,\n",
       "       104.77999878, 104.26000214, 103.40000153, 103.33999634,\n",
       "       103.26999664, 103.31999969, 105.08999634, 105.01999664,\n",
       "       105.04000092, 107.19999695, 107.48999786, 107.51999664,\n",
       "       106.94999695, 106.63999939, 107.08000183, 107.94999695,\n",
       "       106.83000183, 107.04000092, 106.48999786, 106.45999908,\n",
       "       106.06999969, 106.05999756, 105.18000031, 104.19000244,\n",
       "       104.05999756, 103.61000061, 101.48000336, 100.55999756,\n",
       "       101.87999725, 103.83999634, 104.58999634, 103.80999756,\n",
       "       102.76000214, 105.23000336, 105.68000031, 104.91000366,\n",
       "       104.29000092,  98.23000336,  98.26000214,  96.93000031,\n",
       "        97.61000061,  98.08999634,  97.36000061,  97.56999969,\n",
       "        95.54000092,  94.34999847,  96.40000153,  93.97000122,\n",
       "        95.38999939,  95.77999878,  92.91999817,  93.31999969,\n",
       "        92.63999939,  92.73000336,  91.70999908,  92.88999939,\n",
       "        92.18000031,  92.86000061,  94.91000366,  94.33000183,\n",
       "        93.06999969,  92.43000031,  91.45999908,  91.55000305,\n",
       "        93.58999634,  91.16999817,  91.01999664,  89.76000214,\n",
       "        90.33000183,  88.88999939,  87.29000092,  85.76000214,\n",
       "        85.87000275,  85.73000336,  81.72000122,  81.81999969,\n",
       "        82.33000183,  82.80000305,  82.76000214,  83.25      ,\n",
       "        80.51999664,  82.80999756,  81.26999664,  81.26000214,\n",
       "        81.36000061,  82.25      ,  81.05999756,  80.52999878,\n",
       "        78.76999664,  77.15000153,  78.70999908,  77.87000275,\n",
       "        77.43000031,  77.84999847,  77.16000366,  74.12999725,\n",
       "        75.91000366,  75.63999939,  74.55000305,  75.62999725,\n",
       "        76.51999664,  75.73999786,  74.04000092,  73.69999695,\n",
       "        65.94000244,  68.98000336,  66.98999786,  67.30000305,\n",
       "        66.73000336,  65.88999939,  63.13000107,  63.74000168,\n",
       "        60.99000168,  60.00999832,  57.81000137,  55.95999908,\n",
       "        55.97000122,  56.43000031,  54.18000031,  56.90999985,\n",
       "        55.25      ,  56.77999878,  55.70000076,  54.59000015,\n",
       "        53.45999908,  54.13999939,  53.45000076,  52.72000122,\n",
       "        50.04999924,  47.97999954,  48.68999863,  48.79999924,\n",
       "        48.34999847,  46.06000137,  45.91999817,  48.49000168,\n",
       "        46.36999893,  46.79000092,  47.84999847,  45.93000031,\n",
       "        45.25999832,  44.79999924,  45.84000015,  44.08000183,\n",
       "        44.11999893,  47.79000092,  49.25      ,  53.04000092,\n",
       "        48.45000076,  50.47999954,  51.65999985,  52.99000168,\n",
       "        50.06000137,  51.16999817,  52.65999985,  53.56000137,\n",
       "        52.13000107,  51.11999893,  49.95000076,  49.56000137,\n",
       "        48.47999954,  50.25      ,  47.65000153,  49.84000015,\n",
       "        49.59000015,  50.43000031,  51.52999878,  50.75999832,\n",
       "        49.61000061,  48.41999817,  48.06000137,  47.11999893,\n",
       "        44.88000107,  43.93000031,  43.38999939,  44.63000107,\n",
       "        44.02000046,  46.        ,  47.40000153,  47.02999878,\n",
       "        48.75      ,  51.40999985,  48.83000183,  48.65999985,\n",
       "        47.72000122,  50.11999893,  49.13000107,  52.08000183,\n",
       "        53.95000076,  50.43999863,  50.79000092,  51.63000107,\n",
       "        51.95000076,  53.29999924,  56.25      ,  56.68999863,\n",
       "        55.70999908,  56.36999893,  55.58000183,  56.16999817,\n",
       "        56.59000015,  55.97999954,  55.56000137,  57.04999924,\n",
       "        58.54999924,  59.61999893,  59.09999847,  58.91999817,\n",
       "        60.38000107,  60.93000031,  58.99000168,  59.40999985,\n",
       "        59.22999954,  60.72000122,  60.5       ,  59.88999939,\n",
       "        59.72999954,  59.43999863,  57.29999924,  58.95999908,\n",
       "        60.18000031,  58.88000107,  57.29000092,  57.50999832,\n",
       "        57.68999863,  60.25      ,  60.24000168,  61.29999924,\n",
       "        59.66999817,  58.        ,  59.11000061,  58.15000153,\n",
       "        60.15000153,  61.36000061,  60.74000168,  59.95999908,\n",
       "        59.52999878,  60.40999985,  61.04999924,  59.59000015,\n",
       "        58.34000015,  59.47999954,  56.93999863,  56.93000031,\n",
       "        52.47999954,  52.33000183,  51.61000061,  52.75999832,\n",
       "        52.74000168,  52.18999863,  53.04999924,  51.40000153,\n",
       "        50.90000153,  50.88000107,  50.11000061,  50.59000015,\n",
       "        49.27000046,  48.11000061,  47.16999817,  47.97000122,\n",
       "        48.77000046,  48.52999878,  47.11000061,  45.25      ,\n",
       "        45.75      ,  45.13000107,  44.68999863,  43.86999893,\n",
       "        44.93999863,  43.11000061,  43.22000122,  42.27000046,\n",
       "        42.45000076,  41.93000031,  42.58000183,  40.75      ,\n",
       "        41.        ,  40.45000076,  38.22000122,  39.15000153,\n",
       "        38.5       ,  42.47000122,  45.29000092,  49.20000076,\n",
       "        45.38000107,  46.29999924,  46.75      ,  46.02000046,\n",
       "        44.13000107,  45.84999847,  44.75      ,  44.06999969,\n",
       "        44.58000183,  46.93000031,  44.70999908,  46.66999817,\n",
       "        46.16999817,  44.52999878,  45.54999924,  44.40000153,\n",
       "        45.24000168,  45.06000137,  45.54000092,  46.27999878,\n",
       "        47.86000061,  49.45999908,  49.66999817,  47.09000015,\n",
       "        46.70000076,  46.63000107,  46.38000107,  47.29999924,\n",
       "        45.90999985,  45.22000122,  44.90000153,  43.90999985,\n",
       "        43.18999863,  43.20999908,  46.59999847,  46.11999893,\n",
       "        47.88000107,  46.31999969,  45.27000046,  44.31999969,\n",
       "        44.22999954,  42.95000076,  41.74000168,  40.68999863,\n",
       "        41.68000031,  40.72999954,  40.54999924,  39.38999939,\n",
       "        39.27000046,  40.88999939,  41.22000122,  40.56999969,\n",
       "        40.43000031,  40.58000183,  39.93000031,  41.08000183,\n",
       "        40.        ,  37.63999939,  37.45999908,  37.15999985,\n",
       "        36.75999832,  35.65000153,  36.31000137,  37.31999969,\n",
       "        35.54999924,  34.97999954,  34.72000122,  34.54999924,\n",
       "        36.11999893,  37.61999893,  36.36000061,  37.88000107,\n",
       "        36.59000015,  37.13000107,  36.81000137,  35.97000122,\n",
       "        33.97000122,  33.29000092,  33.20000076,  31.42000008,\n",
       "        30.42000008,  31.21999931,  29.45000076,  28.46999931,\n",
       "        26.68000031,  29.54999924,  32.06999969,  30.30999947,\n",
       "        29.54000092,  32.31999969,  33.20999908,  33.65999985,\n",
       "        31.62000084,  29.89999962,  32.29000092,  31.62999916,\n",
       "        30.86000061,  29.70999908,  27.95999908,  27.54000092,\n",
       "        26.19000053,  29.31999969,  29.04999924,  30.68000031,\n",
       "        30.77000046,  29.59000015,  31.37000084,  31.84000015,\n",
       "        30.35000038,  31.39999962,  31.64999962,  32.74000168,\n",
       "        34.38999939,  34.56999969,  34.56000137,  35.90999985,\n",
       "        37.90000153,  36.66999817,  37.77000046,  38.50999832,\n",
       "        37.20000076,  36.31999969,  38.43000031,  40.16999817,\n",
       "        39.47000122,  39.90999985,  41.45000076,  38.27999878,\n",
       "        38.13999939,  37.99000168,  36.90999985,  36.93999863,\n",
       "        35.36000061,  34.29999924,  34.52000046,  37.74000168,\n",
       "        37.29999924,  39.74000168,  40.45999908,  42.11999893,\n",
       "        41.70000076,  40.40000153,  40.88000107,  42.72000122,\n",
       "        43.18000031,  42.75999832,  41.66999817,  42.52000046,\n",
       "        46.02999878,  45.97999954,  43.65000153,  43.77000046,\n",
       "        44.33000183,  43.45000076,  44.68000031,  46.20999908,\n",
       "        46.63999939,  46.22000122,  48.29000092,  48.11999893,\n",
       "        48.15999985,  47.66999817,  48.04000092,  49.09999847,\n",
       "        49.        ,  49.36000061,  49.06999969,  49.13999939,\n",
       "        49.70999908,  50.36999893,  51.22999954,  50.52000046,\n",
       "        49.09000015,  48.88999939,  47.91999817,  46.13999939,\n",
       "        48.        ,  49.40000153,  48.95000076,  49.15999985,\n",
       "        49.34000015,  45.79999924,  47.93000031,  49.84999847,\n",
       "        48.27000046,  49.02000046,  46.72999954,  47.36999893,\n",
       "        45.36999893,  44.72999954,  46.81999969,  44.86999893,\n",
       "        45.63999939,  45.22999954,  44.63999939,  44.95999908,\n",
       "        43.95999908,  43.40999985,  42.40000153,  42.15999985,\n",
       "        41.90000153,  41.13000107,  41.54000092,  40.04999924,\n",
       "        39.5       ,  40.79999924,  41.91999817,  41.83000183,\n",
       "        43.06000137,  42.77999878,  41.75      ,  43.50999832,\n",
       "        44.47000122,  45.72000122,  46.56999969,  46.81000137,\n",
       "        48.20000076,  46.79999924,  47.54000092,  46.29000092,\n",
       "        46.97000122,  47.63999939,  43.16999817,  44.38999939,\n",
       "        44.84999847,  45.47000122,  47.63000107,  45.88000107,\n",
       "        44.90999985,  43.61999893,  43.84999847,  43.04000092,\n",
       "        43.34000015,  45.33000183,  46.09999847,  44.36000061,\n",
       "        45.59999847,  44.65000153,  47.06999969,  48.66999817,\n",
       "        49.75      ,  49.75999832,  50.72000122,  50.13999939,\n",
       "        50.47000122,  50.34999847,  49.97000122,  50.29999924,\n",
       "        51.59000015,  50.31000137,  50.61000061,  50.18000031,\n",
       "        49.45000076,  48.72000122,  46.83000183,  46.65999985,\n",
       "        45.31999969,  44.65999985,  45.20000076,  44.61999893,\n",
       "        43.29000092,  45.86000061,  45.56000137,  45.68999863,\n",
       "        47.47999954,  48.06999969,  46.72000122,  45.65999985,\n",
       "        49.40999985,  51.08000183,  51.70000076,  51.72000122,\n",
       "        50.95000076,  50.84000015,  51.50999832,  51.00999832,\n",
       "        51.93000031,  52.22000122,  51.43999863,  51.97999954,\n",
       "        52.00999832,  52.81999969,  54.00999832,  53.79999924,\n",
       "        53.75      ,  52.36000061,  53.25999832,  53.77000046,\n",
       "        53.97999954,  50.81999969,  53.00999832,  52.45000076,\n",
       "        51.38999939,  52.77000046,  52.38000107,  52.13999939,\n",
       "        53.24000168,  53.18000031,  52.63000107,  52.75      ,\n",
       "        53.90000153,  53.54999924,  53.81000137,  52.36999893,\n",
       "        53.84000015,  52.95999908,  53.20999908,  53.11000061,\n",
       "        53.40999985,  54.02000046,  53.61000061,  54.47999954,\n",
       "        53.99000168,  54.04000092,  54.        ,  53.81999969,\n",
       "        53.33000183,  53.18999863,  52.68000031,  49.83000183,\n",
       "        48.04999924,  47.95000076,  47.24000168,  48.34000015,\n",
       "        48.29999924,  47.02000046,  47.29000092,  47.        ,\n",
       "        48.36000061,  49.47000122,  50.54000092,  50.99000168,\n",
       "        51.13999939,  51.68999863,  52.25      ,  53.06000137,\n",
       "        53.38000107,  53.11999893,  52.61999893,  52.45999908,\n",
       "        50.49000168,  50.25999832,  49.63999939,  48.90000153,\n",
       "        49.22000122,  48.95999908,  49.31000137,  46.22999954,\n",
       "        46.45999908,  47.27999878,  47.81000137,  47.83000183,\n",
       "        48.86000061,  48.63999939,  49.04000092,  50.31999969,\n",
       "        50.81000137,  48.56999969,  49.58000183,  49.63000107,\n",
       "        48.31999969,  47.68000031,  48.13000107,  45.68000031,\n",
       "        45.81999969,  46.40999985,  44.79000092,  44.24000168,\n",
       "        42.47999954,  42.52999878,  42.86000061,  43.24000168,\n",
       "        44.25      ,  44.74000168,  45.11000061,  45.52000046,\n",
       "        45.47999954,  46.52999878,  46.40000153,  47.09999847,\n",
       "        45.77999878,  47.77000046,  48.58000183,  49.04999924,\n",
       "        49.72000122,  50.20999908,  49.18999863,  49.59999847,\n",
       "        49.02999878,  49.56999969,  49.36999893,  48.54000092,\n",
       "        48.81000137,  47.59000015,  47.56999969,  48.59000015,\n",
       "        47.38999939,  45.95999908,  47.25999832])"
      ]
     },
     "execution_count": 155,
     "metadata": {},
     "output_type": "execute_result"
    }
   ],
   "source": [
    "oil['dcoilwtico'].unique()"
   ]
  },
  {
   "cell_type": "code",
   "execution_count": 156,
   "metadata": {},
   "outputs": [],
   "source": [
    "# Replace nan value with np.nan\n",
    "oil.replace('nan', np.nan, inplace=True)"
   ]
  },
  {
   "cell_type": "code",
   "execution_count": 157,
   "metadata": {},
   "outputs": [],
   "source": [
    "# Fill null values with forward fill\n",
    "oil = oil.fillna(method = 'ffill')"
   ]
  },
  {
   "cell_type": "code",
   "execution_count": 158,
   "metadata": {},
   "outputs": [
    {
     "data": {
      "text/plain": [
       "date          0\n",
       "dcoilwtico    1\n",
       "dtype: int64"
      ]
     },
     "execution_count": 158,
     "metadata": {},
     "output_type": "execute_result"
    }
   ],
   "source": [
    "oil.isna().sum()"
   ]
  },
  {
   "cell_type": "code",
   "execution_count": 159,
   "metadata": {},
   "outputs": [
    {
     "data": {
      "text/html": [
       "<div>\n",
       "<style scoped>\n",
       "    .dataframe tbody tr th:only-of-type {\n",
       "        vertical-align: middle;\n",
       "    }\n",
       "\n",
       "    .dataframe tbody tr th {\n",
       "        vertical-align: top;\n",
       "    }\n",
       "\n",
       "    .dataframe thead th {\n",
       "        text-align: right;\n",
       "    }\n",
       "</style>\n",
       "<table border=\"1\" class=\"dataframe\">\n",
       "  <thead>\n",
       "    <tr style=\"text-align: right;\">\n",
       "      <th></th>\n",
       "      <th>date</th>\n",
       "      <th>dcoilwtico</th>\n",
       "    </tr>\n",
       "  </thead>\n",
       "  <tbody>\n",
       "    <tr>\n",
       "      <th>0</th>\n",
       "      <td>2013-01-01</td>\n",
       "      <td>NaN</td>\n",
       "    </tr>\n",
       "    <tr>\n",
       "      <th>1</th>\n",
       "      <td>2013-01-02</td>\n",
       "      <td>93.139999</td>\n",
       "    </tr>\n",
       "    <tr>\n",
       "      <th>2</th>\n",
       "      <td>2013-01-03</td>\n",
       "      <td>92.970001</td>\n",
       "    </tr>\n",
       "    <tr>\n",
       "      <th>3</th>\n",
       "      <td>2013-01-04</td>\n",
       "      <td>93.120003</td>\n",
       "    </tr>\n",
       "    <tr>\n",
       "      <th>4</th>\n",
       "      <td>2013-01-07</td>\n",
       "      <td>93.199997</td>\n",
       "    </tr>\n",
       "  </tbody>\n",
       "</table>\n",
       "</div>"
      ],
      "text/plain": [
       "        date  dcoilwtico\n",
       "0 2013-01-01         NaN\n",
       "1 2013-01-02   93.139999\n",
       "2 2013-01-03   92.970001\n",
       "3 2013-01-04   93.120003\n",
       "4 2013-01-07   93.199997"
      ]
     },
     "execution_count": 159,
     "metadata": {},
     "output_type": "execute_result"
    }
   ],
   "source": [
    "oil.head()"
   ]
  },
  {
   "cell_type": "code",
   "execution_count": 160,
   "metadata": {},
   "outputs": [],
   "source": [
    "# single missing value is at the start of the dataframe so fill with backward fill \n",
    "oil = oil.fillna(method = 'bfill')"
   ]
  },
  {
   "cell_type": "code",
   "execution_count": 161,
   "metadata": {},
   "outputs": [
    {
     "data": {
      "text/plain": [
       "date          0\n",
       "dcoilwtico    0\n",
       "dtype: int64"
      ]
     },
     "execution_count": 161,
     "metadata": {},
     "output_type": "execute_result"
    }
   ],
   "source": [
    "oil.isna().sum()"
   ]
  },
  {
   "cell_type": "code",
   "execution_count": 162,
   "metadata": {},
   "outputs": [
    {
     "data": {
      "text/plain": [
       "store_nbr    0\n",
       "city         0\n",
       "state        0\n",
       "type         0\n",
       "cluster      0\n",
       "dtype: int64"
      ]
     },
     "execution_count": 162,
     "metadata": {},
     "output_type": "execute_result"
    }
   ],
   "source": [
    "stores.isna().sum()"
   ]
  },
  {
   "cell_type": "code",
   "execution_count": 163,
   "metadata": {},
   "outputs": [
    {
     "data": {
      "text/plain": [
       "id             0\n",
       "date           0\n",
       "store_nbr      0\n",
       "family         0\n",
       "onpromotion    0\n",
       "dtype: int64"
      ]
     },
     "execution_count": 163,
     "metadata": {},
     "output_type": "execute_result"
    }
   ],
   "source": [
    "test.isna().sum()"
   ]
  },
  {
   "cell_type": "markdown",
   "metadata": {},
   "source": [
    "### Make Date the index in dataframes"
   ]
  },
  {
   "cell_type": "code",
   "execution_count": 164,
   "metadata": {},
   "outputs": [],
   "source": [
    "# train dataframe \n",
    "train.set_index('date', inplace=True)"
   ]
  },
  {
   "cell_type": "code",
   "execution_count": 165,
   "metadata": {},
   "outputs": [
    {
     "data": {
      "text/html": [
       "<div>\n",
       "<style scoped>\n",
       "    .dataframe tbody tr th:only-of-type {\n",
       "        vertical-align: middle;\n",
       "    }\n",
       "\n",
       "    .dataframe tbody tr th {\n",
       "        vertical-align: top;\n",
       "    }\n",
       "\n",
       "    .dataframe thead th {\n",
       "        text-align: right;\n",
       "    }\n",
       "</style>\n",
       "<table border=\"1\" class=\"dataframe\">\n",
       "  <thead>\n",
       "    <tr style=\"text-align: right;\">\n",
       "      <th></th>\n",
       "      <th>id</th>\n",
       "      <th>store_nbr</th>\n",
       "      <th>family</th>\n",
       "      <th>sales</th>\n",
       "      <th>onpromotion</th>\n",
       "    </tr>\n",
       "    <tr>\n",
       "      <th>date</th>\n",
       "      <th></th>\n",
       "      <th></th>\n",
       "      <th></th>\n",
       "      <th></th>\n",
       "      <th></th>\n",
       "    </tr>\n",
       "  </thead>\n",
       "  <tbody>\n",
       "    <tr>\n",
       "      <th>2013-01-01</th>\n",
       "      <td>0</td>\n",
       "      <td>1</td>\n",
       "      <td>AUTOMOTIVE</td>\n",
       "      <td>0.0</td>\n",
       "      <td>0</td>\n",
       "    </tr>\n",
       "    <tr>\n",
       "      <th>2013-01-01</th>\n",
       "      <td>1</td>\n",
       "      <td>1</td>\n",
       "      <td>BABY CARE</td>\n",
       "      <td>0.0</td>\n",
       "      <td>0</td>\n",
       "    </tr>\n",
       "  </tbody>\n",
       "</table>\n",
       "</div>"
      ],
      "text/plain": [
       "            id  store_nbr      family  sales  onpromotion\n",
       "date                                                     \n",
       "2013-01-01   0          1  AUTOMOTIVE    0.0            0\n",
       "2013-01-01   1          1   BABY CARE    0.0            0"
      ]
     },
     "execution_count": 165,
     "metadata": {},
     "output_type": "execute_result"
    }
   ],
   "source": [
    "train.head(2)"
   ]
  },
  {
   "cell_type": "code",
   "execution_count": 166,
   "metadata": {},
   "outputs": [],
   "source": [
    "# transactions dataframe \n",
    "transactions.set_index('date', inplace=True)"
   ]
  },
  {
   "cell_type": "code",
   "execution_count": 167,
   "metadata": {},
   "outputs": [
    {
     "data": {
      "text/html": [
       "<div>\n",
       "<style scoped>\n",
       "    .dataframe tbody tr th:only-of-type {\n",
       "        vertical-align: middle;\n",
       "    }\n",
       "\n",
       "    .dataframe tbody tr th {\n",
       "        vertical-align: top;\n",
       "    }\n",
       "\n",
       "    .dataframe thead th {\n",
       "        text-align: right;\n",
       "    }\n",
       "</style>\n",
       "<table border=\"1\" class=\"dataframe\">\n",
       "  <thead>\n",
       "    <tr style=\"text-align: right;\">\n",
       "      <th></th>\n",
       "      <th>store_nbr</th>\n",
       "      <th>transactions</th>\n",
       "    </tr>\n",
       "    <tr>\n",
       "      <th>date</th>\n",
       "      <th></th>\n",
       "      <th></th>\n",
       "    </tr>\n",
       "  </thead>\n",
       "  <tbody>\n",
       "    <tr>\n",
       "      <th>2013-01-01</th>\n",
       "      <td>25</td>\n",
       "      <td>770</td>\n",
       "    </tr>\n",
       "    <tr>\n",
       "      <th>2013-01-02</th>\n",
       "      <td>1</td>\n",
       "      <td>2111</td>\n",
       "    </tr>\n",
       "  </tbody>\n",
       "</table>\n",
       "</div>"
      ],
      "text/plain": [
       "            store_nbr  transactions\n",
       "date                               \n",
       "2013-01-01         25           770\n",
       "2013-01-02          1          2111"
      ]
     },
     "execution_count": 167,
     "metadata": {},
     "output_type": "execute_result"
    }
   ],
   "source": [
    "transactions.head(2)"
   ]
  },
  {
   "cell_type": "code",
   "execution_count": 168,
   "metadata": {},
   "outputs": [],
   "source": [
    "# holiday dataframe \n",
    "holiday.set_index('date', inplace=True)"
   ]
  },
  {
   "cell_type": "code",
   "execution_count": 169,
   "metadata": {},
   "outputs": [
    {
     "data": {
      "text/html": [
       "<div>\n",
       "<style scoped>\n",
       "    .dataframe tbody tr th:only-of-type {\n",
       "        vertical-align: middle;\n",
       "    }\n",
       "\n",
       "    .dataframe tbody tr th {\n",
       "        vertical-align: top;\n",
       "    }\n",
       "\n",
       "    .dataframe thead th {\n",
       "        text-align: right;\n",
       "    }\n",
       "</style>\n",
       "<table border=\"1\" class=\"dataframe\">\n",
       "  <thead>\n",
       "    <tr style=\"text-align: right;\">\n",
       "      <th></th>\n",
       "      <th>type</th>\n",
       "      <th>locale</th>\n",
       "      <th>locale_name</th>\n",
       "      <th>description</th>\n",
       "      <th>transferred</th>\n",
       "    </tr>\n",
       "    <tr>\n",
       "      <th>date</th>\n",
       "      <th></th>\n",
       "      <th></th>\n",
       "      <th></th>\n",
       "      <th></th>\n",
       "      <th></th>\n",
       "    </tr>\n",
       "  </thead>\n",
       "  <tbody>\n",
       "    <tr>\n",
       "      <th>2012-03-02</th>\n",
       "      <td>Holiday</td>\n",
       "      <td>Local</td>\n",
       "      <td>Manta</td>\n",
       "      <td>Fundacion de Manta</td>\n",
       "      <td>False</td>\n",
       "    </tr>\n",
       "    <tr>\n",
       "      <th>2012-04-01</th>\n",
       "      <td>Holiday</td>\n",
       "      <td>Regional</td>\n",
       "      <td>Cotopaxi</td>\n",
       "      <td>Provincializacion de Cotopaxi</td>\n",
       "      <td>False</td>\n",
       "    </tr>\n",
       "  </tbody>\n",
       "</table>\n",
       "</div>"
      ],
      "text/plain": [
       "               type    locale locale_name                    description  \\\n",
       "date                                                                       \n",
       "2012-03-02  Holiday     Local       Manta             Fundacion de Manta   \n",
       "2012-04-01  Holiday  Regional    Cotopaxi  Provincializacion de Cotopaxi   \n",
       "\n",
       "            transferred  \n",
       "date                     \n",
       "2012-03-02        False  \n",
       "2012-04-01        False  "
      ]
     },
     "execution_count": 169,
     "metadata": {},
     "output_type": "execute_result"
    }
   ],
   "source": [
    "holiday.head(2)"
   ]
  },
  {
   "cell_type": "code",
   "execution_count": 170,
   "metadata": {},
   "outputs": [],
   "source": [
    "# oil dataframe \n",
    "oil.set_index('date', inplace=True)"
   ]
  },
  {
   "cell_type": "code",
   "execution_count": 171,
   "metadata": {},
   "outputs": [
    {
     "data": {
      "text/html": [
       "<div>\n",
       "<style scoped>\n",
       "    .dataframe tbody tr th:only-of-type {\n",
       "        vertical-align: middle;\n",
       "    }\n",
       "\n",
       "    .dataframe tbody tr th {\n",
       "        vertical-align: top;\n",
       "    }\n",
       "\n",
       "    .dataframe thead th {\n",
       "        text-align: right;\n",
       "    }\n",
       "</style>\n",
       "<table border=\"1\" class=\"dataframe\">\n",
       "  <thead>\n",
       "    <tr style=\"text-align: right;\">\n",
       "      <th></th>\n",
       "      <th>dcoilwtico</th>\n",
       "    </tr>\n",
       "    <tr>\n",
       "      <th>date</th>\n",
       "      <th></th>\n",
       "    </tr>\n",
       "  </thead>\n",
       "  <tbody>\n",
       "    <tr>\n",
       "      <th>2013-01-01</th>\n",
       "      <td>93.139999</td>\n",
       "    </tr>\n",
       "    <tr>\n",
       "      <th>2013-01-02</th>\n",
       "      <td>93.139999</td>\n",
       "    </tr>\n",
       "  </tbody>\n",
       "</table>\n",
       "</div>"
      ],
      "text/plain": [
       "            dcoilwtico\n",
       "date                  \n",
       "2013-01-01   93.139999\n",
       "2013-01-02   93.139999"
      ]
     },
     "execution_count": 171,
     "metadata": {},
     "output_type": "execute_result"
    }
   ],
   "source": [
    "oil.head(2)"
   ]
  },
  {
   "cell_type": "code",
   "execution_count": 172,
   "metadata": {},
   "outputs": [],
   "source": [
    "# test dataframe \n",
    "test.set_index('date', inplace=True)"
   ]
  },
  {
   "cell_type": "code",
   "execution_count": 173,
   "metadata": {},
   "outputs": [
    {
     "data": {
      "text/html": [
       "<div>\n",
       "<style scoped>\n",
       "    .dataframe tbody tr th:only-of-type {\n",
       "        vertical-align: middle;\n",
       "    }\n",
       "\n",
       "    .dataframe tbody tr th {\n",
       "        vertical-align: top;\n",
       "    }\n",
       "\n",
       "    .dataframe thead th {\n",
       "        text-align: right;\n",
       "    }\n",
       "</style>\n",
       "<table border=\"1\" class=\"dataframe\">\n",
       "  <thead>\n",
       "    <tr style=\"text-align: right;\">\n",
       "      <th></th>\n",
       "      <th>id</th>\n",
       "      <th>store_nbr</th>\n",
       "      <th>family</th>\n",
       "      <th>onpromotion</th>\n",
       "    </tr>\n",
       "    <tr>\n",
       "      <th>date</th>\n",
       "      <th></th>\n",
       "      <th></th>\n",
       "      <th></th>\n",
       "      <th></th>\n",
       "    </tr>\n",
       "  </thead>\n",
       "  <tbody>\n",
       "    <tr>\n",
       "      <th>2017-08-16</th>\n",
       "      <td>3000888</td>\n",
       "      <td>1</td>\n",
       "      <td>AUTOMOTIVE</td>\n",
       "      <td>0</td>\n",
       "    </tr>\n",
       "    <tr>\n",
       "      <th>2017-08-16</th>\n",
       "      <td>3000889</td>\n",
       "      <td>1</td>\n",
       "      <td>BABY CARE</td>\n",
       "      <td>0</td>\n",
       "    </tr>\n",
       "  </tbody>\n",
       "</table>\n",
       "</div>"
      ],
      "text/plain": [
       "                 id  store_nbr      family  onpromotion\n",
       "date                                                   \n",
       "2017-08-16  3000888          1  AUTOMOTIVE            0\n",
       "2017-08-16  3000889          1   BABY CARE            0"
      ]
     },
     "execution_count": 173,
     "metadata": {},
     "output_type": "execute_result"
    }
   ],
   "source": [
    "test.head(2)"
   ]
  },
  {
   "cell_type": "markdown",
   "metadata": {},
   "source": [
    "### Merge the dataframes"
   ]
  },
  {
   "cell_type": "code",
   "execution_count": 174,
   "metadata": {},
   "outputs": [],
   "source": [
    "# Merge the train and transactions dataframes based on the date and store number columns\n",
    "merged = pd.merge(train, transactions, on=['date', 'store_nbr'])"
   ]
  },
  {
   "cell_type": "code",
   "execution_count": 175,
   "metadata": {},
   "outputs": [
    {
     "data": {
      "text/html": [
       "<div>\n",
       "<style scoped>\n",
       "    .dataframe tbody tr th:only-of-type {\n",
       "        vertical-align: middle;\n",
       "    }\n",
       "\n",
       "    .dataframe tbody tr th {\n",
       "        vertical-align: top;\n",
       "    }\n",
       "\n",
       "    .dataframe thead th {\n",
       "        text-align: right;\n",
       "    }\n",
       "</style>\n",
       "<table border=\"1\" class=\"dataframe\">\n",
       "  <thead>\n",
       "    <tr style=\"text-align: right;\">\n",
       "      <th></th>\n",
       "      <th>id</th>\n",
       "      <th>store_nbr</th>\n",
       "      <th>family</th>\n",
       "      <th>sales</th>\n",
       "      <th>onpromotion</th>\n",
       "      <th>transactions</th>\n",
       "    </tr>\n",
       "    <tr>\n",
       "      <th>date</th>\n",
       "      <th></th>\n",
       "      <th></th>\n",
       "      <th></th>\n",
       "      <th></th>\n",
       "      <th></th>\n",
       "      <th></th>\n",
       "    </tr>\n",
       "  </thead>\n",
       "  <tbody>\n",
       "    <tr>\n",
       "      <th>2013-01-01</th>\n",
       "      <td>561</td>\n",
       "      <td>25</td>\n",
       "      <td>AUTOMOTIVE</td>\n",
       "      <td>0.0</td>\n",
       "      <td>0</td>\n",
       "      <td>770</td>\n",
       "    </tr>\n",
       "    <tr>\n",
       "      <th>2013-01-01</th>\n",
       "      <td>562</td>\n",
       "      <td>25</td>\n",
       "      <td>BABY CARE</td>\n",
       "      <td>0.0</td>\n",
       "      <td>0</td>\n",
       "      <td>770</td>\n",
       "    </tr>\n",
       "    <tr>\n",
       "      <th>2013-01-01</th>\n",
       "      <td>563</td>\n",
       "      <td>25</td>\n",
       "      <td>BEAUTY</td>\n",
       "      <td>2.0</td>\n",
       "      <td>0</td>\n",
       "      <td>770</td>\n",
       "    </tr>\n",
       "    <tr>\n",
       "      <th>2013-01-01</th>\n",
       "      <td>564</td>\n",
       "      <td>25</td>\n",
       "      <td>BEVERAGES</td>\n",
       "      <td>810.0</td>\n",
       "      <td>0</td>\n",
       "      <td>770</td>\n",
       "    </tr>\n",
       "    <tr>\n",
       "      <th>2013-01-01</th>\n",
       "      <td>565</td>\n",
       "      <td>25</td>\n",
       "      <td>BOOKS</td>\n",
       "      <td>0.0</td>\n",
       "      <td>0</td>\n",
       "      <td>770</td>\n",
       "    </tr>\n",
       "  </tbody>\n",
       "</table>\n",
       "</div>"
      ],
      "text/plain": [
       "             id  store_nbr      family  sales  onpromotion  transactions\n",
       "date                                                                    \n",
       "2013-01-01  561         25  AUTOMOTIVE    0.0            0           770\n",
       "2013-01-01  562         25   BABY CARE    0.0            0           770\n",
       "2013-01-01  563         25      BEAUTY    2.0            0           770\n",
       "2013-01-01  564         25   BEVERAGES  810.0            0           770\n",
       "2013-01-01  565         25       BOOKS    0.0            0           770"
      ]
     },
     "execution_count": 175,
     "metadata": {},
     "output_type": "execute_result"
    }
   ],
   "source": [
    "merged.head()"
   ]
  },
  {
   "cell_type": "code",
   "execution_count": 176,
   "metadata": {},
   "outputs": [],
   "source": [
    "# Merge the merged dataframe with the holiday dataframe based on the date column\n",
    "merged = pd.merge(merged, holiday, on='date')"
   ]
  },
  {
   "cell_type": "code",
   "execution_count": 177,
   "metadata": {},
   "outputs": [
    {
     "data": {
      "text/html": [
       "<div>\n",
       "<style scoped>\n",
       "    .dataframe tbody tr th:only-of-type {\n",
       "        vertical-align: middle;\n",
       "    }\n",
       "\n",
       "    .dataframe tbody tr th {\n",
       "        vertical-align: top;\n",
       "    }\n",
       "\n",
       "    .dataframe thead th {\n",
       "        text-align: right;\n",
       "    }\n",
       "</style>\n",
       "<table border=\"1\" class=\"dataframe\">\n",
       "  <thead>\n",
       "    <tr style=\"text-align: right;\">\n",
       "      <th></th>\n",
       "      <th>id</th>\n",
       "      <th>store_nbr</th>\n",
       "      <th>family</th>\n",
       "      <th>sales</th>\n",
       "      <th>onpromotion</th>\n",
       "      <th>transactions</th>\n",
       "      <th>type</th>\n",
       "      <th>locale</th>\n",
       "      <th>locale_name</th>\n",
       "      <th>description</th>\n",
       "      <th>transferred</th>\n",
       "    </tr>\n",
       "    <tr>\n",
       "      <th>date</th>\n",
       "      <th></th>\n",
       "      <th></th>\n",
       "      <th></th>\n",
       "      <th></th>\n",
       "      <th></th>\n",
       "      <th></th>\n",
       "      <th></th>\n",
       "      <th></th>\n",
       "      <th></th>\n",
       "      <th></th>\n",
       "      <th></th>\n",
       "    </tr>\n",
       "  </thead>\n",
       "  <tbody>\n",
       "    <tr>\n",
       "      <th>2013-01-01</th>\n",
       "      <td>561</td>\n",
       "      <td>25</td>\n",
       "      <td>AUTOMOTIVE</td>\n",
       "      <td>0.0</td>\n",
       "      <td>0</td>\n",
       "      <td>770</td>\n",
       "      <td>Holiday</td>\n",
       "      <td>National</td>\n",
       "      <td>Ecuador</td>\n",
       "      <td>Primer dia del ano</td>\n",
       "      <td>False</td>\n",
       "    </tr>\n",
       "    <tr>\n",
       "      <th>2013-01-01</th>\n",
       "      <td>562</td>\n",
       "      <td>25</td>\n",
       "      <td>BABY CARE</td>\n",
       "      <td>0.0</td>\n",
       "      <td>0</td>\n",
       "      <td>770</td>\n",
       "      <td>Holiday</td>\n",
       "      <td>National</td>\n",
       "      <td>Ecuador</td>\n",
       "      <td>Primer dia del ano</td>\n",
       "      <td>False</td>\n",
       "    </tr>\n",
       "    <tr>\n",
       "      <th>2013-01-01</th>\n",
       "      <td>563</td>\n",
       "      <td>25</td>\n",
       "      <td>BEAUTY</td>\n",
       "      <td>2.0</td>\n",
       "      <td>0</td>\n",
       "      <td>770</td>\n",
       "      <td>Holiday</td>\n",
       "      <td>National</td>\n",
       "      <td>Ecuador</td>\n",
       "      <td>Primer dia del ano</td>\n",
       "      <td>False</td>\n",
       "    </tr>\n",
       "    <tr>\n",
       "      <th>2013-01-01</th>\n",
       "      <td>564</td>\n",
       "      <td>25</td>\n",
       "      <td>BEVERAGES</td>\n",
       "      <td>810.0</td>\n",
       "      <td>0</td>\n",
       "      <td>770</td>\n",
       "      <td>Holiday</td>\n",
       "      <td>National</td>\n",
       "      <td>Ecuador</td>\n",
       "      <td>Primer dia del ano</td>\n",
       "      <td>False</td>\n",
       "    </tr>\n",
       "    <tr>\n",
       "      <th>2013-01-01</th>\n",
       "      <td>565</td>\n",
       "      <td>25</td>\n",
       "      <td>BOOKS</td>\n",
       "      <td>0.0</td>\n",
       "      <td>0</td>\n",
       "      <td>770</td>\n",
       "      <td>Holiday</td>\n",
       "      <td>National</td>\n",
       "      <td>Ecuador</td>\n",
       "      <td>Primer dia del ano</td>\n",
       "      <td>False</td>\n",
       "    </tr>\n",
       "  </tbody>\n",
       "</table>\n",
       "</div>"
      ],
      "text/plain": [
       "             id  store_nbr      family  sales  onpromotion  transactions  \\\n",
       "date                                                                       \n",
       "2013-01-01  561         25  AUTOMOTIVE    0.0            0           770   \n",
       "2013-01-01  562         25   BABY CARE    0.0            0           770   \n",
       "2013-01-01  563         25      BEAUTY    2.0            0           770   \n",
       "2013-01-01  564         25   BEVERAGES  810.0            0           770   \n",
       "2013-01-01  565         25       BOOKS    0.0            0           770   \n",
       "\n",
       "               type    locale locale_name         description  transferred  \n",
       "date                                                                        \n",
       "2013-01-01  Holiday  National     Ecuador  Primer dia del ano        False  \n",
       "2013-01-01  Holiday  National     Ecuador  Primer dia del ano        False  \n",
       "2013-01-01  Holiday  National     Ecuador  Primer dia del ano        False  \n",
       "2013-01-01  Holiday  National     Ecuador  Primer dia del ano        False  \n",
       "2013-01-01  Holiday  National     Ecuador  Primer dia del ano        False  "
      ]
     },
     "execution_count": 177,
     "metadata": {},
     "output_type": "execute_result"
    }
   ],
   "source": [
    "merged.head()"
   ]
  },
  {
   "cell_type": "code",
   "execution_count": 178,
   "metadata": {},
   "outputs": [],
   "source": [
    "# Merge the merged data with the oil dataframe on the date column\n",
    "merged = pd.merge(merged, oil, on='date')"
   ]
  },
  {
   "cell_type": "code",
   "execution_count": 179,
   "metadata": {
    "scrolled": false
   },
   "outputs": [
    {
     "data": {
      "text/html": [
       "<div>\n",
       "<style scoped>\n",
       "    .dataframe tbody tr th:only-of-type {\n",
       "        vertical-align: middle;\n",
       "    }\n",
       "\n",
       "    .dataframe tbody tr th {\n",
       "        vertical-align: top;\n",
       "    }\n",
       "\n",
       "    .dataframe thead th {\n",
       "        text-align: right;\n",
       "    }\n",
       "</style>\n",
       "<table border=\"1\" class=\"dataframe\">\n",
       "  <thead>\n",
       "    <tr style=\"text-align: right;\">\n",
       "      <th></th>\n",
       "      <th>id</th>\n",
       "      <th>store_nbr</th>\n",
       "      <th>family</th>\n",
       "      <th>sales</th>\n",
       "      <th>onpromotion</th>\n",
       "      <th>transactions</th>\n",
       "      <th>type</th>\n",
       "      <th>locale</th>\n",
       "      <th>locale_name</th>\n",
       "      <th>description</th>\n",
       "      <th>transferred</th>\n",
       "      <th>dcoilwtico</th>\n",
       "    </tr>\n",
       "    <tr>\n",
       "      <th>date</th>\n",
       "      <th></th>\n",
       "      <th></th>\n",
       "      <th></th>\n",
       "      <th></th>\n",
       "      <th></th>\n",
       "      <th></th>\n",
       "      <th></th>\n",
       "      <th></th>\n",
       "      <th></th>\n",
       "      <th></th>\n",
       "      <th></th>\n",
       "      <th></th>\n",
       "    </tr>\n",
       "  </thead>\n",
       "  <tbody>\n",
       "    <tr>\n",
       "      <th>2013-01-01</th>\n",
       "      <td>561</td>\n",
       "      <td>25</td>\n",
       "      <td>AUTOMOTIVE</td>\n",
       "      <td>0.0</td>\n",
       "      <td>0</td>\n",
       "      <td>770</td>\n",
       "      <td>Holiday</td>\n",
       "      <td>National</td>\n",
       "      <td>Ecuador</td>\n",
       "      <td>Primer dia del ano</td>\n",
       "      <td>False</td>\n",
       "      <td>93.139999</td>\n",
       "    </tr>\n",
       "    <tr>\n",
       "      <th>2013-01-01</th>\n",
       "      <td>562</td>\n",
       "      <td>25</td>\n",
       "      <td>BABY CARE</td>\n",
       "      <td>0.0</td>\n",
       "      <td>0</td>\n",
       "      <td>770</td>\n",
       "      <td>Holiday</td>\n",
       "      <td>National</td>\n",
       "      <td>Ecuador</td>\n",
       "      <td>Primer dia del ano</td>\n",
       "      <td>False</td>\n",
       "      <td>93.139999</td>\n",
       "    </tr>\n",
       "    <tr>\n",
       "      <th>2013-01-01</th>\n",
       "      <td>563</td>\n",
       "      <td>25</td>\n",
       "      <td>BEAUTY</td>\n",
       "      <td>2.0</td>\n",
       "      <td>0</td>\n",
       "      <td>770</td>\n",
       "      <td>Holiday</td>\n",
       "      <td>National</td>\n",
       "      <td>Ecuador</td>\n",
       "      <td>Primer dia del ano</td>\n",
       "      <td>False</td>\n",
       "      <td>93.139999</td>\n",
       "    </tr>\n",
       "    <tr>\n",
       "      <th>2013-01-01</th>\n",
       "      <td>564</td>\n",
       "      <td>25</td>\n",
       "      <td>BEVERAGES</td>\n",
       "      <td>810.0</td>\n",
       "      <td>0</td>\n",
       "      <td>770</td>\n",
       "      <td>Holiday</td>\n",
       "      <td>National</td>\n",
       "      <td>Ecuador</td>\n",
       "      <td>Primer dia del ano</td>\n",
       "      <td>False</td>\n",
       "      <td>93.139999</td>\n",
       "    </tr>\n",
       "    <tr>\n",
       "      <th>2013-01-01</th>\n",
       "      <td>565</td>\n",
       "      <td>25</td>\n",
       "      <td>BOOKS</td>\n",
       "      <td>0.0</td>\n",
       "      <td>0</td>\n",
       "      <td>770</td>\n",
       "      <td>Holiday</td>\n",
       "      <td>National</td>\n",
       "      <td>Ecuador</td>\n",
       "      <td>Primer dia del ano</td>\n",
       "      <td>False</td>\n",
       "      <td>93.139999</td>\n",
       "    </tr>\n",
       "  </tbody>\n",
       "</table>\n",
       "</div>"
      ],
      "text/plain": [
       "             id  store_nbr      family  sales  onpromotion  transactions  \\\n",
       "date                                                                       \n",
       "2013-01-01  561         25  AUTOMOTIVE    0.0            0           770   \n",
       "2013-01-01  562         25   BABY CARE    0.0            0           770   \n",
       "2013-01-01  563         25      BEAUTY    2.0            0           770   \n",
       "2013-01-01  564         25   BEVERAGES  810.0            0           770   \n",
       "2013-01-01  565         25       BOOKS    0.0            0           770   \n",
       "\n",
       "               type    locale locale_name         description  transferred  \\\n",
       "date                                                                         \n",
       "2013-01-01  Holiday  National     Ecuador  Primer dia del ano        False   \n",
       "2013-01-01  Holiday  National     Ecuador  Primer dia del ano        False   \n",
       "2013-01-01  Holiday  National     Ecuador  Primer dia del ano        False   \n",
       "2013-01-01  Holiday  National     Ecuador  Primer dia del ano        False   \n",
       "2013-01-01  Holiday  National     Ecuador  Primer dia del ano        False   \n",
       "\n",
       "            dcoilwtico  \n",
       "date                    \n",
       "2013-01-01   93.139999  \n",
       "2013-01-01   93.139999  \n",
       "2013-01-01   93.139999  \n",
       "2013-01-01   93.139999  \n",
       "2013-01-01   93.139999  "
      ]
     },
     "execution_count": 179,
     "metadata": {},
     "output_type": "execute_result"
    }
   ],
   "source": [
    "merged.head()"
   ]
  },
  {
   "cell_type": "markdown",
   "metadata": {},
   "source": [
    "- The date column has been set us the index of the merged dataframe\n",
    "- This means it will be lost when merged with the stores dataframe on the store_nbr column\n",
    "- To solve this the index has to be reset"
   ]
  },
  {
   "cell_type": "code",
   "execution_count": 180,
   "metadata": {},
   "outputs": [],
   "source": [
    "# Reset index\n",
    "merged.reset_index(inplace=True)"
   ]
  },
  {
   "cell_type": "code",
   "execution_count": 181,
   "metadata": {},
   "outputs": [
    {
     "name": "stdout",
     "output_type": "stream",
     "text": [
      "<class 'pandas.core.frame.DataFrame'>\n",
      "RangeIndex: 322047 entries, 0 to 322046\n",
      "Data columns (total 13 columns):\n",
      " #   Column        Non-Null Count   Dtype         \n",
      "---  ------        --------------   -----         \n",
      " 0   date          322047 non-null  datetime64[ns]\n",
      " 1   id            322047 non-null  int64         \n",
      " 2   store_nbr     322047 non-null  int64         \n",
      " 3   family        322047 non-null  object        \n",
      " 4   sales         322047 non-null  float64       \n",
      " 5   onpromotion   322047 non-null  int64         \n",
      " 6   transactions  322047 non-null  int64         \n",
      " 7   type          322047 non-null  object        \n",
      " 8   locale        322047 non-null  object        \n",
      " 9   locale_name   322047 non-null  object        \n",
      " 10  description   322047 non-null  object        \n",
      " 11  transferred   322047 non-null  bool          \n",
      " 12  dcoilwtico    322047 non-null  float64       \n",
      "dtypes: bool(1), datetime64[ns](1), float64(2), int64(4), object(5)\n",
      "memory usage: 29.8+ MB\n"
     ]
    }
   ],
   "source": [
    "merged.info()"
   ]
  },
  {
   "cell_type": "code",
   "execution_count": 182,
   "metadata": {},
   "outputs": [],
   "source": [
    "# Merge the merged data with the stores dataframe on the stores number column\n",
    "train = pd.merge(merged, stores, on='store_nbr')"
   ]
  },
  {
   "cell_type": "code",
   "execution_count": 183,
   "metadata": {},
   "outputs": [
    {
     "data": {
      "text/html": [
       "<div>\n",
       "<style scoped>\n",
       "    .dataframe tbody tr th:only-of-type {\n",
       "        vertical-align: middle;\n",
       "    }\n",
       "\n",
       "    .dataframe tbody tr th {\n",
       "        vertical-align: top;\n",
       "    }\n",
       "\n",
       "    .dataframe thead th {\n",
       "        text-align: right;\n",
       "    }\n",
       "</style>\n",
       "<table border=\"1\" class=\"dataframe\">\n",
       "  <thead>\n",
       "    <tr style=\"text-align: right;\">\n",
       "      <th></th>\n",
       "      <th>date</th>\n",
       "      <th>id</th>\n",
       "      <th>store_nbr</th>\n",
       "      <th>family</th>\n",
       "      <th>sales</th>\n",
       "      <th>onpromotion</th>\n",
       "      <th>transactions</th>\n",
       "      <th>type_x</th>\n",
       "      <th>locale</th>\n",
       "      <th>locale_name</th>\n",
       "      <th>description</th>\n",
       "      <th>transferred</th>\n",
       "      <th>dcoilwtico</th>\n",
       "      <th>city</th>\n",
       "      <th>state</th>\n",
       "      <th>type_y</th>\n",
       "      <th>cluster</th>\n",
       "    </tr>\n",
       "  </thead>\n",
       "  <tbody>\n",
       "    <tr>\n",
       "      <th>0</th>\n",
       "      <td>2013-01-01</td>\n",
       "      <td>561</td>\n",
       "      <td>25</td>\n",
       "      <td>AUTOMOTIVE</td>\n",
       "      <td>0.0</td>\n",
       "      <td>0</td>\n",
       "      <td>770</td>\n",
       "      <td>Holiday</td>\n",
       "      <td>National</td>\n",
       "      <td>Ecuador</td>\n",
       "      <td>Primer dia del ano</td>\n",
       "      <td>False</td>\n",
       "      <td>93.139999</td>\n",
       "      <td>Salinas</td>\n",
       "      <td>Santa Elena</td>\n",
       "      <td>D</td>\n",
       "      <td>1</td>\n",
       "    </tr>\n",
       "    <tr>\n",
       "      <th>1</th>\n",
       "      <td>2013-01-01</td>\n",
       "      <td>562</td>\n",
       "      <td>25</td>\n",
       "      <td>BABY CARE</td>\n",
       "      <td>0.0</td>\n",
       "      <td>0</td>\n",
       "      <td>770</td>\n",
       "      <td>Holiday</td>\n",
       "      <td>National</td>\n",
       "      <td>Ecuador</td>\n",
       "      <td>Primer dia del ano</td>\n",
       "      <td>False</td>\n",
       "      <td>93.139999</td>\n",
       "      <td>Salinas</td>\n",
       "      <td>Santa Elena</td>\n",
       "      <td>D</td>\n",
       "      <td>1</td>\n",
       "    </tr>\n",
       "    <tr>\n",
       "      <th>2</th>\n",
       "      <td>2013-01-01</td>\n",
       "      <td>563</td>\n",
       "      <td>25</td>\n",
       "      <td>BEAUTY</td>\n",
       "      <td>2.0</td>\n",
       "      <td>0</td>\n",
       "      <td>770</td>\n",
       "      <td>Holiday</td>\n",
       "      <td>National</td>\n",
       "      <td>Ecuador</td>\n",
       "      <td>Primer dia del ano</td>\n",
       "      <td>False</td>\n",
       "      <td>93.139999</td>\n",
       "      <td>Salinas</td>\n",
       "      <td>Santa Elena</td>\n",
       "      <td>D</td>\n",
       "      <td>1</td>\n",
       "    </tr>\n",
       "    <tr>\n",
       "      <th>3</th>\n",
       "      <td>2013-01-01</td>\n",
       "      <td>564</td>\n",
       "      <td>25</td>\n",
       "      <td>BEVERAGES</td>\n",
       "      <td>810.0</td>\n",
       "      <td>0</td>\n",
       "      <td>770</td>\n",
       "      <td>Holiday</td>\n",
       "      <td>National</td>\n",
       "      <td>Ecuador</td>\n",
       "      <td>Primer dia del ano</td>\n",
       "      <td>False</td>\n",
       "      <td>93.139999</td>\n",
       "      <td>Salinas</td>\n",
       "      <td>Santa Elena</td>\n",
       "      <td>D</td>\n",
       "      <td>1</td>\n",
       "    </tr>\n",
       "    <tr>\n",
       "      <th>4</th>\n",
       "      <td>2013-01-01</td>\n",
       "      <td>565</td>\n",
       "      <td>25</td>\n",
       "      <td>BOOKS</td>\n",
       "      <td>0.0</td>\n",
       "      <td>0</td>\n",
       "      <td>770</td>\n",
       "      <td>Holiday</td>\n",
       "      <td>National</td>\n",
       "      <td>Ecuador</td>\n",
       "      <td>Primer dia del ano</td>\n",
       "      <td>False</td>\n",
       "      <td>93.139999</td>\n",
       "      <td>Salinas</td>\n",
       "      <td>Santa Elena</td>\n",
       "      <td>D</td>\n",
       "      <td>1</td>\n",
       "    </tr>\n",
       "  </tbody>\n",
       "</table>\n",
       "</div>"
      ],
      "text/plain": [
       "        date   id  store_nbr      family  sales  onpromotion  transactions  \\\n",
       "0 2013-01-01  561         25  AUTOMOTIVE    0.0            0           770   \n",
       "1 2013-01-01  562         25   BABY CARE    0.0            0           770   \n",
       "2 2013-01-01  563         25      BEAUTY    2.0            0           770   \n",
       "3 2013-01-01  564         25   BEVERAGES  810.0            0           770   \n",
       "4 2013-01-01  565         25       BOOKS    0.0            0           770   \n",
       "\n",
       "    type_x    locale locale_name         description  transferred  dcoilwtico  \\\n",
       "0  Holiday  National     Ecuador  Primer dia del ano        False   93.139999   \n",
       "1  Holiday  National     Ecuador  Primer dia del ano        False   93.139999   \n",
       "2  Holiday  National     Ecuador  Primer dia del ano        False   93.139999   \n",
       "3  Holiday  National     Ecuador  Primer dia del ano        False   93.139999   \n",
       "4  Holiday  National     Ecuador  Primer dia del ano        False   93.139999   \n",
       "\n",
       "      city        state type_y  cluster  \n",
       "0  Salinas  Santa Elena      D        1  \n",
       "1  Salinas  Santa Elena      D        1  \n",
       "2  Salinas  Santa Elena      D        1  \n",
       "3  Salinas  Santa Elena      D        1  \n",
       "4  Salinas  Santa Elena      D        1  "
      ]
     },
     "execution_count": 183,
     "metadata": {},
     "output_type": "execute_result"
    }
   ],
   "source": [
    "train.head()"
   ]
  },
  {
   "cell_type": "code",
   "execution_count": 184,
   "metadata": {},
   "outputs": [
    {
     "data": {
      "text/html": [
       "<div>\n",
       "<style scoped>\n",
       "    .dataframe tbody tr th:only-of-type {\n",
       "        vertical-align: middle;\n",
       "    }\n",
       "\n",
       "    .dataframe tbody tr th {\n",
       "        vertical-align: top;\n",
       "    }\n",
       "\n",
       "    .dataframe thead th {\n",
       "        text-align: right;\n",
       "    }\n",
       "</style>\n",
       "<table border=\"1\" class=\"dataframe\">\n",
       "  <thead>\n",
       "    <tr style=\"text-align: right;\">\n",
       "      <th></th>\n",
       "      <th>date</th>\n",
       "      <th>id</th>\n",
       "      <th>store_nbr</th>\n",
       "      <th>family</th>\n",
       "      <th>sales</th>\n",
       "      <th>onpromotion</th>\n",
       "      <th>transactions</th>\n",
       "      <th>type_x</th>\n",
       "      <th>locale</th>\n",
       "      <th>locale_name</th>\n",
       "      <th>description</th>\n",
       "      <th>transferred</th>\n",
       "      <th>dcoilwtico</th>\n",
       "      <th>city</th>\n",
       "      <th>state</th>\n",
       "      <th>type_y</th>\n",
       "      <th>cluster</th>\n",
       "    </tr>\n",
       "  </thead>\n",
       "  <tbody>\n",
       "    <tr>\n",
       "      <th>322042</th>\n",
       "      <td>2017-08-15</td>\n",
       "      <td>3000685</td>\n",
       "      <td>52</td>\n",
       "      <td>POULTRY</td>\n",
       "      <td>397.340</td>\n",
       "      <td>0</td>\n",
       "      <td>2255</td>\n",
       "      <td>Holiday</td>\n",
       "      <td>Local</td>\n",
       "      <td>Riobamba</td>\n",
       "      <td>Fundacion de Riobamba</td>\n",
       "      <td>False</td>\n",
       "      <td>47.57</td>\n",
       "      <td>Manta</td>\n",
       "      <td>Manabi</td>\n",
       "      <td>A</td>\n",
       "      <td>11</td>\n",
       "    </tr>\n",
       "    <tr>\n",
       "      <th>322043</th>\n",
       "      <td>2017-08-15</td>\n",
       "      <td>3000686</td>\n",
       "      <td>52</td>\n",
       "      <td>PREPARED FOODS</td>\n",
       "      <td>104.418</td>\n",
       "      <td>0</td>\n",
       "      <td>2255</td>\n",
       "      <td>Holiday</td>\n",
       "      <td>Local</td>\n",
       "      <td>Riobamba</td>\n",
       "      <td>Fundacion de Riobamba</td>\n",
       "      <td>False</td>\n",
       "      <td>47.57</td>\n",
       "      <td>Manta</td>\n",
       "      <td>Manabi</td>\n",
       "      <td>A</td>\n",
       "      <td>11</td>\n",
       "    </tr>\n",
       "    <tr>\n",
       "      <th>322044</th>\n",
       "      <td>2017-08-15</td>\n",
       "      <td>3000687</td>\n",
       "      <td>52</td>\n",
       "      <td>PRODUCE</td>\n",
       "      <td>3803.368</td>\n",
       "      <td>8</td>\n",
       "      <td>2255</td>\n",
       "      <td>Holiday</td>\n",
       "      <td>Local</td>\n",
       "      <td>Riobamba</td>\n",
       "      <td>Fundacion de Riobamba</td>\n",
       "      <td>False</td>\n",
       "      <td>47.57</td>\n",
       "      <td>Manta</td>\n",
       "      <td>Manabi</td>\n",
       "      <td>A</td>\n",
       "      <td>11</td>\n",
       "    </tr>\n",
       "    <tr>\n",
       "      <th>322045</th>\n",
       "      <td>2017-08-15</td>\n",
       "      <td>3000688</td>\n",
       "      <td>52</td>\n",
       "      <td>SCHOOL AND OFFICE SUPPLIES</td>\n",
       "      <td>17.000</td>\n",
       "      <td>0</td>\n",
       "      <td>2255</td>\n",
       "      <td>Holiday</td>\n",
       "      <td>Local</td>\n",
       "      <td>Riobamba</td>\n",
       "      <td>Fundacion de Riobamba</td>\n",
       "      <td>False</td>\n",
       "      <td>47.57</td>\n",
       "      <td>Manta</td>\n",
       "      <td>Manabi</td>\n",
       "      <td>A</td>\n",
       "      <td>11</td>\n",
       "    </tr>\n",
       "    <tr>\n",
       "      <th>322046</th>\n",
       "      <td>2017-08-15</td>\n",
       "      <td>3000689</td>\n",
       "      <td>52</td>\n",
       "      <td>SEAFOOD</td>\n",
       "      <td>7.000</td>\n",
       "      <td>0</td>\n",
       "      <td>2255</td>\n",
       "      <td>Holiday</td>\n",
       "      <td>Local</td>\n",
       "      <td>Riobamba</td>\n",
       "      <td>Fundacion de Riobamba</td>\n",
       "      <td>False</td>\n",
       "      <td>47.57</td>\n",
       "      <td>Manta</td>\n",
       "      <td>Manabi</td>\n",
       "      <td>A</td>\n",
       "      <td>11</td>\n",
       "    </tr>\n",
       "  </tbody>\n",
       "</table>\n",
       "</div>"
      ],
      "text/plain": [
       "             date       id  store_nbr                      family     sales  \\\n",
       "322042 2017-08-15  3000685         52                     POULTRY   397.340   \n",
       "322043 2017-08-15  3000686         52              PREPARED FOODS   104.418   \n",
       "322044 2017-08-15  3000687         52                     PRODUCE  3803.368   \n",
       "322045 2017-08-15  3000688         52  SCHOOL AND OFFICE SUPPLIES    17.000   \n",
       "322046 2017-08-15  3000689         52                     SEAFOOD     7.000   \n",
       "\n",
       "        onpromotion  transactions   type_x locale locale_name  \\\n",
       "322042            0          2255  Holiday  Local    Riobamba   \n",
       "322043            0          2255  Holiday  Local    Riobamba   \n",
       "322044            8          2255  Holiday  Local    Riobamba   \n",
       "322045            0          2255  Holiday  Local    Riobamba   \n",
       "322046            0          2255  Holiday  Local    Riobamba   \n",
       "\n",
       "                  description  transferred  dcoilwtico   city   state type_y  \\\n",
       "322042  Fundacion de Riobamba        False       47.57  Manta  Manabi      A   \n",
       "322043  Fundacion de Riobamba        False       47.57  Manta  Manabi      A   \n",
       "322044  Fundacion de Riobamba        False       47.57  Manta  Manabi      A   \n",
       "322045  Fundacion de Riobamba        False       47.57  Manta  Manabi      A   \n",
       "322046  Fundacion de Riobamba        False       47.57  Manta  Manabi      A   \n",
       "\n",
       "        cluster  \n",
       "322042       11  \n",
       "322043       11  \n",
       "322044       11  \n",
       "322045       11  \n",
       "322046       11  "
      ]
     },
     "execution_count": 184,
     "metadata": {},
     "output_type": "execute_result"
    }
   ],
   "source": [
    "train.tail()"
   ]
  },
  {
   "cell_type": "code",
   "execution_count": 185,
   "metadata": {},
   "outputs": [
    {
     "data": {
      "text/plain": [
       "(322047, 17)"
      ]
     },
     "execution_count": 185,
     "metadata": {},
     "output_type": "execute_result"
    }
   ],
   "source": [
    "train.shape"
   ]
  },
  {
   "cell_type": "markdown",
   "metadata": {},
   "source": [
    "### Rename columns to aid understanding\n",
    "Some column names may not clearly describe the data in them so they need to be renamed"
   ]
  },
  {
   "cell_type": "code",
   "execution_count": 186,
   "metadata": {},
   "outputs": [
    {
     "name": "stdout",
     "output_type": "stream",
     "text": [
      "<class 'pandas.core.frame.DataFrame'>\n",
      "RangeIndex: 322047 entries, 0 to 322046\n",
      "Data columns (total 17 columns):\n",
      " #   Column        Non-Null Count   Dtype         \n",
      "---  ------        --------------   -----         \n",
      " 0   date          322047 non-null  datetime64[ns]\n",
      " 1   id            322047 non-null  int64         \n",
      " 2   store_nbr     322047 non-null  int64         \n",
      " 3   family        322047 non-null  object        \n",
      " 4   sales         322047 non-null  float64       \n",
      " 5   onpromotion   322047 non-null  int64         \n",
      " 6   transactions  322047 non-null  int64         \n",
      " 7   type_x        322047 non-null  object        \n",
      " 8   locale        322047 non-null  object        \n",
      " 9   locale_name   322047 non-null  object        \n",
      " 10  description   322047 non-null  object        \n",
      " 11  transferred   322047 non-null  bool          \n",
      " 12  dcoilwtico    322047 non-null  float64       \n",
      " 13  city          322047 non-null  object        \n",
      " 14  state         322047 non-null  object        \n",
      " 15  type_y        322047 non-null  object        \n",
      " 16  cluster       322047 non-null  int64         \n",
      "dtypes: bool(1), datetime64[ns](1), float64(2), int64(5), object(8)\n",
      "memory usage: 39.6+ MB\n"
     ]
    }
   ],
   "source": [
    "train.info()"
   ]
  },
  {
   "cell_type": "code",
   "execution_count": 187,
   "metadata": {},
   "outputs": [
    {
     "data": {
      "text/html": [
       "<div>\n",
       "<style scoped>\n",
       "    .dataframe tbody tr th:only-of-type {\n",
       "        vertical-align: middle;\n",
       "    }\n",
       "\n",
       "    .dataframe tbody tr th {\n",
       "        vertical-align: top;\n",
       "    }\n",
       "\n",
       "    .dataframe thead th {\n",
       "        text-align: right;\n",
       "    }\n",
       "</style>\n",
       "<table border=\"1\" class=\"dataframe\">\n",
       "  <thead>\n",
       "    <tr style=\"text-align: right;\">\n",
       "      <th></th>\n",
       "      <th>date</th>\n",
       "      <th>id</th>\n",
       "      <th>store_nbr</th>\n",
       "      <th>family</th>\n",
       "      <th>sales</th>\n",
       "      <th>onpromotion</th>\n",
       "      <th>transactions</th>\n",
       "      <th>type_x</th>\n",
       "      <th>locale</th>\n",
       "      <th>locale_name</th>\n",
       "      <th>description</th>\n",
       "      <th>transferred</th>\n",
       "      <th>dcoilwtico</th>\n",
       "      <th>city</th>\n",
       "      <th>state</th>\n",
       "      <th>type_y</th>\n",
       "      <th>cluster</th>\n",
       "    </tr>\n",
       "  </thead>\n",
       "  <tbody>\n",
       "    <tr>\n",
       "      <th>0</th>\n",
       "      <td>2013-01-01</td>\n",
       "      <td>561</td>\n",
       "      <td>25</td>\n",
       "      <td>AUTOMOTIVE</td>\n",
       "      <td>0.0</td>\n",
       "      <td>0</td>\n",
       "      <td>770</td>\n",
       "      <td>Holiday</td>\n",
       "      <td>National</td>\n",
       "      <td>Ecuador</td>\n",
       "      <td>Primer dia del ano</td>\n",
       "      <td>False</td>\n",
       "      <td>93.139999</td>\n",
       "      <td>Salinas</td>\n",
       "      <td>Santa Elena</td>\n",
       "      <td>D</td>\n",
       "      <td>1</td>\n",
       "    </tr>\n",
       "    <tr>\n",
       "      <th>1</th>\n",
       "      <td>2013-01-01</td>\n",
       "      <td>562</td>\n",
       "      <td>25</td>\n",
       "      <td>BABY CARE</td>\n",
       "      <td>0.0</td>\n",
       "      <td>0</td>\n",
       "      <td>770</td>\n",
       "      <td>Holiday</td>\n",
       "      <td>National</td>\n",
       "      <td>Ecuador</td>\n",
       "      <td>Primer dia del ano</td>\n",
       "      <td>False</td>\n",
       "      <td>93.139999</td>\n",
       "      <td>Salinas</td>\n",
       "      <td>Santa Elena</td>\n",
       "      <td>D</td>\n",
       "      <td>1</td>\n",
       "    </tr>\n",
       "    <tr>\n",
       "      <th>2</th>\n",
       "      <td>2013-01-01</td>\n",
       "      <td>563</td>\n",
       "      <td>25</td>\n",
       "      <td>BEAUTY</td>\n",
       "      <td>2.0</td>\n",
       "      <td>0</td>\n",
       "      <td>770</td>\n",
       "      <td>Holiday</td>\n",
       "      <td>National</td>\n",
       "      <td>Ecuador</td>\n",
       "      <td>Primer dia del ano</td>\n",
       "      <td>False</td>\n",
       "      <td>93.139999</td>\n",
       "      <td>Salinas</td>\n",
       "      <td>Santa Elena</td>\n",
       "      <td>D</td>\n",
       "      <td>1</td>\n",
       "    </tr>\n",
       "    <tr>\n",
       "      <th>3</th>\n",
       "      <td>2013-01-01</td>\n",
       "      <td>564</td>\n",
       "      <td>25</td>\n",
       "      <td>BEVERAGES</td>\n",
       "      <td>810.0</td>\n",
       "      <td>0</td>\n",
       "      <td>770</td>\n",
       "      <td>Holiday</td>\n",
       "      <td>National</td>\n",
       "      <td>Ecuador</td>\n",
       "      <td>Primer dia del ano</td>\n",
       "      <td>False</td>\n",
       "      <td>93.139999</td>\n",
       "      <td>Salinas</td>\n",
       "      <td>Santa Elena</td>\n",
       "      <td>D</td>\n",
       "      <td>1</td>\n",
       "    </tr>\n",
       "    <tr>\n",
       "      <th>4</th>\n",
       "      <td>2013-01-01</td>\n",
       "      <td>565</td>\n",
       "      <td>25</td>\n",
       "      <td>BOOKS</td>\n",
       "      <td>0.0</td>\n",
       "      <td>0</td>\n",
       "      <td>770</td>\n",
       "      <td>Holiday</td>\n",
       "      <td>National</td>\n",
       "      <td>Ecuador</td>\n",
       "      <td>Primer dia del ano</td>\n",
       "      <td>False</td>\n",
       "      <td>93.139999</td>\n",
       "      <td>Salinas</td>\n",
       "      <td>Santa Elena</td>\n",
       "      <td>D</td>\n",
       "      <td>1</td>\n",
       "    </tr>\n",
       "  </tbody>\n",
       "</table>\n",
       "</div>"
      ],
      "text/plain": [
       "        date   id  store_nbr      family  sales  onpromotion  transactions  \\\n",
       "0 2013-01-01  561         25  AUTOMOTIVE    0.0            0           770   \n",
       "1 2013-01-01  562         25   BABY CARE    0.0            0           770   \n",
       "2 2013-01-01  563         25      BEAUTY    2.0            0           770   \n",
       "3 2013-01-01  564         25   BEVERAGES  810.0            0           770   \n",
       "4 2013-01-01  565         25       BOOKS    0.0            0           770   \n",
       "\n",
       "    type_x    locale locale_name         description  transferred  dcoilwtico  \\\n",
       "0  Holiday  National     Ecuador  Primer dia del ano        False   93.139999   \n",
       "1  Holiday  National     Ecuador  Primer dia del ano        False   93.139999   \n",
       "2  Holiday  National     Ecuador  Primer dia del ano        False   93.139999   \n",
       "3  Holiday  National     Ecuador  Primer dia del ano        False   93.139999   \n",
       "4  Holiday  National     Ecuador  Primer dia del ano        False   93.139999   \n",
       "\n",
       "      city        state type_y  cluster  \n",
       "0  Salinas  Santa Elena      D        1  \n",
       "1  Salinas  Santa Elena      D        1  \n",
       "2  Salinas  Santa Elena      D        1  \n",
       "3  Salinas  Santa Elena      D        1  \n",
       "4  Salinas  Santa Elena      D        1  "
      ]
     },
     "execution_count": 187,
     "metadata": {},
     "output_type": "execute_result"
    }
   ],
   "source": [
    "train.head()"
   ]
  },
  {
   "cell_type": "markdown",
   "metadata": {},
   "source": [
    "- Change type_x column name to holiday_type to reflect what it is in the Holiday dataframe \n",
    "- Change 'dcoilwtico' column name to reflect what it represents ie. oil price \n",
    "- Change type_y column name to store_type to reflect what it represents in the stores dataframe "
   ]
  },
  {
   "cell_type": "code",
   "execution_count": 188,
   "metadata": {},
   "outputs": [],
   "source": [
    "# Changing column names\n",
    "train = train.rename(columns= {'type_x': 'holiday_type', 'dcoilwtico': 'oil_price', 'type_y':'store_type' })"
   ]
  },
  {
   "cell_type": "code",
   "execution_count": 189,
   "metadata": {},
   "outputs": [
    {
     "data": {
      "text/plain": [
       "Index(['date', 'id', 'store_nbr', 'family', 'sales', 'onpromotion',\n",
       "       'transactions', 'holiday_type', 'locale', 'locale_name', 'description',\n",
       "       'transferred', 'oil_price', 'city', 'state', 'store_type', 'cluster'],\n",
       "      dtype='object')"
      ]
     },
     "execution_count": 189,
     "metadata": {},
     "output_type": "execute_result"
    }
   ],
   "source": [
    "# Confirm the change \n",
    "train.columns"
   ]
  },
  {
   "cell_type": "markdown",
   "metadata": {},
   "source": [
    "### Preparing data in Merged Dataframe "
   ]
  },
  {
   "cell_type": "code",
   "execution_count": 190,
   "metadata": {},
   "outputs": [
    {
     "data": {
      "text/plain": [
       "date            0\n",
       "id              0\n",
       "store_nbr       0\n",
       "family          0\n",
       "sales           0\n",
       "onpromotion     0\n",
       "transactions    0\n",
       "holiday_type    0\n",
       "locale          0\n",
       "locale_name     0\n",
       "description     0\n",
       "transferred     0\n",
       "oil_price       0\n",
       "city            0\n",
       "state           0\n",
       "store_type      0\n",
       "cluster         0\n",
       "dtype: int64"
      ]
     },
     "execution_count": 190,
     "metadata": {},
     "output_type": "execute_result"
    }
   ],
   "source": [
    "# Checking for missing values \n",
    "train.isnull().sum()"
   ]
  },
  {
   "cell_type": "code",
   "execution_count": 191,
   "metadata": {},
   "outputs": [
    {
     "data": {
      "text/plain": [
       "0"
      ]
     },
     "execution_count": 191,
     "metadata": {},
     "output_type": "execute_result"
    }
   ],
   "source": [
    "# Checking for duplicates \n",
    "train.duplicated().sum()"
   ]
  },
  {
   "cell_type": "code",
   "execution_count": 192,
   "metadata": {},
   "outputs": [
    {
     "data": {
      "text/html": [
       "<div>\n",
       "<style scoped>\n",
       "    .dataframe tbody tr th:only-of-type {\n",
       "        vertical-align: middle;\n",
       "    }\n",
       "\n",
       "    .dataframe tbody tr th {\n",
       "        vertical-align: top;\n",
       "    }\n",
       "\n",
       "    .dataframe thead th {\n",
       "        text-align: right;\n",
       "    }\n",
       "</style>\n",
       "<table border=\"1\" class=\"dataframe\">\n",
       "  <thead>\n",
       "    <tr style=\"text-align: right;\">\n",
       "      <th></th>\n",
       "      <th>date</th>\n",
       "      <th>id</th>\n",
       "      <th>store_nbr</th>\n",
       "      <th>sales</th>\n",
       "      <th>onpromotion</th>\n",
       "      <th>transactions</th>\n",
       "      <th>oil_price</th>\n",
       "      <th>cluster</th>\n",
       "    </tr>\n",
       "  </thead>\n",
       "  <tbody>\n",
       "    <tr>\n",
       "      <th>count</th>\n",
       "      <td>322047</td>\n",
       "      <td>3.220470e+05</td>\n",
       "      <td>322047.000000</td>\n",
       "      <td>322047.000000</td>\n",
       "      <td>322047.000000</td>\n",
       "      <td>322047.000000</td>\n",
       "      <td>322047.000000</td>\n",
       "      <td>322047.000000</td>\n",
       "    </tr>\n",
       "    <tr>\n",
       "      <th>mean</th>\n",
       "      <td>2015-08-04 23:49:57.971103488</td>\n",
       "      <td>1.682979e+06</td>\n",
       "      <td>26.994672</td>\n",
       "      <td>406.383452</td>\n",
       "      <td>3.727136</td>\n",
       "      <td>1734.117840</td>\n",
       "      <td>63.686222</td>\n",
       "      <td>8.531202</td>\n",
       "    </tr>\n",
       "    <tr>\n",
       "      <th>min</th>\n",
       "      <td>2013-01-01 00:00:00</td>\n",
       "      <td>5.610000e+02</td>\n",
       "      <td>1.000000</td>\n",
       "      <td>0.000000</td>\n",
       "      <td>0.000000</td>\n",
       "      <td>54.000000</td>\n",
       "      <td>27.959999</td>\n",
       "      <td>1.000000</td>\n",
       "    </tr>\n",
       "    <tr>\n",
       "      <th>25%</th>\n",
       "      <td>2014-07-23 00:00:00</td>\n",
       "      <td>1.010616e+06</td>\n",
       "      <td>13.000000</td>\n",
       "      <td>1.000000</td>\n",
       "      <td>0.000000</td>\n",
       "      <td>1030.000000</td>\n",
       "      <td>44.880001</td>\n",
       "      <td>4.000000</td>\n",
       "    </tr>\n",
       "    <tr>\n",
       "      <th>50%</th>\n",
       "      <td>2015-11-02 00:00:00</td>\n",
       "      <td>1.842406e+06</td>\n",
       "      <td>27.000000</td>\n",
       "      <td>19.000000</td>\n",
       "      <td>0.000000</td>\n",
       "      <td>1409.000000</td>\n",
       "      <td>51.980000</td>\n",
       "      <td>9.000000</td>\n",
       "    </tr>\n",
       "    <tr>\n",
       "      <th>75%</th>\n",
       "      <td>2016-05-27 00:00:00</td>\n",
       "      <td>2.209556e+06</td>\n",
       "      <td>40.000000</td>\n",
       "      <td>241.260505</td>\n",
       "      <td>1.000000</td>\n",
       "      <td>2148.000000</td>\n",
       "      <td>94.089996</td>\n",
       "      <td>13.000000</td>\n",
       "    </tr>\n",
       "    <tr>\n",
       "      <th>max</th>\n",
       "      <td>2017-08-15 00:00:00</td>\n",
       "      <td>3.000887e+06</td>\n",
       "      <td>54.000000</td>\n",
       "      <td>124717.000000</td>\n",
       "      <td>716.000000</td>\n",
       "      <td>8359.000000</td>\n",
       "      <td>107.949997</td>\n",
       "      <td>17.000000</td>\n",
       "    </tr>\n",
       "    <tr>\n",
       "      <th>std</th>\n",
       "      <td>NaN</td>\n",
       "      <td>7.862493e+05</td>\n",
       "      <td>15.595174</td>\n",
       "      <td>1246.881240</td>\n",
       "      <td>15.512095</td>\n",
       "      <td>1050.335018</td>\n",
       "      <td>24.842082</td>\n",
       "      <td>4.713809</td>\n",
       "    </tr>\n",
       "  </tbody>\n",
       "</table>\n",
       "</div>"
      ],
      "text/plain": [
       "                                date            id      store_nbr  \\\n",
       "count                         322047  3.220470e+05  322047.000000   \n",
       "mean   2015-08-04 23:49:57.971103488  1.682979e+06      26.994672   \n",
       "min              2013-01-01 00:00:00  5.610000e+02       1.000000   \n",
       "25%              2014-07-23 00:00:00  1.010616e+06      13.000000   \n",
       "50%              2015-11-02 00:00:00  1.842406e+06      27.000000   \n",
       "75%              2016-05-27 00:00:00  2.209556e+06      40.000000   \n",
       "max              2017-08-15 00:00:00  3.000887e+06      54.000000   \n",
       "std                              NaN  7.862493e+05      15.595174   \n",
       "\n",
       "               sales    onpromotion   transactions      oil_price  \\\n",
       "count  322047.000000  322047.000000  322047.000000  322047.000000   \n",
       "mean      406.383452       3.727136    1734.117840      63.686222   \n",
       "min         0.000000       0.000000      54.000000      27.959999   \n",
       "25%         1.000000       0.000000    1030.000000      44.880001   \n",
       "50%        19.000000       0.000000    1409.000000      51.980000   \n",
       "75%       241.260505       1.000000    2148.000000      94.089996   \n",
       "max    124717.000000     716.000000    8359.000000     107.949997   \n",
       "std      1246.881240      15.512095    1050.335018      24.842082   \n",
       "\n",
       "             cluster  \n",
       "count  322047.000000  \n",
       "mean        8.531202  \n",
       "min         1.000000  \n",
       "25%         4.000000  \n",
       "50%         9.000000  \n",
       "75%        13.000000  \n",
       "max        17.000000  \n",
       "std         4.713809  "
      ]
     },
     "execution_count": 192,
     "metadata": {},
     "output_type": "execute_result"
    }
   ],
   "source": [
    "# Get summary of numerical values\n",
    "train.describe()"
   ]
  },
  {
   "cell_type": "markdown",
   "metadata": {},
   "source": [
    "### Questions "
   ]
  },
  {
   "cell_type": "markdown",
   "metadata": {},
   "source": [
    "#### 1. How are the clusters performing against each other? "
   ]
  },
  {
   "cell_type": "code",
   "execution_count": 193,
   "metadata": {},
   "outputs": [
    {
     "data": {
      "text/plain": [
       "array([ 1, 13, 15,  6,  7,  3, 12, 16,  9, 10,  8,  2,  4,  5, 11, 14, 17])"
      ]
     },
     "execution_count": 193,
     "metadata": {},
     "output_type": "execute_result"
    }
   ],
   "source": [
    "train['cluster'].unique()"
   ]
  },
  {
   "cell_type": "code",
   "execution_count": 194,
   "metadata": {},
   "outputs": [
    {
     "data": {
      "text/html": [
       "<div>\n",
       "<style scoped>\n",
       "    .dataframe tbody tr th:only-of-type {\n",
       "        vertical-align: middle;\n",
       "    }\n",
       "\n",
       "    .dataframe tbody tr th {\n",
       "        vertical-align: top;\n",
       "    }\n",
       "\n",
       "    .dataframe thead th {\n",
       "        text-align: right;\n",
       "    }\n",
       "</style>\n",
       "<table border=\"1\" class=\"dataframe\">\n",
       "  <thead>\n",
       "    <tr style=\"text-align: right;\">\n",
       "      <th></th>\n",
       "      <th>cluster</th>\n",
       "      <th>sales</th>\n",
       "    </tr>\n",
       "  </thead>\n",
       "  <tbody>\n",
       "    <tr>\n",
       "      <th>0</th>\n",
       "      <td>1</td>\n",
       "      <td>6.906517e+06</td>\n",
       "    </tr>\n",
       "    <tr>\n",
       "      <th>1</th>\n",
       "      <td>2</td>\n",
       "      <td>3.551141e+06</td>\n",
       "    </tr>\n",
       "    <tr>\n",
       "      <th>2</th>\n",
       "      <td>3</td>\n",
       "      <td>9.073348e+06</td>\n",
       "    </tr>\n",
       "    <tr>\n",
       "      <th>3</th>\n",
       "      <td>4</td>\n",
       "      <td>5.922079e+06</td>\n",
       "    </tr>\n",
       "    <tr>\n",
       "      <th>4</th>\n",
       "      <td>5</td>\n",
       "      <td>7.297347e+06</td>\n",
       "    </tr>\n",
       "    <tr>\n",
       "      <th>5</th>\n",
       "      <td>6</td>\n",
       "      <td>1.419835e+07</td>\n",
       "    </tr>\n",
       "    <tr>\n",
       "      <th>6</th>\n",
       "      <td>7</td>\n",
       "      <td>1.982032e+06</td>\n",
       "    </tr>\n",
       "    <tr>\n",
       "      <th>7</th>\n",
       "      <td>8</td>\n",
       "      <td>1.290252e+07</td>\n",
       "    </tr>\n",
       "    <tr>\n",
       "      <th>8</th>\n",
       "      <td>9</td>\n",
       "      <td>3.648523e+06</td>\n",
       "    </tr>\n",
       "    <tr>\n",
       "      <th>9</th>\n",
       "      <td>10</td>\n",
       "      <td>1.068829e+07</td>\n",
       "    </tr>\n",
       "    <tr>\n",
       "      <th>10</th>\n",
       "      <td>11</td>\n",
       "      <td>1.234984e+07</td>\n",
       "    </tr>\n",
       "    <tr>\n",
       "      <th>11</th>\n",
       "      <td>12</td>\n",
       "      <td>2.152160e+06</td>\n",
       "    </tr>\n",
       "    <tr>\n",
       "      <th>12</th>\n",
       "      <td>13</td>\n",
       "      <td>9.176781e+06</td>\n",
       "    </tr>\n",
       "    <tr>\n",
       "      <th>13</th>\n",
       "      <td>14</td>\n",
       "      <td>1.875864e+07</td>\n",
       "    </tr>\n",
       "    <tr>\n",
       "      <th>14</th>\n",
       "      <td>15</td>\n",
       "      <td>6.670024e+06</td>\n",
       "    </tr>\n",
       "    <tr>\n",
       "      <th>15</th>\n",
       "      <td>16</td>\n",
       "      <td>1.576205e+06</td>\n",
       "    </tr>\n",
       "    <tr>\n",
       "      <th>16</th>\n",
       "      <td>17</td>\n",
       "      <td>4.020780e+06</td>\n",
       "    </tr>\n",
       "  </tbody>\n",
       "</table>\n",
       "</div>"
      ],
      "text/plain": [
       "    cluster         sales\n",
       "0         1  6.906517e+06\n",
       "1         2  3.551141e+06\n",
       "2         3  9.073348e+06\n",
       "3         4  5.922079e+06\n",
       "4         5  7.297347e+06\n",
       "5         6  1.419835e+07\n",
       "6         7  1.982032e+06\n",
       "7         8  1.290252e+07\n",
       "8         9  3.648523e+06\n",
       "9        10  1.068829e+07\n",
       "10       11  1.234984e+07\n",
       "11       12  2.152160e+06\n",
       "12       13  9.176781e+06\n",
       "13       14  1.875864e+07\n",
       "14       15  6.670024e+06\n",
       "15       16  1.576205e+06\n",
       "16       17  4.020780e+06"
      ]
     },
     "execution_count": 194,
     "metadata": {},
     "output_type": "execute_result"
    }
   ],
   "source": [
    "# Show the sales per cluster\n",
    "cluster_sales = train.groupby('cluster')['sales'].sum().reset_index()\n",
    "cluster_sales "
   ]
  },
  {
   "cell_type": "code",
   "execution_count": 195,
   "metadata": {},
   "outputs": [
    {
     "data": {
      "image/png": "[encoded data removed]",
      "text/plain": [
       "<Figure size 720x720 with 1 Axes>"
      ]
     },
     "metadata": {},
     "output_type": "display_data"
    }
   ],
   "source": [
    "# Plot the sales per Cluster\n",
    "\n",
    "# Setting figure size\n",
    "fig, ax = plt.subplots(figsize=(10, 10))\n",
    "\n",
    "sns.barplot(x='cluster', y='sales', data=cluster_sales, ax=ax)\n",
    "ax.set_xlabel('Cluster')\n",
    "ax.set_ylabel('Total Sales')\n",
    "ax.set_title('Total Sales per Cluster')\n",
    "\n",
    "\n",
    "# Converting y-axis values to full figures\n",
    "ax.yaxis.set_major_formatter(ticker.FuncFormatter(lambda x, pos: f'{int(x):,}'))\n",
    "\n",
    "\n",
    "plt.show()"
   ]
  },
  {
   "cell_type": "markdown",
   "metadata": {},
   "source": [
    "From the plot above we can tell that Cluster 14 is the highest performing cluster and Cluster 16 is the worst performing in terms of sum of sales "
   ]
  },
  {
   "cell_type": "markdown",
   "metadata": {},
   "source": [
    "#### 2. What family brings in the most money across all stores?"
   ]
  },
  {
   "cell_type": "code",
   "execution_count": 196,
   "metadata": {},
   "outputs": [
    {
     "data": {
      "text/plain": [
       "array(['AUTOMOTIVE', 'BABY CARE', 'BEAUTY', 'BEVERAGES', 'BOOKS',\n",
       "       'BREAD/BAKERY', 'CELEBRATION', 'CLEANING', 'DAIRY', 'DELI', 'EGGS',\n",
       "       'FROZEN FOODS', 'GROCERY I', 'GROCERY II', 'HARDWARE',\n",
       "       'HOME AND KITCHEN I', 'HOME AND KITCHEN II', 'HOME APPLIANCES',\n",
       "       'HOME CARE', 'LADIESWEAR', 'LAWN AND GARDEN', 'LINGERIE',\n",
       "       'LIQUOR,WINE,BEER', 'MAGAZINES', 'MEATS', 'PERSONAL CARE',\n",
       "       'PET SUPPLIES', 'PLAYERS AND ELECTRONICS', 'POULTRY',\n",
       "       'PREPARED FOODS', 'PRODUCE', 'SCHOOL AND OFFICE SUPPLIES',\n",
       "       'SEAFOOD'], dtype=object)"
      ]
     },
     "execution_count": 196,
     "metadata": {},
     "output_type": "execute_result"
    }
   ],
   "source": [
    "# Finding the unique families\n",
    "train['family'].unique()"
   ]
  },
  {
   "cell_type": "code",
   "execution_count": 197,
   "metadata": {},
   "outputs": [
    {
     "data": {
      "text/html": [
       "<div>\n",
       "<style scoped>\n",
       "    .dataframe tbody tr th:only-of-type {\n",
       "        vertical-align: middle;\n",
       "    }\n",
       "\n",
       "    .dataframe tbody tr th {\n",
       "        vertical-align: top;\n",
       "    }\n",
       "\n",
       "    .dataframe thead th {\n",
       "        text-align: right;\n",
       "    }\n",
       "</style>\n",
       "<table border=\"1\" class=\"dataframe\">\n",
       "  <thead>\n",
       "    <tr style=\"text-align: right;\">\n",
       "      <th></th>\n",
       "      <th>family</th>\n",
       "      <th>sales</th>\n",
       "    </tr>\n",
       "  </thead>\n",
       "  <tbody>\n",
       "    <tr>\n",
       "      <th>0</th>\n",
       "      <td>AUTOMOTIVE</td>\n",
       "      <td>6.400100e+04</td>\n",
       "    </tr>\n",
       "    <tr>\n",
       "      <th>1</th>\n",
       "      <td>BABY CARE</td>\n",
       "      <td>1.256000e+03</td>\n",
       "    </tr>\n",
       "    <tr>\n",
       "      <th>2</th>\n",
       "      <td>BEAUTY</td>\n",
       "      <td>3.979600e+04</td>\n",
       "    </tr>\n",
       "    <tr>\n",
       "      <th>3</th>\n",
       "      <td>BEVERAGES</td>\n",
       "      <td>2.606395e+07</td>\n",
       "    </tr>\n",
       "    <tr>\n",
       "      <th>4</th>\n",
       "      <td>BOOKS</td>\n",
       "      <td>8.710000e+02</td>\n",
       "    </tr>\n",
       "    <tr>\n",
       "      <th>5</th>\n",
       "      <td>BREAD/BAKERY</td>\n",
       "      <td>4.658867e+06</td>\n",
       "    </tr>\n",
       "    <tr>\n",
       "      <th>6</th>\n",
       "      <td>CELEBRATION</td>\n",
       "      <td>1.034860e+05</td>\n",
       "    </tr>\n",
       "    <tr>\n",
       "      <th>7</th>\n",
       "      <td>CLEANING</td>\n",
       "      <td>1.118853e+07</td>\n",
       "    </tr>\n",
       "    <tr>\n",
       "      <th>8</th>\n",
       "      <td>DAIRY</td>\n",
       "      <td>7.496803e+06</td>\n",
       "    </tr>\n",
       "    <tr>\n",
       "      <th>9</th>\n",
       "      <td>DELI</td>\n",
       "      <td>2.762202e+06</td>\n",
       "    </tr>\n",
       "    <tr>\n",
       "      <th>10</th>\n",
       "      <td>EGGS</td>\n",
       "      <td>1.780250e+06</td>\n",
       "    </tr>\n",
       "    <tr>\n",
       "      <th>11</th>\n",
       "      <td>FROZEN FOODS</td>\n",
       "      <td>2.658177e+06</td>\n",
       "    </tr>\n",
       "    <tr>\n",
       "      <th>12</th>\n",
       "      <td>GROCERY I</td>\n",
       "      <td>4.197371e+07</td>\n",
       "    </tr>\n",
       "    <tr>\n",
       "      <th>13</th>\n",
       "      <td>GROCERY II</td>\n",
       "      <td>2.570770e+05</td>\n",
       "    </tr>\n",
       "    <tr>\n",
       "      <th>14</th>\n",
       "      <td>HARDWARE</td>\n",
       "      <td>1.196800e+04</td>\n",
       "    </tr>\n",
       "    <tr>\n",
       "      <th>15</th>\n",
       "      <td>HOME AND KITCHEN I</td>\n",
       "      <td>2.560500e+05</td>\n",
       "    </tr>\n",
       "    <tr>\n",
       "      <th>16</th>\n",
       "      <td>HOME AND KITCHEN II</td>\n",
       "      <td>1.893700e+05</td>\n",
       "    </tr>\n",
       "    <tr>\n",
       "      <th>17</th>\n",
       "      <td>HOME APPLIANCES</td>\n",
       "      <td>4.583000e+03</td>\n",
       "    </tr>\n",
       "    <tr>\n",
       "      <th>18</th>\n",
       "      <td>HOME CARE</td>\n",
       "      <td>2.061128e+06</td>\n",
       "    </tr>\n",
       "    <tr>\n",
       "      <th>19</th>\n",
       "      <td>LADIESWEAR</td>\n",
       "      <td>7.583800e+04</td>\n",
       "    </tr>\n",
       "    <tr>\n",
       "      <th>20</th>\n",
       "      <td>LAWN AND GARDEN</td>\n",
       "      <td>6.292200e+04</td>\n",
       "    </tr>\n",
       "    <tr>\n",
       "      <th>21</th>\n",
       "      <td>LINGERIE</td>\n",
       "      <td>7.401700e+04</td>\n",
       "    </tr>\n",
       "    <tr>\n",
       "      <th>22</th>\n",
       "      <td>LIQUOR,WINE,BEER</td>\n",
       "      <td>1.238011e+06</td>\n",
       "    </tr>\n",
       "    <tr>\n",
       "      <th>23</th>\n",
       "      <td>MAGAZINES</td>\n",
       "      <td>3.680000e+04</td>\n",
       "    </tr>\n",
       "    <tr>\n",
       "      <th>24</th>\n",
       "      <td>MEATS</td>\n",
       "      <td>3.670507e+06</td>\n",
       "    </tr>\n",
       "    <tr>\n",
       "      <th>25</th>\n",
       "      <td>PERSONAL CARE</td>\n",
       "      <td>2.869735e+06</td>\n",
       "    </tr>\n",
       "    <tr>\n",
       "      <th>26</th>\n",
       "      <td>PET SUPPLIES</td>\n",
       "      <td>4.592800e+04</td>\n",
       "    </tr>\n",
       "    <tr>\n",
       "      <th>27</th>\n",
       "      <td>PLAYERS AND ELECTRONICS</td>\n",
       "      <td>7.882300e+04</td>\n",
       "    </tr>\n",
       "    <tr>\n",
       "      <th>28</th>\n",
       "      <td>POULTRY</td>\n",
       "      <td>3.814823e+06</td>\n",
       "    </tr>\n",
       "    <tr>\n",
       "      <th>29</th>\n",
       "      <td>PREPARED FOODS</td>\n",
       "      <td>9.952612e+05</td>\n",
       "    </tr>\n",
       "    <tr>\n",
       "      <th>30</th>\n",
       "      <td>PRODUCE</td>\n",
       "      <td>1.608510e+07</td>\n",
       "    </tr>\n",
       "    <tr>\n",
       "      <th>31</th>\n",
       "      <td>SCHOOL AND OFFICE SUPPLIES</td>\n",
       "      <td>3.271800e+04</td>\n",
       "    </tr>\n",
       "    <tr>\n",
       "      <th>32</th>\n",
       "      <td>SEAFOOD</td>\n",
       "      <td>2.220208e+05</td>\n",
       "    </tr>\n",
       "  </tbody>\n",
       "</table>\n",
       "</div>"
      ],
      "text/plain": [
       "                        family         sales\n",
       "0                   AUTOMOTIVE  6.400100e+04\n",
       "1                    BABY CARE  1.256000e+03\n",
       "2                       BEAUTY  3.979600e+04\n",
       "3                    BEVERAGES  2.606395e+07\n",
       "4                        BOOKS  8.710000e+02\n",
       "5                 BREAD/BAKERY  4.658867e+06\n",
       "6                  CELEBRATION  1.034860e+05\n",
       "7                     CLEANING  1.118853e+07\n",
       "8                        DAIRY  7.496803e+06\n",
       "9                         DELI  2.762202e+06\n",
       "10                        EGGS  1.780250e+06\n",
       "11                FROZEN FOODS  2.658177e+06\n",
       "12                   GROCERY I  4.197371e+07\n",
       "13                  GROCERY II  2.570770e+05\n",
       "14                    HARDWARE  1.196800e+04\n",
       "15          HOME AND KITCHEN I  2.560500e+05\n",
       "16         HOME AND KITCHEN II  1.893700e+05\n",
       "17             HOME APPLIANCES  4.583000e+03\n",
       "18                   HOME CARE  2.061128e+06\n",
       "19                  LADIESWEAR  7.583800e+04\n",
       "20             LAWN AND GARDEN  6.292200e+04\n",
       "21                    LINGERIE  7.401700e+04\n",
       "22            LIQUOR,WINE,BEER  1.238011e+06\n",
       "23                   MAGAZINES  3.680000e+04\n",
       "24                       MEATS  3.670507e+06\n",
       "25               PERSONAL CARE  2.869735e+06\n",
       "26                PET SUPPLIES  4.592800e+04\n",
       "27     PLAYERS AND ELECTRONICS  7.882300e+04\n",
       "28                     POULTRY  3.814823e+06\n",
       "29              PREPARED FOODS  9.952612e+05\n",
       "30                     PRODUCE  1.608510e+07\n",
       "31  SCHOOL AND OFFICE SUPPLIES  3.271800e+04\n",
       "32                     SEAFOOD  2.220208e+05"
      ]
     },
     "execution_count": 197,
     "metadata": {},
     "output_type": "execute_result"
    }
   ],
   "source": [
    "# Find the sales per family\n",
    "family_sales = train.groupby('family')['sales'].sum().reset_index()\n",
    "family_sales"
   ]
  },
  {
   "cell_type": "code",
   "execution_count": 198,
   "metadata": {},
   "outputs": [
    {
     "data": {
      "image/png": "[encoded data removed]",
      "text/plain": [
       "<Figure size 720x720 with 1 Axes>"
      ]
     },
     "metadata": {},
     "output_type": "display_data"
    }
   ],
   "source": [
    "# Plot the sales per family\n",
    "\n",
    "# Setting figure size\n",
    "fig, ax = plt.subplots(figsize=(10, 10))\n",
    "\n",
    "sns.barplot(x='sales', y='family', data=family_sales, ax=ax)\n",
    "ax.set_xlabel('Total Sales')\n",
    "ax.set_ylabel('Family')\n",
    "ax.set_title('Total Sales per Family')\n",
    "plt.xticks(rotation=45)\n",
    "\n",
    "# Converting x-axis values to full figures\n",
    "ax.xaxis.set_major_formatter(ticker.FuncFormatter(lambda x, pos: f'{int(x):,}'))\n",
    "\n",
    "\n",
    "plt.show()"
   ]
  },
  {
   "cell_type": "markdown",
   "metadata": {},
   "source": [
    "From the plot above we can tell that GROCERY I is the highest selling 'family' out of the 33 'families'"
   ]
  },
  {
   "cell_type": "markdown",
   "metadata": {},
   "source": [
    "#### 3. Which locales are the busiest in terms of transactions?"
   ]
  },
  {
   "cell_type": "code",
   "execution_count": 199,
   "metadata": {},
   "outputs": [
    {
     "data": {
      "text/plain": [
       "array(['Ecuador', 'Cotopaxi', 'Cuenca', 'Imbabura', 'Machala',\n",
       "       'Latacunga', 'El Carmen', 'Santo Domingo', 'Cayambe', 'Guayaquil',\n",
       "       'Esmeraldas', 'Riobamba', 'Quevedo',\n",
       "       'Santo Domingo de los Tsachilas', 'Santa Elena', 'Ambato', 'Quito',\n",
       "       'Libertad', 'Puyo', 'Guaranda', 'Loja', 'Salinas', 'Manta',\n",
       "       'Ibarra'], dtype=object)"
      ]
     },
     "execution_count": 199,
     "metadata": {},
     "output_type": "execute_result"
    }
   ],
   "source": [
    "# Find unique locales\n",
    "train['locale_name'].unique()"
   ]
  },
  {
   "cell_type": "code",
   "execution_count": 200,
   "metadata": {},
   "outputs": [
    {
     "data": {
      "text/html": [
       "<div>\n",
       "<style scoped>\n",
       "    .dataframe tbody tr th:only-of-type {\n",
       "        vertical-align: middle;\n",
       "    }\n",
       "\n",
       "    .dataframe tbody tr th {\n",
       "        vertical-align: top;\n",
       "    }\n",
       "\n",
       "    .dataframe thead th {\n",
       "        text-align: right;\n",
       "    }\n",
       "</style>\n",
       "<table border=\"1\" class=\"dataframe\">\n",
       "  <thead>\n",
       "    <tr style=\"text-align: right;\">\n",
       "      <th></th>\n",
       "      <th>locale_name</th>\n",
       "      <th>transactions</th>\n",
       "    </tr>\n",
       "  </thead>\n",
       "  <tbody>\n",
       "    <tr>\n",
       "      <th>0</th>\n",
       "      <td>Ambato</td>\n",
       "      <td>12571053</td>\n",
       "    </tr>\n",
       "    <tr>\n",
       "      <th>1</th>\n",
       "      <td>Cayambe</td>\n",
       "      <td>7350420</td>\n",
       "    </tr>\n",
       "    <tr>\n",
       "      <th>2</th>\n",
       "      <td>Cotopaxi</td>\n",
       "      <td>11397507</td>\n",
       "    </tr>\n",
       "    <tr>\n",
       "      <th>3</th>\n",
       "      <td>Cuenca</td>\n",
       "      <td>10978803</td>\n",
       "    </tr>\n",
       "    <tr>\n",
       "      <th>4</th>\n",
       "      <td>Ecuador</td>\n",
       "      <td>295506222</td>\n",
       "    </tr>\n",
       "    <tr>\n",
       "      <th>5</th>\n",
       "      <td>El Carmen</td>\n",
       "      <td>11042229</td>\n",
       "    </tr>\n",
       "    <tr>\n",
       "      <th>6</th>\n",
       "      <td>Esmeraldas</td>\n",
       "      <td>10915938</td>\n",
       "    </tr>\n",
       "    <tr>\n",
       "      <th>7</th>\n",
       "      <td>Guaranda</td>\n",
       "      <td>17751789</td>\n",
       "    </tr>\n",
       "    <tr>\n",
       "      <th>8</th>\n",
       "      <td>Guayaquil</td>\n",
       "      <td>20605695</td>\n",
       "    </tr>\n",
       "    <tr>\n",
       "      <th>9</th>\n",
       "      <td>Ibarra</td>\n",
       "      <td>4948482</td>\n",
       "    </tr>\n",
       "    <tr>\n",
       "      <th>10</th>\n",
       "      <td>Imbabura</td>\n",
       "      <td>7160340</td>\n",
       "    </tr>\n",
       "    <tr>\n",
       "      <th>11</th>\n",
       "      <td>Latacunga</td>\n",
       "      <td>17223096</td>\n",
       "    </tr>\n",
       "    <tr>\n",
       "      <th>12</th>\n",
       "      <td>Libertad</td>\n",
       "      <td>10355565</td>\n",
       "    </tr>\n",
       "    <tr>\n",
       "      <th>13</th>\n",
       "      <td>Loja</td>\n",
       "      <td>8330454</td>\n",
       "    </tr>\n",
       "    <tr>\n",
       "      <th>14</th>\n",
       "      <td>Machala</td>\n",
       "      <td>7160340</td>\n",
       "    </tr>\n",
       "    <tr>\n",
       "      <th>15</th>\n",
       "      <td>Manta</td>\n",
       "      <td>8570826</td>\n",
       "    </tr>\n",
       "    <tr>\n",
       "      <th>16</th>\n",
       "      <td>Puyo</td>\n",
       "      <td>10592604</td>\n",
       "    </tr>\n",
       "    <tr>\n",
       "      <th>17</th>\n",
       "      <td>Quevedo</td>\n",
       "      <td>10433478</td>\n",
       "    </tr>\n",
       "    <tr>\n",
       "      <th>18</th>\n",
       "      <td>Quito</td>\n",
       "      <td>13988667</td>\n",
       "    </tr>\n",
       "    <tr>\n",
       "      <th>19</th>\n",
       "      <td>Riobamba</td>\n",
       "      <td>21660903</td>\n",
       "    </tr>\n",
       "    <tr>\n",
       "      <th>20</th>\n",
       "      <td>Salinas</td>\n",
       "      <td>13608771</td>\n",
       "    </tr>\n",
       "    <tr>\n",
       "      <th>21</th>\n",
       "      <td>Santa Elena</td>\n",
       "      <td>7626960</td>\n",
       "    </tr>\n",
       "    <tr>\n",
       "      <th>22</th>\n",
       "      <td>Santo Domingo</td>\n",
       "      <td>11042229</td>\n",
       "    </tr>\n",
       "    <tr>\n",
       "      <th>23</th>\n",
       "      <td>Santo Domingo de los Tsachilas</td>\n",
       "      <td>7645077</td>\n",
       "    </tr>\n",
       "  </tbody>\n",
       "</table>\n",
       "</div>"
      ],
      "text/plain": [
       "                       locale_name  transactions\n",
       "0                           Ambato      12571053\n",
       "1                          Cayambe       7350420\n",
       "2                         Cotopaxi      11397507\n",
       "3                           Cuenca      10978803\n",
       "4                          Ecuador     295506222\n",
       "5                        El Carmen      11042229\n",
       "6                       Esmeraldas      10915938\n",
       "7                         Guaranda      17751789\n",
       "8                        Guayaquil      20605695\n",
       "9                           Ibarra       4948482\n",
       "10                        Imbabura       7160340\n",
       "11                       Latacunga      17223096\n",
       "12                        Libertad      10355565\n",
       "13                            Loja       8330454\n",
       "14                         Machala       7160340\n",
       "15                           Manta       8570826\n",
       "16                            Puyo      10592604\n",
       "17                         Quevedo      10433478\n",
       "18                           Quito      13988667\n",
       "19                        Riobamba      21660903\n",
       "20                         Salinas      13608771\n",
       "21                     Santa Elena       7626960\n",
       "22                   Santo Domingo      11042229\n",
       "23  Santo Domingo de los Tsachilas       7645077"
      ]
     },
     "execution_count": 200,
     "metadata": {},
     "output_type": "execute_result"
    }
   ],
   "source": [
    "# Group transactions by the unique locale_names\n",
    "locale_trans = train.groupby('locale_name')['transactions'].sum().reset_index()\n",
    "locale_trans"
   ]
  },
  {
   "cell_type": "code",
   "execution_count": 201,
   "metadata": {},
   "outputs": [
    {
     "data": {
      "image/png": "[encoded data removed]",
      "text/plain": [
       "<Figure size 864x432 with 1 Axes>"
      ]
     },
     "metadata": {},
     "output_type": "display_data"
    }
   ],
   "source": [
    "# Plotting the locale names against the number of transactions \n",
    "fig, ax = plt.subplots(figsize=(12, 6))\n",
    "sns.barplot(x='locale_name', y='transactions', data=locale_trans, ax=ax)\n",
    "ax.set_xlabel('Locale Name')\n",
    "ax.set_ylabel('Transactions')\n",
    "ax.set_title('Transactions per Locale')\n",
    "\n",
    "# Rotate x-axis labels\n",
    "plt.xticks(rotation=70)\n",
    "\n",
    "# Converting y-axis values to full figures\n",
    "ax.yaxis.set_major_formatter(ticker.FuncFormatter(lambda x, pos: f'{int(x):,}'))\n",
    "\n",
    "plt.show()"
   ]
  },
  {
   "cell_type": "markdown",
   "metadata": {},
   "source": [
    "From the above graph we can tell that the locale_name 'Ecuador' had the most transactions"
   ]
  },
  {
   "cell_type": "markdown",
   "metadata": {},
   "source": [
    "### 4. In which year did most of the transactions happen?"
   ]
  },
  {
   "cell_type": "code",
   "execution_count": 202,
   "metadata": {},
   "outputs": [
    {
     "data": {
      "text/plain": [
       "array([2013, 2014, 2015, 2016, 2017], dtype=int32)"
      ]
     },
     "execution_count": 202,
     "metadata": {},
     "output_type": "execute_result"
    }
   ],
   "source": [
    "# Create array to store years from date column\n",
    "train['Year'] = train['date'].dt.year\n",
    "train['Year'].unique()"
   ]
  },
  {
   "cell_type": "code",
   "execution_count": 203,
   "metadata": {},
   "outputs": [
    {
     "data": {
      "text/plain": [
       "Year\n",
       "2013    46266\n",
       "2014    73524\n",
       "2015    65901\n",
       "2016    99198\n",
       "2017    37158\n",
       "Name: transactions, dtype: int64"
      ]
     },
     "execution_count": 203,
     "metadata": {},
     "output_type": "execute_result"
    }
   ],
   "source": [
    "# Group transactions by the years\n",
    "transactions_per_year = train.groupby('Year')['transactions'].count()\n",
    "transactions_per_year"
   ]
  },
  {
   "cell_type": "code",
   "execution_count": 204,
   "metadata": {},
   "outputs": [
    {
     "data": {
      "image/png": "[encoded data removed]",
      "text/plain": [
       "<Figure size 576x576 with 1 Axes>"
      ]
     },
     "metadata": {},
     "output_type": "display_data"
    }
   ],
   "source": [
    "plt.figure(figsize=(8, 8))  # Set the figure size if needed\n",
    "sns.set(style=\"whitegrid\")\n",
    "\n",
    "plt.pie(transactions_per_year, labels=transactions_per_year.index, autopct='%1.1f%%')\n",
    "plt.title('Distribution of Transactions per Year')\n",
    "\n",
    "plt.show()"
   ]
  },
  {
   "cell_type": "markdown",
   "metadata": {},
   "source": [
    "From the graph above we can tell that the year 2016 had the most transactions in the dataset"
   ]
  },
  {
   "cell_type": "markdown",
   "metadata": {},
   "source": [
    "#### 5. How have sales been over the years?"
   ]
  },
  {
   "cell_type": "code",
   "execution_count": 205,
   "metadata": {},
   "outputs": [
    {
     "data": {
      "text/plain": [
       "array([2013, 2014, 2015, 2016, 2017], dtype=int32)"
      ]
     },
     "execution_count": 205,
     "metadata": {},
     "output_type": "execute_result"
    }
   ],
   "source": [
    "# Create array to store years from date column\n",
    "train['Year'] = train['date'].dt.year\n",
    "train['Year'].unique()"
   ]
  },
  {
   "cell_type": "code",
   "execution_count": 206,
   "metadata": {},
   "outputs": [
    {
     "data": {
      "text/html": [
       "<div>\n",
       "<style scoped>\n",
       "    .dataframe tbody tr th:only-of-type {\n",
       "        vertical-align: middle;\n",
       "    }\n",
       "\n",
       "    .dataframe tbody tr th {\n",
       "        vertical-align: top;\n",
       "    }\n",
       "\n",
       "    .dataframe thead th {\n",
       "        text-align: right;\n",
       "    }\n",
       "</style>\n",
       "<table border=\"1\" class=\"dataframe\">\n",
       "  <thead>\n",
       "    <tr style=\"text-align: right;\">\n",
       "      <th></th>\n",
       "      <th>Year</th>\n",
       "      <th>sales</th>\n",
       "    </tr>\n",
       "  </thead>\n",
       "  <tbody>\n",
       "    <tr>\n",
       "      <th>0</th>\n",
       "      <td>2013</td>\n",
       "      <td>1.166394e+07</td>\n",
       "    </tr>\n",
       "    <tr>\n",
       "      <th>1</th>\n",
       "      <td>2014</td>\n",
       "      <td>2.809424e+07</td>\n",
       "    </tr>\n",
       "    <tr>\n",
       "      <th>2</th>\n",
       "      <td>2015</td>\n",
       "      <td>2.752824e+07</td>\n",
       "    </tr>\n",
       "    <tr>\n",
       "      <th>3</th>\n",
       "      <td>2016</td>\n",
       "      <td>4.566470e+07</td>\n",
       "    </tr>\n",
       "    <tr>\n",
       "      <th>4</th>\n",
       "      <td>2017</td>\n",
       "      <td>1.792345e+07</td>\n",
       "    </tr>\n",
       "  </tbody>\n",
       "</table>\n",
       "</div>"
      ],
      "text/plain": [
       "   Year         sales\n",
       "0  2013  1.166394e+07\n",
       "1  2014  2.809424e+07\n",
       "2  2015  2.752824e+07\n",
       "3  2016  4.566470e+07\n",
       "4  2017  1.792345e+07"
      ]
     },
     "execution_count": 206,
     "metadata": {},
     "output_type": "execute_result"
    }
   ],
   "source": [
    "# Group sales by the years\n",
    "sales_per_year = train.groupby('Year')['sales'].sum().reset_index()\n",
    "sales_per_year"
   ]
  },
  {
   "cell_type": "code",
   "execution_count": 207,
   "metadata": {},
   "outputs": [
    {
     "data": {
      "image/png": "[encoded data removed]",
      "text/plain": [
       "<Figure size 720x432 with 1 Axes>"
      ]
     },
     "metadata": {},
     "output_type": "display_data"
    }
   ],
   "source": [
    "# Plotting Sales per year\n",
    "plt.figure(figsize=(10, 6))\n",
    "sns.lineplot(x='Year', y='sales', data=sales_per_year, marker='o')\n",
    "plt.xlabel('Year')\n",
    "plt.ylabel('Sales')\n",
    "plt.title('Sales per Year')\n",
    "\n",
    "# Removing grid lines\n",
    "plt.grid(False)\n",
    "\n",
    "# Changing x-axis values to integers\n",
    "plt.xticks(sales_per_year['Year'], sales_per_year['Year'].astype(int))\n",
    "\n",
    "# Converting y-axis values to full figures\n",
    "plt.gca().yaxis.set_major_formatter(ticker.FuncFormatter(lambda x, pos: f'{int(x):,}'))\n",
    "\n",
    "plt.show()"
   ]
  },
  {
   "cell_type": "markdown",
   "metadata": {},
   "source": [
    "#### 6. What are the dates of the top 10 sales?"
   ]
  },
  {
   "cell_type": "code",
   "execution_count": 208,
   "metadata": {},
   "outputs": [
    {
     "data": {
      "text/html": [
       "<div>\n",
       "<style scoped>\n",
       "    .dataframe tbody tr th:only-of-type {\n",
       "        vertical-align: middle;\n",
       "    }\n",
       "\n",
       "    .dataframe tbody tr th {\n",
       "        vertical-align: top;\n",
       "    }\n",
       "\n",
       "    .dataframe thead th {\n",
       "        text-align: right;\n",
       "    }\n",
       "</style>\n",
       "<table border=\"1\" class=\"dataframe\">\n",
       "  <thead>\n",
       "    <tr style=\"text-align: right;\">\n",
       "      <th></th>\n",
       "      <th>date</th>\n",
       "      <th>id</th>\n",
       "      <th>store_nbr</th>\n",
       "      <th>family</th>\n",
       "      <th>sales</th>\n",
       "      <th>onpromotion</th>\n",
       "      <th>transactions</th>\n",
       "      <th>holiday_type</th>\n",
       "      <th>locale</th>\n",
       "      <th>locale_name</th>\n",
       "      <th>description</th>\n",
       "      <th>transferred</th>\n",
       "      <th>oil_price</th>\n",
       "      <th>city</th>\n",
       "      <th>state</th>\n",
       "      <th>store_type</th>\n",
       "      <th>cluster</th>\n",
       "      <th>Year</th>\n",
       "    </tr>\n",
       "  </thead>\n",
       "  <tbody>\n",
       "    <tr>\n",
       "      <th>80598</th>\n",
       "      <td>2016-05-02</td>\n",
       "      <td>2163723</td>\n",
       "      <td>2</td>\n",
       "      <td>GROCERY I</td>\n",
       "      <td>124717.000</td>\n",
       "      <td>59</td>\n",
       "      <td>1905</td>\n",
       "      <td>Event</td>\n",
       "      <td>National</td>\n",
       "      <td>Ecuador</td>\n",
       "      <td>Terremoto Manabi+16</td>\n",
       "      <td>False</td>\n",
       "      <td>44.750000</td>\n",
       "      <td>Quito</td>\n",
       "      <td>Pichincha</td>\n",
       "      <td>D</td>\n",
       "      <td>13</td>\n",
       "      <td>2016</td>\n",
       "    </tr>\n",
       "    <tr>\n",
       "      <th>176607</th>\n",
       "      <td>2016-10-07</td>\n",
       "      <td>2445984</td>\n",
       "      <td>39</td>\n",
       "      <td>MEATS</td>\n",
       "      <td>89576.360</td>\n",
       "      <td>0</td>\n",
       "      <td>1295</td>\n",
       "      <td>Holiday</td>\n",
       "      <td>Local</td>\n",
       "      <td>Quevedo</td>\n",
       "      <td>Cantonizacion de Quevedo</td>\n",
       "      <td>False</td>\n",
       "      <td>49.759998</td>\n",
       "      <td>Cuenca</td>\n",
       "      <td>Azuay</td>\n",
       "      <td>B</td>\n",
       "      <td>6</td>\n",
       "      <td>2016</td>\n",
       "    </tr>\n",
       "    <tr>\n",
       "      <th>306066</th>\n",
       "      <td>2016-04-21</td>\n",
       "      <td>2144154</td>\n",
       "      <td>20</td>\n",
       "      <td>GROCERY I</td>\n",
       "      <td>87438.516</td>\n",
       "      <td>53</td>\n",
       "      <td>1692</td>\n",
       "      <td>Holiday</td>\n",
       "      <td>Local</td>\n",
       "      <td>Riobamba</td>\n",
       "      <td>Cantonizacion de Riobamba</td>\n",
       "      <td>False</td>\n",
       "      <td>43.180000</td>\n",
       "      <td>Quito</td>\n",
       "      <td>Pichincha</td>\n",
       "      <td>B</td>\n",
       "      <td>6</td>\n",
       "      <td>2016</td>\n",
       "    </tr>\n",
       "    <tr>\n",
       "      <th>306067</th>\n",
       "      <td>2016-04-21</td>\n",
       "      <td>2144154</td>\n",
       "      <td>20</td>\n",
       "      <td>GROCERY I</td>\n",
       "      <td>87438.516</td>\n",
       "      <td>53</td>\n",
       "      <td>1692</td>\n",
       "      <td>Event</td>\n",
       "      <td>National</td>\n",
       "      <td>Ecuador</td>\n",
       "      <td>Terremoto Manabi+5</td>\n",
       "      <td>False</td>\n",
       "      <td>43.180000</td>\n",
       "      <td>Quito</td>\n",
       "      <td>Pichincha</td>\n",
       "      <td>B</td>\n",
       "      <td>6</td>\n",
       "      <td>2016</td>\n",
       "    </tr>\n",
       "    <tr>\n",
       "      <th>213918</th>\n",
       "      <td>2016-04-18</td>\n",
       "      <td>2139699</td>\n",
       "      <td>45</td>\n",
       "      <td>GROCERY I</td>\n",
       "      <td>76090.000</td>\n",
       "      <td>38</td>\n",
       "      <td>3895</td>\n",
       "      <td>Event</td>\n",
       "      <td>National</td>\n",
       "      <td>Ecuador</td>\n",
       "      <td>Terremoto Manabi+2</td>\n",
       "      <td>False</td>\n",
       "      <td>39.740002</td>\n",
       "      <td>Quito</td>\n",
       "      <td>Pichincha</td>\n",
       "      <td>A</td>\n",
       "      <td>11</td>\n",
       "      <td>2016</td>\n",
       "    </tr>\n",
       "    <tr>\n",
       "      <th>80466</th>\n",
       "      <td>2016-04-26</td>\n",
       "      <td>2153031</td>\n",
       "      <td>2</td>\n",
       "      <td>GROCERY I</td>\n",
       "      <td>63434.000</td>\n",
       "      <td>30</td>\n",
       "      <td>1778</td>\n",
       "      <td>Event</td>\n",
       "      <td>National</td>\n",
       "      <td>Ecuador</td>\n",
       "      <td>Terremoto Manabi+10</td>\n",
       "      <td>False</td>\n",
       "      <td>42.520000</td>\n",
       "      <td>Quito</td>\n",
       "      <td>Pichincha</td>\n",
       "      <td>D</td>\n",
       "      <td>13</td>\n",
       "      <td>2016</td>\n",
       "    </tr>\n",
       "    <tr>\n",
       "      <th>214029</th>\n",
       "      <td>2016-04-21</td>\n",
       "      <td>2145045</td>\n",
       "      <td>45</td>\n",
       "      <td>GROCERY I</td>\n",
       "      <td>53874.000</td>\n",
       "      <td>44</td>\n",
       "      <td>3079</td>\n",
       "      <td>Holiday</td>\n",
       "      <td>Local</td>\n",
       "      <td>Riobamba</td>\n",
       "      <td>Cantonizacion de Riobamba</td>\n",
       "      <td>False</td>\n",
       "      <td>43.180000</td>\n",
       "      <td>Quito</td>\n",
       "      <td>Pichincha</td>\n",
       "      <td>A</td>\n",
       "      <td>11</td>\n",
       "      <td>2016</td>\n",
       "    </tr>\n",
       "    <tr>\n",
       "      <th>214030</th>\n",
       "      <td>2016-04-21</td>\n",
       "      <td>2145045</td>\n",
       "      <td>45</td>\n",
       "      <td>GROCERY I</td>\n",
       "      <td>53874.000</td>\n",
       "      <td>44</td>\n",
       "      <td>3079</td>\n",
       "      <td>Event</td>\n",
       "      <td>National</td>\n",
       "      <td>Ecuador</td>\n",
       "      <td>Terremoto Manabi+5</td>\n",
       "      <td>False</td>\n",
       "      <td>43.180000</td>\n",
       "      <td>Quito</td>\n",
       "      <td>Pichincha</td>\n",
       "      <td>A</td>\n",
       "      <td>11</td>\n",
       "      <td>2016</td>\n",
       "    </tr>\n",
       "    <tr>\n",
       "      <th>204216</th>\n",
       "      <td>2013-11-12</td>\n",
       "      <td>562596</td>\n",
       "      <td>44</td>\n",
       "      <td>GROCERY I</td>\n",
       "      <td>46271.000</td>\n",
       "      <td>0</td>\n",
       "      <td>3577</td>\n",
       "      <td>Holiday</td>\n",
       "      <td>Local</td>\n",
       "      <td>Ambato</td>\n",
       "      <td>Independencia de Ambato</td>\n",
       "      <td>False</td>\n",
       "      <td>93.120003</td>\n",
       "      <td>Quito</td>\n",
       "      <td>Pichincha</td>\n",
       "      <td>A</td>\n",
       "      <td>5</td>\n",
       "      <td>2013</td>\n",
       "    </tr>\n",
       "    <tr>\n",
       "      <th>154518</th>\n",
       "      <td>2014-12-08</td>\n",
       "      <td>1257246</td>\n",
       "      <td>35</td>\n",
       "      <td>GROCERY I</td>\n",
       "      <td>45361.000</td>\n",
       "      <td>3</td>\n",
       "      <td>624</td>\n",
       "      <td>Holiday</td>\n",
       "      <td>Local</td>\n",
       "      <td>Loja</td>\n",
       "      <td>Fundacion de Loja</td>\n",
       "      <td>False</td>\n",
       "      <td>63.130001</td>\n",
       "      <td>Playas</td>\n",
       "      <td>Guayas</td>\n",
       "      <td>C</td>\n",
       "      <td>3</td>\n",
       "      <td>2014</td>\n",
       "    </tr>\n",
       "  </tbody>\n",
       "</table>\n",
       "</div>"
      ],
      "text/plain": [
       "             date       id  store_nbr     family       sales  onpromotion  \\\n",
       "80598  2016-05-02  2163723          2  GROCERY I  124717.000           59   \n",
       "176607 2016-10-07  2445984         39      MEATS   89576.360            0   \n",
       "306066 2016-04-21  2144154         20  GROCERY I   87438.516           53   \n",
       "306067 2016-04-21  2144154         20  GROCERY I   87438.516           53   \n",
       "213918 2016-04-18  2139699         45  GROCERY I   76090.000           38   \n",
       "80466  2016-04-26  2153031          2  GROCERY I   63434.000           30   \n",
       "214029 2016-04-21  2145045         45  GROCERY I   53874.000           44   \n",
       "214030 2016-04-21  2145045         45  GROCERY I   53874.000           44   \n",
       "204216 2013-11-12   562596         44  GROCERY I   46271.000            0   \n",
       "154518 2014-12-08  1257246         35  GROCERY I   45361.000            3   \n",
       "\n",
       "        transactions holiday_type    locale locale_name  \\\n",
       "80598           1905        Event  National     Ecuador   \n",
       "176607          1295      Holiday     Local     Quevedo   \n",
       "306066          1692      Holiday     Local    Riobamba   \n",
       "306067          1692        Event  National     Ecuador   \n",
       "213918          3895        Event  National     Ecuador   \n",
       "80466           1778        Event  National     Ecuador   \n",
       "214029          3079      Holiday     Local    Riobamba   \n",
       "214030          3079        Event  National     Ecuador   \n",
       "204216          3577      Holiday     Local      Ambato   \n",
       "154518           624      Holiday     Local        Loja   \n",
       "\n",
       "                      description  transferred  oil_price    city      state  \\\n",
       "80598         Terremoto Manabi+16        False  44.750000   Quito  Pichincha   \n",
       "176607   Cantonizacion de Quevedo        False  49.759998  Cuenca      Azuay   \n",
       "306066  Cantonizacion de Riobamba        False  43.180000   Quito  Pichincha   \n",
       "306067         Terremoto Manabi+5        False  43.180000   Quito  Pichincha   \n",
       "213918         Terremoto Manabi+2        False  39.740002   Quito  Pichincha   \n",
       "80466         Terremoto Manabi+10        False  42.520000   Quito  Pichincha   \n",
       "214029  Cantonizacion de Riobamba        False  43.180000   Quito  Pichincha   \n",
       "214030         Terremoto Manabi+5        False  43.180000   Quito  Pichincha   \n",
       "204216    Independencia de Ambato        False  93.120003   Quito  Pichincha   \n",
       "154518          Fundacion de Loja        False  63.130001  Playas     Guayas   \n",
       "\n",
       "       store_type  cluster  Year  \n",
       "80598           D       13  2016  \n",
       "176607          B        6  2016  \n",
       "306066          B        6  2016  \n",
       "306067          B        6  2016  \n",
       "213918          A       11  2016  \n",
       "80466           D       13  2016  \n",
       "214029          A       11  2016  \n",
       "214030          A       11  2016  \n",
       "204216          A        5  2013  \n",
       "154518          C        3  2014  "
      ]
     },
     "execution_count": 208,
     "metadata": {},
     "output_type": "execute_result"
    }
   ],
   "source": [
    "# Finding the top 10 sales\n",
    "top_10_sales = train.nlargest(10, 'sales')\n",
    "top_10_sales"
   ]
  },
  {
   "cell_type": "code",
   "execution_count": 209,
   "metadata": {},
   "outputs": [
    {
     "data": {
      "image/png": "[encoded data removed]",
      "text/plain": [
       "<Figure size 720x432 with 1 Axes>"
      ]
     },
     "metadata": {},
     "output_type": "display_data"
    }
   ],
   "source": [
    "# Plotting the top 10 sales dates\n",
    "plt.figure(figsize=(10, 6))\n",
    "sns.lineplot(x='date', y='sales', data=top_10_sales, marker='o')\n",
    "\n",
    "plt.xlabel('Date')\n",
    "plt.ylabel('Sales')\n",
    "plt.title('Dates of Top 10 Sales')\n",
    "plt.xticks(rotation=45)\n",
    "\n",
    "plt.grid(False)\n",
    "plt.show()"
   ]
  },
  {
   "cell_type": "markdown",
   "metadata": {},
   "source": [
    "#### 7. What were the dates of the highest sales for each year?"
   ]
  },
  {
   "cell_type": "code",
   "execution_count": 210,
   "metadata": {},
   "outputs": [
    {
     "data": {
      "text/html": [
       "<div>\n",
       "<style scoped>\n",
       "    .dataframe tbody tr th:only-of-type {\n",
       "        vertical-align: middle;\n",
       "    }\n",
       "\n",
       "    .dataframe tbody tr th {\n",
       "        vertical-align: top;\n",
       "    }\n",
       "\n",
       "    .dataframe thead th {\n",
       "        text-align: right;\n",
       "    }\n",
       "</style>\n",
       "<table border=\"1\" class=\"dataframe\">\n",
       "  <thead>\n",
       "    <tr style=\"text-align: right;\">\n",
       "      <th></th>\n",
       "      <th>date</th>\n",
       "      <th>id</th>\n",
       "      <th>store_nbr</th>\n",
       "      <th>family</th>\n",
       "      <th>sales</th>\n",
       "      <th>onpromotion</th>\n",
       "      <th>transactions</th>\n",
       "      <th>holiday_type</th>\n",
       "      <th>locale</th>\n",
       "      <th>locale_name</th>\n",
       "      <th>description</th>\n",
       "      <th>transferred</th>\n",
       "      <th>oil_price</th>\n",
       "      <th>city</th>\n",
       "      <th>state</th>\n",
       "      <th>store_type</th>\n",
       "      <th>cluster</th>\n",
       "      <th>Year</th>\n",
       "    </tr>\n",
       "    <tr>\n",
       "      <th>date</th>\n",
       "      <th></th>\n",
       "      <th></th>\n",
       "      <th></th>\n",
       "      <th></th>\n",
       "      <th></th>\n",
       "      <th></th>\n",
       "      <th></th>\n",
       "      <th></th>\n",
       "      <th></th>\n",
       "      <th></th>\n",
       "      <th></th>\n",
       "      <th></th>\n",
       "      <th></th>\n",
       "      <th></th>\n",
       "      <th></th>\n",
       "      <th></th>\n",
       "      <th></th>\n",
       "      <th></th>\n",
       "    </tr>\n",
       "  </thead>\n",
       "  <tbody>\n",
       "    <tr>\n",
       "      <th>2013</th>\n",
       "      <td>2013-11-12</td>\n",
       "      <td>562596</td>\n",
       "      <td>44</td>\n",
       "      <td>GROCERY I</td>\n",
       "      <td>46271.0</td>\n",
       "      <td>0</td>\n",
       "      <td>3577</td>\n",
       "      <td>Holiday</td>\n",
       "      <td>Local</td>\n",
       "      <td>Ambato</td>\n",
       "      <td>Independencia de Ambato</td>\n",
       "      <td>False</td>\n",
       "      <td>93.120003</td>\n",
       "      <td>Quito</td>\n",
       "      <td>Pichincha</td>\n",
       "      <td>A</td>\n",
       "      <td>5</td>\n",
       "      <td>2013</td>\n",
       "    </tr>\n",
       "    <tr>\n",
       "      <th>2014</th>\n",
       "      <td>2014-12-08</td>\n",
       "      <td>1257246</td>\n",
       "      <td>35</td>\n",
       "      <td>GROCERY I</td>\n",
       "      <td>45361.0</td>\n",
       "      <td>3</td>\n",
       "      <td>624</td>\n",
       "      <td>Holiday</td>\n",
       "      <td>Local</td>\n",
       "      <td>Loja</td>\n",
       "      <td>Fundacion de Loja</td>\n",
       "      <td>False</td>\n",
       "      <td>63.130001</td>\n",
       "      <td>Playas</td>\n",
       "      <td>Guayas</td>\n",
       "      <td>C</td>\n",
       "      <td>3</td>\n",
       "      <td>2014</td>\n",
       "    </tr>\n",
       "    <tr>\n",
       "      <th>2015</th>\n",
       "      <td>2015-11-11</td>\n",
       "      <td>1857219</td>\n",
       "      <td>2</td>\n",
       "      <td>GROCERY I</td>\n",
       "      <td>33274.0</td>\n",
       "      <td>23</td>\n",
       "      <td>1928</td>\n",
       "      <td>Holiday</td>\n",
       "      <td>Local</td>\n",
       "      <td>Latacunga</td>\n",
       "      <td>Independencia de Latacunga</td>\n",
       "      <td>False</td>\n",
       "      <td>42.950001</td>\n",
       "      <td>Quito</td>\n",
       "      <td>Pichincha</td>\n",
       "      <td>D</td>\n",
       "      <td>13</td>\n",
       "      <td>2015</td>\n",
       "    </tr>\n",
       "    <tr>\n",
       "      <th>2016</th>\n",
       "      <td>2016-05-02</td>\n",
       "      <td>2163723</td>\n",
       "      <td>2</td>\n",
       "      <td>GROCERY I</td>\n",
       "      <td>124717.0</td>\n",
       "      <td>59</td>\n",
       "      <td>1905</td>\n",
       "      <td>Event</td>\n",
       "      <td>National</td>\n",
       "      <td>Ecuador</td>\n",
       "      <td>Terremoto Manabi+16</td>\n",
       "      <td>False</td>\n",
       "      <td>44.750000</td>\n",
       "      <td>Quito</td>\n",
       "      <td>Pichincha</td>\n",
       "      <td>D</td>\n",
       "      <td>13</td>\n",
       "      <td>2016</td>\n",
       "    </tr>\n",
       "    <tr>\n",
       "      <th>2017</th>\n",
       "      <td>2017-01-02</td>\n",
       "      <td>2599488</td>\n",
       "      <td>46</td>\n",
       "      <td>GROCERY I</td>\n",
       "      <td>23966.0</td>\n",
       "      <td>105</td>\n",
       "      <td>5537</td>\n",
       "      <td>Transfer</td>\n",
       "      <td>National</td>\n",
       "      <td>Ecuador</td>\n",
       "      <td>Traslado Primer dia del ano</td>\n",
       "      <td>False</td>\n",
       "      <td>53.750000</td>\n",
       "      <td>Quito</td>\n",
       "      <td>Pichincha</td>\n",
       "      <td>A</td>\n",
       "      <td>14</td>\n",
       "      <td>2017</td>\n",
       "    </tr>\n",
       "  </tbody>\n",
       "</table>\n",
       "</div>"
      ],
      "text/plain": [
       "           date       id  store_nbr     family     sales  onpromotion  \\\n",
       "date                                                                    \n",
       "2013 2013-11-12   562596         44  GROCERY I   46271.0            0   \n",
       "2014 2014-12-08  1257246         35  GROCERY I   45361.0            3   \n",
       "2015 2015-11-11  1857219          2  GROCERY I   33274.0           23   \n",
       "2016 2016-05-02  2163723          2  GROCERY I  124717.0           59   \n",
       "2017 2017-01-02  2599488         46  GROCERY I   23966.0          105   \n",
       "\n",
       "      transactions holiday_type    locale locale_name  \\\n",
       "date                                                    \n",
       "2013          3577      Holiday     Local      Ambato   \n",
       "2014           624      Holiday     Local        Loja   \n",
       "2015          1928      Holiday     Local   Latacunga   \n",
       "2016          1905        Event  National     Ecuador   \n",
       "2017          5537     Transfer  National     Ecuador   \n",
       "\n",
       "                      description  transferred  oil_price    city      state  \\\n",
       "date                                                                           \n",
       "2013      Independencia de Ambato        False  93.120003   Quito  Pichincha   \n",
       "2014            Fundacion de Loja        False  63.130001  Playas     Guayas   \n",
       "2015   Independencia de Latacunga        False  42.950001   Quito  Pichincha   \n",
       "2016          Terremoto Manabi+16        False  44.750000   Quito  Pichincha   \n",
       "2017  Traslado Primer dia del ano        False  53.750000   Quito  Pichincha   \n",
       "\n",
       "     store_type  cluster  Year  \n",
       "date                            \n",
       "2013          A        5  2013  \n",
       "2014          C        3  2014  \n",
       "2015          D       13  2015  \n",
       "2016          D       13  2016  \n",
       "2017          A       14  2017  "
      ]
     },
     "execution_count": 210,
     "metadata": {},
     "output_type": "execute_result"
    }
   ],
   "source": [
    "# Finding the highest sales per each year \n",
    "highest_sales_per_year = train.groupby(train['date'].dt.year).apply(lambda x: x.loc[x['sales'].idxmax()])\n",
    "highest_sales_per_year"
   ]
  },
  {
   "cell_type": "code",
   "execution_count": 211,
   "metadata": {},
   "outputs": [
    {
     "data": {
      "text/html": [
       "<div>\n",
       "<style scoped>\n",
       "    .dataframe tbody tr th:only-of-type {\n",
       "        vertical-align: middle;\n",
       "    }\n",
       "\n",
       "    .dataframe tbody tr th {\n",
       "        vertical-align: top;\n",
       "    }\n",
       "\n",
       "    .dataframe thead th {\n",
       "        text-align: right;\n",
       "    }\n",
       "</style>\n",
       "<table border=\"1\" class=\"dataframe\">\n",
       "  <thead>\n",
       "    <tr style=\"text-align: right;\">\n",
       "      <th></th>\n",
       "      <th>date</th>\n",
       "      <th>sales</th>\n",
       "    </tr>\n",
       "  </thead>\n",
       "  <tbody>\n",
       "    <tr>\n",
       "      <th>0</th>\n",
       "      <td>2013-11-12</td>\n",
       "      <td>46271.0</td>\n",
       "    </tr>\n",
       "    <tr>\n",
       "      <th>1</th>\n",
       "      <td>2014-12-08</td>\n",
       "      <td>45361.0</td>\n",
       "    </tr>\n",
       "    <tr>\n",
       "      <th>2</th>\n",
       "      <td>2015-11-11</td>\n",
       "      <td>33274.0</td>\n",
       "    </tr>\n",
       "    <tr>\n",
       "      <th>3</th>\n",
       "      <td>2016-05-02</td>\n",
       "      <td>124717.0</td>\n",
       "    </tr>\n",
       "    <tr>\n",
       "      <th>4</th>\n",
       "      <td>2017-01-02</td>\n",
       "      <td>23966.0</td>\n",
       "    </tr>\n",
       "  </tbody>\n",
       "</table>\n",
       "</div>"
      ],
      "text/plain": [
       "        date     sales\n",
       "0 2013-11-12   46271.0\n",
       "1 2014-12-08   45361.0\n",
       "2 2015-11-11   33274.0\n",
       "3 2016-05-02  124717.0\n",
       "4 2017-01-02   23966.0"
      ]
     },
     "execution_count": 211,
     "metadata": {},
     "output_type": "execute_result"
    }
   ],
   "source": [
    "# Finding the highest dates of the highest sales per each year\n",
    "highest_sales_date_per_year = highest_sales_per_year[['date', 'sales']].reset_index(drop=True)\n",
    "highest_sales_date_per_year"
   ]
  },
  {
   "cell_type": "code",
   "execution_count": 212,
   "metadata": {},
   "outputs": [
    {
     "data": {
      "image/png": "[encoded data removed]",
      "text/plain": [
       "<Figure size 720x432 with 1 Axes>"
      ]
     },
     "metadata": {},
     "output_type": "display_data"
    }
   ],
   "source": [
    "# Plotting the highest sales dates per year\n",
    "\n",
    "plt.figure(figsize=(10, 6))\n",
    "sns.barplot(x='date', y='sales', data=highest_sales_date_per_year)\n",
    "plt.xlabel('Date')\n",
    "plt.ylabel('Sales')\n",
    "plt.title('Highest Sales Dates per Year')\n",
    "\n",
    "plt.xticks(rotation=45)\n",
    "\n",
    "plt.show()\n"
   ]
  },
  {
   "cell_type": "markdown",
   "metadata": {},
   "source": [
    "#### 8. How many transactions happen in the christmas period(20th - 31st December) each year?"
   ]
  },
  {
   "cell_type": "code",
   "execution_count": 213,
   "metadata": {},
   "outputs": [
    {
     "data": {
      "text/plain": [
       "date\n",
       "2013     6204\n",
       "2014    11088\n",
       "2015    10494\n",
       "2016     8745\n",
       "Name: transactions, dtype: int64"
      ]
     },
     "execution_count": 213,
     "metadata": {},
     "output_type": "execute_result"
    }
   ],
   "source": [
    "# Finding the number of transactions per christmas period\n",
    "christmas_transactions = train[train['date'].dt.day.between(20, 31) & train['date'].dt.month.eq(12)].groupby(train['date'].dt.year)['transactions'].count()\n",
    "christmas_transactions"
   ]
  },
  {
   "cell_type": "code",
   "execution_count": 214,
   "metadata": {},
   "outputs": [
    {
     "data": {
      "image/png": "[encoded data removed]",
      "text/plain": [
       "<Figure size 720x432 with 1 Axes>"
      ]
     },
     "metadata": {},
     "output_type": "display_data"
    }
   ],
   "source": [
    "x_values = np.arange(len(christmas_transactions))\n",
    "plt.figure(figsize=(10, 6))\n",
    "plt.plot(x_values, christmas_transactions.values, marker='o', linestyle='-')\n",
    "plt.xlabel('Year')\n",
    "plt.ylabel('Transactions')\n",
    "plt.title('Transactions per Christmas Period')\n",
    "\n",
    "# Set x-ticks and labels\n",
    "plt.xticks(x_values, christmas_transactions.index.astype(int))\n",
    "\n",
    "# Remove grid lines\n",
    "plt.grid(False)\n",
    "\n",
    "plt.show()"
   ]
  },
  {
   "cell_type": "markdown",
   "metadata": {},
   "source": [
    "### Hypothesis Testing"
   ]
  },
  {
   "cell_type": "code",
   "execution_count": 215,
   "metadata": {},
   "outputs": [
    {
     "data": {
      "text/plain": [
       "-0.061285002039468635"
      ]
     },
     "execution_count": 215,
     "metadata": {},
     "output_type": "execute_result"
    }
   ],
   "source": [
    "# Finding the correlation between the sales and oil price\n",
    "correlation = train['sales'].corr(train['oil_price'])\n",
    "\n",
    "correlation\n"
   ]
  },
  {
   "cell_type": "code",
   "execution_count": 216,
   "metadata": {},
   "outputs": [
    {
     "data": {
      "image/png": "[encoded data removed]",
      "text/plain": [
       "<Figure size 576x432 with 2 Axes>"
      ]
     },
     "metadata": {},
     "output_type": "display_data"
    }
   ],
   "source": [
    "# Plotting a Correlation Matrix\n",
    "columns_to_analyze = ['sales', 'oil_price']\n",
    "correlation_matrix = train[columns_to_analyze].corr()\n",
    "\n",
    "# Plotting the correlation matrix\n",
    "plt.figure(figsize=(8, 6))\n",
    "sns.heatmap(correlation_matrix, annot=True, cmap='coolwarm', square=True)\n",
    "plt.title('Correlation Matrix')\n",
    "\n",
    "plt.show()"
   ]
  },
  {
   "cell_type": "markdown",
   "metadata": {},
   "source": [
    "There is a weak negative correlation between oil prices and sales which means oil prices do not have a significant effect on sales"
   ]
  },
  {
   "cell_type": "markdown",
   "metadata": {},
   "source": [
    "#### This means we reject the Alternate Hypothesis that oil prices  have an effect on sales"
   ]
  },
  {
   "cell_type": "markdown",
   "metadata": {},
   "source": [
    "### Stationarity Test"
   ]
  },
  {
   "cell_type": "markdown",
   "metadata": {},
   "source": [
    "##### KPSS Test"
   ]
  },
  {
   "cell_type": "markdown",
   "metadata": {},
   "source": [
    "###### Null Hypothesis : Series is not stationary\n",
    "###### Alternate Hypothesis : Series is stationary"
   ]
  },
  {
   "cell_type": "code",
   "execution_count": 217,
   "metadata": {},
   "outputs": [],
   "source": [
    "# Run kpss test \n",
    "stats, p, lags, critical_values = kpss(train['sales'], 'ct')\n"
   ]
  },
  {
   "cell_type": "code",
   "execution_count": 218,
   "metadata": {},
   "outputs": [
    {
     "name": "stdout",
     "output_type": "stream",
     "text": [
      "Test statistics: 4.6384340102455885\n",
      "p-value:0.01\n",
      "critical values: {'10%': 0.119, '5%': 0.146, '2.5%': 0.176, '1%': 0.216}\n",
      "Series is not stationary\n"
     ]
    }
   ],
   "source": [
    "# Displaying test results\n",
    "print(f'Test statistics: {stats}')\n",
    "print(f'p-value:{p}')\n",
    "print(f'critical values: {critical_values}')\n",
    "if p < 0.05 :\n",
    "    print(\"Series is not stationary\")\n",
    "else:\n",
    "    print(\"Series is Stattonary\")"
   ]
  },
  {
   "cell_type": "code",
   "execution_count": 219,
   "metadata": {},
   "outputs": [
    {
     "data": {
      "text/plain": [
       "Index(['date', 'id', 'store_nbr', 'family', 'sales', 'onpromotion',\n",
       "       'transactions', 'holiday_type', 'locale', 'locale_name', 'description',\n",
       "       'transferred', 'oil_price', 'city', 'state', 'store_type', 'cluster',\n",
       "       'Year'],\n",
       "      dtype='object')"
      ]
     },
     "execution_count": 219,
     "metadata": {},
     "output_type": "execute_result"
    }
   ],
   "source": [
    "train.columns"
   ]
  },
  {
   "cell_type": "markdown",
   "metadata": {},
   "source": [
    "### Feature Engineering "
   ]
  },
  {
   "cell_type": "markdown",
   "metadata": {},
   "source": [
    "#### Drop the unnecessary columns \n",
    "Drop id, locale, locale_name, description, transferred, state, store_type columns"
   ]
  },
  {
   "cell_type": "code",
   "execution_count": 220,
   "metadata": {},
   "outputs": [],
   "source": [
    "train = train.drop(columns = ['id', 'locale','locale_name','description','transferred','state','store_type'], axis=1)"
   ]
  },
  {
   "cell_type": "code",
   "execution_count": 221,
   "metadata": {},
   "outputs": [
    {
     "data": {
      "text/plain": [
       "Index(['date', 'store_nbr', 'family', 'sales', 'onpromotion', 'transactions',\n",
       "       'holiday_type', 'oil_price', 'city', 'cluster', 'Year'],\n",
       "      dtype='object')"
      ]
     },
     "execution_count": 221,
     "metadata": {},
     "output_type": "execute_result"
    }
   ],
   "source": [
    "train.columns"
   ]
  },
  {
   "cell_type": "code",
   "execution_count": 222,
   "metadata": {},
   "outputs": [],
   "source": [
    "time_data = train "
   ]
  },
  {
   "cell_type": "code",
   "execution_count": 223,
   "metadata": {},
   "outputs": [
    {
     "data": {
      "text/html": [
       "<div>\n",
       "<style scoped>\n",
       "    .dataframe tbody tr th:only-of-type {\n",
       "        vertical-align: middle;\n",
       "    }\n",
       "\n",
       "    .dataframe tbody tr th {\n",
       "        vertical-align: top;\n",
       "    }\n",
       "\n",
       "    .dataframe thead th {\n",
       "        text-align: right;\n",
       "    }\n",
       "</style>\n",
       "<table border=\"1\" class=\"dataframe\">\n",
       "  <thead>\n",
       "    <tr style=\"text-align: right;\">\n",
       "      <th></th>\n",
       "      <th>date</th>\n",
       "      <th>store_nbr</th>\n",
       "      <th>family</th>\n",
       "      <th>sales</th>\n",
       "      <th>onpromotion</th>\n",
       "      <th>transactions</th>\n",
       "      <th>holiday_type</th>\n",
       "      <th>oil_price</th>\n",
       "      <th>city</th>\n",
       "      <th>cluster</th>\n",
       "      <th>Year</th>\n",
       "    </tr>\n",
       "  </thead>\n",
       "  <tbody>\n",
       "    <tr>\n",
       "      <th>0</th>\n",
       "      <td>2013-01-01</td>\n",
       "      <td>25</td>\n",
       "      <td>AUTOMOTIVE</td>\n",
       "      <td>0.0</td>\n",
       "      <td>0</td>\n",
       "      <td>770</td>\n",
       "      <td>Holiday</td>\n",
       "      <td>93.139999</td>\n",
       "      <td>Salinas</td>\n",
       "      <td>1</td>\n",
       "      <td>2013</td>\n",
       "    </tr>\n",
       "    <tr>\n",
       "      <th>1</th>\n",
       "      <td>2013-01-01</td>\n",
       "      <td>25</td>\n",
       "      <td>BABY CARE</td>\n",
       "      <td>0.0</td>\n",
       "      <td>0</td>\n",
       "      <td>770</td>\n",
       "      <td>Holiday</td>\n",
       "      <td>93.139999</td>\n",
       "      <td>Salinas</td>\n",
       "      <td>1</td>\n",
       "      <td>2013</td>\n",
       "    </tr>\n",
       "    <tr>\n",
       "      <th>2</th>\n",
       "      <td>2013-01-01</td>\n",
       "      <td>25</td>\n",
       "      <td>BEAUTY</td>\n",
       "      <td>2.0</td>\n",
       "      <td>0</td>\n",
       "      <td>770</td>\n",
       "      <td>Holiday</td>\n",
       "      <td>93.139999</td>\n",
       "      <td>Salinas</td>\n",
       "      <td>1</td>\n",
       "      <td>2013</td>\n",
       "    </tr>\n",
       "    <tr>\n",
       "      <th>3</th>\n",
       "      <td>2013-01-01</td>\n",
       "      <td>25</td>\n",
       "      <td>BEVERAGES</td>\n",
       "      <td>810.0</td>\n",
       "      <td>0</td>\n",
       "      <td>770</td>\n",
       "      <td>Holiday</td>\n",
       "      <td>93.139999</td>\n",
       "      <td>Salinas</td>\n",
       "      <td>1</td>\n",
       "      <td>2013</td>\n",
       "    </tr>\n",
       "    <tr>\n",
       "      <th>4</th>\n",
       "      <td>2013-01-01</td>\n",
       "      <td>25</td>\n",
       "      <td>BOOKS</td>\n",
       "      <td>0.0</td>\n",
       "      <td>0</td>\n",
       "      <td>770</td>\n",
       "      <td>Holiday</td>\n",
       "      <td>93.139999</td>\n",
       "      <td>Salinas</td>\n",
       "      <td>1</td>\n",
       "      <td>2013</td>\n",
       "    </tr>\n",
       "  </tbody>\n",
       "</table>\n",
       "</div>"
      ],
      "text/plain": [
       "        date  store_nbr      family  sales  onpromotion  transactions  \\\n",
       "0 2013-01-01         25  AUTOMOTIVE    0.0            0           770   \n",
       "1 2013-01-01         25   BABY CARE    0.0            0           770   \n",
       "2 2013-01-01         25      BEAUTY    2.0            0           770   \n",
       "3 2013-01-01         25   BEVERAGES  810.0            0           770   \n",
       "4 2013-01-01         25       BOOKS    0.0            0           770   \n",
       "\n",
       "  holiday_type  oil_price     city  cluster  Year  \n",
       "0      Holiday  93.139999  Salinas        1  2013  \n",
       "1      Holiday  93.139999  Salinas        1  2013  \n",
       "2      Holiday  93.139999  Salinas        1  2013  \n",
       "3      Holiday  93.139999  Salinas        1  2013  \n",
       "4      Holiday  93.139999  Salinas        1  2013  "
      ]
     },
     "execution_count": 223,
     "metadata": {},
     "output_type": "execute_result"
    }
   ],
   "source": [
    "time_data.head()"
   ]
  },
  {
   "cell_type": "code",
   "execution_count": 225,
   "metadata": {},
   "outputs": [
    {
     "data": {
      "text/plain": [
       "array([2013, 2014, 2015, 2016, 2017], dtype=int32)"
      ]
     },
     "execution_count": 225,
     "metadata": {},
     "output_type": "execute_result"
    }
   ],
   "source": [
    "time_data['Year']. unique()"
   ]
  },
  {
   "cell_type": "markdown",
   "metadata": {},
   "source": [
    "#### Standardization"
   ]
  },
  {
   "cell_type": "code",
   "execution_count": 226,
   "metadata": {},
   "outputs": [],
   "source": [
    "# create an instance of StandardScaler\n",
    "scaler = StandardScaler()\n",
    "\n",
    "# select numerical columns\n",
    "num_cols = ['sales', 'transactions', 'oil_price']\n",
    "\n",
    "# fit and transform the numerical columns\n",
    "time_data[num_cols] = scaler.fit_transform(time_data[num_cols])\n"
   ]
  },
  {
   "cell_type": "markdown",
   "metadata": {},
   "source": [
    "#### Feature Encoding"
   ]
  },
  {
   "cell_type": "code",
   "execution_count": 227,
   "metadata": {},
   "outputs": [
    {
     "name": "stdout",
     "output_type": "stream",
     "text": [
      "<class 'pandas.core.frame.DataFrame'>\n",
      "RangeIndex: 322047 entries, 0 to 322046\n",
      "Data columns (total 11 columns):\n",
      " #   Column        Non-Null Count   Dtype         \n",
      "---  ------        --------------   -----         \n",
      " 0   date          322047 non-null  datetime64[ns]\n",
      " 1   store_nbr     322047 non-null  int64         \n",
      " 2   family        322047 non-null  object        \n",
      " 3   sales         322047 non-null  float64       \n",
      " 4   onpromotion   322047 non-null  int64         \n",
      " 5   transactions  322047 non-null  float64       \n",
      " 6   holiday_type  322047 non-null  object        \n",
      " 7   oil_price     322047 non-null  float64       \n",
      " 8   city          322047 non-null  object        \n",
      " 9   cluster       322047 non-null  int64         \n",
      " 10  Year          322047 non-null  int32         \n",
      "dtypes: datetime64[ns](1), float64(3), int32(1), int64(3), object(3)\n",
      "memory usage: 25.8+ MB\n"
     ]
    }
   ],
   "source": [
    "time_data.info()"
   ]
  },
  {
   "cell_type": "code",
   "execution_count": 228,
   "metadata": {},
   "outputs": [],
   "source": [
    "# Select the categorical columns\n",
    "categorical_columns = [\"family\", \"city\", \"holiday_type\"]\n",
    "categorical_data = time_data[categorical_columns]\n",
    "\n",
    "# Initialize the OneHotEncoder\n",
    "encoder = OneHotEncoder()\n",
    "\n",
    "# Fit and transform the data to one hot encoding\n",
    "one_hot_encoded_data = encoder.fit_transform(categorical_data)\n",
    "\n",
    "# Get the categories for each column\n",
    "categories = [encoder.categories_[i] for i in range(len(encoder.categories_))]\n",
    "\n",
    "# Create the column names for the one hot encoded data\n",
    "column_names = []\n",
    "for i in range(len(categories)):\n",
    "    for j in range(len(categories[i])):\n",
    "        column_names.append(f'{categorical_columns[i]}_{categories[i][j]}')\n",
    "\n",
    "# Convert the one hot encoding data to a DataFrame\n",
    "one_hot_encoded_data = pd.DataFrame(one_hot_encoded_data.toarray(), columns=column_names)\n",
    "\n",
    "\n",
    "# Reset the index of both dataframes\n",
    "time_data = time_data.reset_index(drop=True)\n",
    "one_hot_encoded_data = one_hot_encoded_data.reset_index(drop=True)\n",
    "\n",
    "# Concatenate the original dataframe with the one hot encoded data\n",
    "time_data_encoded = pd.concat([time_data, one_hot_encoded_data], axis=1)\n",
    "\n",
    "# Drop the original categorical columns\n",
    "time_data_encoded.drop(categorical_columns, axis=1, inplace=True)"
   ]
  },
  {
   "cell_type": "code",
   "execution_count": 229,
   "metadata": {},
   "outputs": [
    {
     "data": {
      "text/html": [
       "<div>\n",
       "<style scoped>\n",
       "    .dataframe tbody tr th:only-of-type {\n",
       "        vertical-align: middle;\n",
       "    }\n",
       "\n",
       "    .dataframe tbody tr th {\n",
       "        vertical-align: top;\n",
       "    }\n",
       "\n",
       "    .dataframe thead th {\n",
       "        text-align: right;\n",
       "    }\n",
       "</style>\n",
       "<table border=\"1\" class=\"dataframe\">\n",
       "  <thead>\n",
       "    <tr style=\"text-align: right;\">\n",
       "      <th></th>\n",
       "      <th>date</th>\n",
       "      <th>store_nbr</th>\n",
       "      <th>sales</th>\n",
       "      <th>onpromotion</th>\n",
       "      <th>transactions</th>\n",
       "      <th>oil_price</th>\n",
       "      <th>cluster</th>\n",
       "      <th>Year</th>\n",
       "      <th>family_AUTOMOTIVE</th>\n",
       "      <th>family_BABY CARE</th>\n",
       "      <th>...</th>\n",
       "      <th>city_Quevedo</th>\n",
       "      <th>city_Quito</th>\n",
       "      <th>city_Riobamba</th>\n",
       "      <th>city_Salinas</th>\n",
       "      <th>city_Santo Domingo</th>\n",
       "      <th>holiday_type_Additional</th>\n",
       "      <th>holiday_type_Bridge</th>\n",
       "      <th>holiday_type_Event</th>\n",
       "      <th>holiday_type_Holiday</th>\n",
       "      <th>holiday_type_Transfer</th>\n",
       "    </tr>\n",
       "  </thead>\n",
       "  <tbody>\n",
       "    <tr>\n",
       "      <th>0</th>\n",
       "      <td>2013-01-01</td>\n",
       "      <td>25</td>\n",
       "      <td>-0.325920</td>\n",
       "      <td>0</td>\n",
       "      <td>-0.917916</td>\n",
       "      <td>1.185642</td>\n",
       "      <td>1</td>\n",
       "      <td>2013</td>\n",
       "      <td>1.0</td>\n",
       "      <td>0.0</td>\n",
       "      <td>...</td>\n",
       "      <td>0.0</td>\n",
       "      <td>0.0</td>\n",
       "      <td>0.0</td>\n",
       "      <td>1.0</td>\n",
       "      <td>0.0</td>\n",
       "      <td>0.0</td>\n",
       "      <td>0.0</td>\n",
       "      <td>0.0</td>\n",
       "      <td>1.0</td>\n",
       "      <td>0.0</td>\n",
       "    </tr>\n",
       "    <tr>\n",
       "      <th>1</th>\n",
       "      <td>2013-01-01</td>\n",
       "      <td>25</td>\n",
       "      <td>-0.325920</td>\n",
       "      <td>0</td>\n",
       "      <td>-0.917916</td>\n",
       "      <td>1.185642</td>\n",
       "      <td>1</td>\n",
       "      <td>2013</td>\n",
       "      <td>0.0</td>\n",
       "      <td>1.0</td>\n",
       "      <td>...</td>\n",
       "      <td>0.0</td>\n",
       "      <td>0.0</td>\n",
       "      <td>0.0</td>\n",
       "      <td>1.0</td>\n",
       "      <td>0.0</td>\n",
       "      <td>0.0</td>\n",
       "      <td>0.0</td>\n",
       "      <td>0.0</td>\n",
       "      <td>1.0</td>\n",
       "      <td>0.0</td>\n",
       "    </tr>\n",
       "    <tr>\n",
       "      <th>2</th>\n",
       "      <td>2013-01-01</td>\n",
       "      <td>25</td>\n",
       "      <td>-0.324316</td>\n",
       "      <td>0</td>\n",
       "      <td>-0.917916</td>\n",
       "      <td>1.185642</td>\n",
       "      <td>1</td>\n",
       "      <td>2013</td>\n",
       "      <td>0.0</td>\n",
       "      <td>0.0</td>\n",
       "      <td>...</td>\n",
       "      <td>0.0</td>\n",
       "      <td>0.0</td>\n",
       "      <td>0.0</td>\n",
       "      <td>1.0</td>\n",
       "      <td>0.0</td>\n",
       "      <td>0.0</td>\n",
       "      <td>0.0</td>\n",
       "      <td>0.0</td>\n",
       "      <td>1.0</td>\n",
       "      <td>0.0</td>\n",
       "    </tr>\n",
       "    <tr>\n",
       "      <th>3</th>\n",
       "      <td>2013-01-01</td>\n",
       "      <td>25</td>\n",
       "      <td>0.323701</td>\n",
       "      <td>0</td>\n",
       "      <td>-0.917916</td>\n",
       "      <td>1.185642</td>\n",
       "      <td>1</td>\n",
       "      <td>2013</td>\n",
       "      <td>0.0</td>\n",
       "      <td>0.0</td>\n",
       "      <td>...</td>\n",
       "      <td>0.0</td>\n",
       "      <td>0.0</td>\n",
       "      <td>0.0</td>\n",
       "      <td>1.0</td>\n",
       "      <td>0.0</td>\n",
       "      <td>0.0</td>\n",
       "      <td>0.0</td>\n",
       "      <td>0.0</td>\n",
       "      <td>1.0</td>\n",
       "      <td>0.0</td>\n",
       "    </tr>\n",
       "    <tr>\n",
       "      <th>4</th>\n",
       "      <td>2013-01-01</td>\n",
       "      <td>25</td>\n",
       "      <td>-0.325920</td>\n",
       "      <td>0</td>\n",
       "      <td>-0.917916</td>\n",
       "      <td>1.185642</td>\n",
       "      <td>1</td>\n",
       "      <td>2013</td>\n",
       "      <td>0.0</td>\n",
       "      <td>0.0</td>\n",
       "      <td>...</td>\n",
       "      <td>0.0</td>\n",
       "      <td>0.0</td>\n",
       "      <td>0.0</td>\n",
       "      <td>1.0</td>\n",
       "      <td>0.0</td>\n",
       "      <td>0.0</td>\n",
       "      <td>0.0</td>\n",
       "      <td>0.0</td>\n",
       "      <td>1.0</td>\n",
       "      <td>0.0</td>\n",
       "    </tr>\n",
       "  </tbody>\n",
       "</table>\n",
       "<p>5 rows × 68 columns</p>\n",
       "</div>"
      ],
      "text/plain": [
       "        date  store_nbr     sales  onpromotion  transactions  oil_price  \\\n",
       "0 2013-01-01         25 -0.325920            0     -0.917916   1.185642   \n",
       "1 2013-01-01         25 -0.325920            0     -0.917916   1.185642   \n",
       "2 2013-01-01         25 -0.324316            0     -0.917916   1.185642   \n",
       "3 2013-01-01         25  0.323701            0     -0.917916   1.185642   \n",
       "4 2013-01-01         25 -0.325920            0     -0.917916   1.185642   \n",
       "\n",
       "   cluster  Year  family_AUTOMOTIVE  family_BABY CARE  ...  city_Quevedo  \\\n",
       "0        1  2013                1.0               0.0  ...           0.0   \n",
       "1        1  2013                0.0               1.0  ...           0.0   \n",
       "2        1  2013                0.0               0.0  ...           0.0   \n",
       "3        1  2013                0.0               0.0  ...           0.0   \n",
       "4        1  2013                0.0               0.0  ...           0.0   \n",
       "\n",
       "   city_Quito  city_Riobamba  city_Salinas  city_Santo Domingo  \\\n",
       "0         0.0            0.0           1.0                 0.0   \n",
       "1         0.0            0.0           1.0                 0.0   \n",
       "2         0.0            0.0           1.0                 0.0   \n",
       "3         0.0            0.0           1.0                 0.0   \n",
       "4         0.0            0.0           1.0                 0.0   \n",
       "\n",
       "   holiday_type_Additional  holiday_type_Bridge  holiday_type_Event  \\\n",
       "0                      0.0                  0.0                 0.0   \n",
       "1                      0.0                  0.0                 0.0   \n",
       "2                      0.0                  0.0                 0.0   \n",
       "3                      0.0                  0.0                 0.0   \n",
       "4                      0.0                  0.0                 0.0   \n",
       "\n",
       "   holiday_type_Holiday  holiday_type_Transfer  \n",
       "0                   1.0                    0.0  \n",
       "1                   1.0                    0.0  \n",
       "2                   1.0                    0.0  \n",
       "3                   1.0                    0.0  \n",
       "4                   1.0                    0.0  \n",
       "\n",
       "[5 rows x 68 columns]"
      ]
     },
     "execution_count": 229,
     "metadata": {},
     "output_type": "execute_result"
    }
   ],
   "source": [
    "time_data_encoded.head()"
   ]
  },
  {
   "cell_type": "code",
   "execution_count": 230,
   "metadata": {},
   "outputs": [],
   "source": [
    "time_data_encoded = time_data_encoded.drop(columns = 'date', axis=1)"
   ]
  },
  {
   "cell_type": "code",
   "execution_count": 231,
   "metadata": {},
   "outputs": [
    {
     "data": {
      "text/html": [
       "<div>\n",
       "<style scoped>\n",
       "    .dataframe tbody tr th:only-of-type {\n",
       "        vertical-align: middle;\n",
       "    }\n",
       "\n",
       "    .dataframe tbody tr th {\n",
       "        vertical-align: top;\n",
       "    }\n",
       "\n",
       "    .dataframe thead th {\n",
       "        text-align: right;\n",
       "    }\n",
       "</style>\n",
       "<table border=\"1\" class=\"dataframe\">\n",
       "  <thead>\n",
       "    <tr style=\"text-align: right;\">\n",
       "      <th></th>\n",
       "      <th>store_nbr</th>\n",
       "      <th>sales</th>\n",
       "      <th>onpromotion</th>\n",
       "      <th>transactions</th>\n",
       "      <th>oil_price</th>\n",
       "      <th>cluster</th>\n",
       "      <th>Year</th>\n",
       "      <th>family_AUTOMOTIVE</th>\n",
       "      <th>family_BABY CARE</th>\n",
       "      <th>family_BEAUTY</th>\n",
       "      <th>...</th>\n",
       "      <th>city_Quevedo</th>\n",
       "      <th>city_Quito</th>\n",
       "      <th>city_Riobamba</th>\n",
       "      <th>city_Salinas</th>\n",
       "      <th>city_Santo Domingo</th>\n",
       "      <th>holiday_type_Additional</th>\n",
       "      <th>holiday_type_Bridge</th>\n",
       "      <th>holiday_type_Event</th>\n",
       "      <th>holiday_type_Holiday</th>\n",
       "      <th>holiday_type_Transfer</th>\n",
       "    </tr>\n",
       "  </thead>\n",
       "  <tbody>\n",
       "    <tr>\n",
       "      <th>0</th>\n",
       "      <td>25</td>\n",
       "      <td>-0.325920</td>\n",
       "      <td>0</td>\n",
       "      <td>-0.917916</td>\n",
       "      <td>1.185642</td>\n",
       "      <td>1</td>\n",
       "      <td>2013</td>\n",
       "      <td>1.0</td>\n",
       "      <td>0.0</td>\n",
       "      <td>0.0</td>\n",
       "      <td>...</td>\n",
       "      <td>0.0</td>\n",
       "      <td>0.0</td>\n",
       "      <td>0.0</td>\n",
       "      <td>1.0</td>\n",
       "      <td>0.0</td>\n",
       "      <td>0.0</td>\n",
       "      <td>0.0</td>\n",
       "      <td>0.0</td>\n",
       "      <td>1.0</td>\n",
       "      <td>0.0</td>\n",
       "    </tr>\n",
       "    <tr>\n",
       "      <th>1</th>\n",
       "      <td>25</td>\n",
       "      <td>-0.325920</td>\n",
       "      <td>0</td>\n",
       "      <td>-0.917916</td>\n",
       "      <td>1.185642</td>\n",
       "      <td>1</td>\n",
       "      <td>2013</td>\n",
       "      <td>0.0</td>\n",
       "      <td>1.0</td>\n",
       "      <td>0.0</td>\n",
       "      <td>...</td>\n",
       "      <td>0.0</td>\n",
       "      <td>0.0</td>\n",
       "      <td>0.0</td>\n",
       "      <td>1.0</td>\n",
       "      <td>0.0</td>\n",
       "      <td>0.0</td>\n",
       "      <td>0.0</td>\n",
       "      <td>0.0</td>\n",
       "      <td>1.0</td>\n",
       "      <td>0.0</td>\n",
       "    </tr>\n",
       "    <tr>\n",
       "      <th>2</th>\n",
       "      <td>25</td>\n",
       "      <td>-0.324316</td>\n",
       "      <td>0</td>\n",
       "      <td>-0.917916</td>\n",
       "      <td>1.185642</td>\n",
       "      <td>1</td>\n",
       "      <td>2013</td>\n",
       "      <td>0.0</td>\n",
       "      <td>0.0</td>\n",
       "      <td>1.0</td>\n",
       "      <td>...</td>\n",
       "      <td>0.0</td>\n",
       "      <td>0.0</td>\n",
       "      <td>0.0</td>\n",
       "      <td>1.0</td>\n",
       "      <td>0.0</td>\n",
       "      <td>0.0</td>\n",
       "      <td>0.0</td>\n",
       "      <td>0.0</td>\n",
       "      <td>1.0</td>\n",
       "      <td>0.0</td>\n",
       "    </tr>\n",
       "    <tr>\n",
       "      <th>3</th>\n",
       "      <td>25</td>\n",
       "      <td>0.323701</td>\n",
       "      <td>0</td>\n",
       "      <td>-0.917916</td>\n",
       "      <td>1.185642</td>\n",
       "      <td>1</td>\n",
       "      <td>2013</td>\n",
       "      <td>0.0</td>\n",
       "      <td>0.0</td>\n",
       "      <td>0.0</td>\n",
       "      <td>...</td>\n",
       "      <td>0.0</td>\n",
       "      <td>0.0</td>\n",
       "      <td>0.0</td>\n",
       "      <td>1.0</td>\n",
       "      <td>0.0</td>\n",
       "      <td>0.0</td>\n",
       "      <td>0.0</td>\n",
       "      <td>0.0</td>\n",
       "      <td>1.0</td>\n",
       "      <td>0.0</td>\n",
       "    </tr>\n",
       "    <tr>\n",
       "      <th>4</th>\n",
       "      <td>25</td>\n",
       "      <td>-0.325920</td>\n",
       "      <td>0</td>\n",
       "      <td>-0.917916</td>\n",
       "      <td>1.185642</td>\n",
       "      <td>1</td>\n",
       "      <td>2013</td>\n",
       "      <td>0.0</td>\n",
       "      <td>0.0</td>\n",
       "      <td>0.0</td>\n",
       "      <td>...</td>\n",
       "      <td>0.0</td>\n",
       "      <td>0.0</td>\n",
       "      <td>0.0</td>\n",
       "      <td>1.0</td>\n",
       "      <td>0.0</td>\n",
       "      <td>0.0</td>\n",
       "      <td>0.0</td>\n",
       "      <td>0.0</td>\n",
       "      <td>1.0</td>\n",
       "      <td>0.0</td>\n",
       "    </tr>\n",
       "  </tbody>\n",
       "</table>\n",
       "<p>5 rows × 67 columns</p>\n",
       "</div>"
      ],
      "text/plain": [
       "   store_nbr     sales  onpromotion  transactions  oil_price  cluster  Year  \\\n",
       "0         25 -0.325920            0     -0.917916   1.185642        1  2013   \n",
       "1         25 -0.325920            0     -0.917916   1.185642        1  2013   \n",
       "2         25 -0.324316            0     -0.917916   1.185642        1  2013   \n",
       "3         25  0.323701            0     -0.917916   1.185642        1  2013   \n",
       "4         25 -0.325920            0     -0.917916   1.185642        1  2013   \n",
       "\n",
       "   family_AUTOMOTIVE  family_BABY CARE  family_BEAUTY  ...  city_Quevedo  \\\n",
       "0                1.0               0.0            0.0  ...           0.0   \n",
       "1                0.0               1.0            0.0  ...           0.0   \n",
       "2                0.0               0.0            1.0  ...           0.0   \n",
       "3                0.0               0.0            0.0  ...           0.0   \n",
       "4                0.0               0.0            0.0  ...           0.0   \n",
       "\n",
       "   city_Quito  city_Riobamba  city_Salinas  city_Santo Domingo  \\\n",
       "0         0.0            0.0           1.0                 0.0   \n",
       "1         0.0            0.0           1.0                 0.0   \n",
       "2         0.0            0.0           1.0                 0.0   \n",
       "3         0.0            0.0           1.0                 0.0   \n",
       "4         0.0            0.0           1.0                 0.0   \n",
       "\n",
       "   holiday_type_Additional  holiday_type_Bridge  holiday_type_Event  \\\n",
       "0                      0.0                  0.0                 0.0   \n",
       "1                      0.0                  0.0                 0.0   \n",
       "2                      0.0                  0.0                 0.0   \n",
       "3                      0.0                  0.0                 0.0   \n",
       "4                      0.0                  0.0                 0.0   \n",
       "\n",
       "   holiday_type_Holiday  holiday_type_Transfer  \n",
       "0                   1.0                    0.0  \n",
       "1                   1.0                    0.0  \n",
       "2                   1.0                    0.0  \n",
       "3                   1.0                    0.0  \n",
       "4                   1.0                    0.0  \n",
       "\n",
       "[5 rows x 67 columns]"
      ]
     },
     "execution_count": 231,
     "metadata": {},
     "output_type": "execute_result"
    }
   ],
   "source": [
    "time_data_encoded.head()"
   ]
  },
  {
   "cell_type": "markdown",
   "metadata": {},
   "source": [
    "### Split data "
   ]
  },
  {
   "cell_type": "code",
   "execution_count": 232,
   "metadata": {},
   "outputs": [],
   "source": [
    "train_set = time_data_encoded.loc[time_data['Year'].isin([2013, 2014, 2015, 2016])]\n",
    "test_set = time_data_encoded.loc[time_data['Year'].isin([2017])]"
   ]
  },
  {
   "cell_type": "code",
   "execution_count": 233,
   "metadata": {},
   "outputs": [
    {
     "data": {
      "text/plain": [
       "(284889, 67)"
      ]
     },
     "execution_count": 233,
     "metadata": {},
     "output_type": "execute_result"
    }
   ],
   "source": [
    "train_set.shape"
   ]
  },
  {
   "cell_type": "code",
   "execution_count": 234,
   "metadata": {},
   "outputs": [
    {
     "data": {
      "text/plain": [
       "(37158, 67)"
      ]
     },
     "execution_count": 234,
     "metadata": {},
     "output_type": "execute_result"
    }
   ],
   "source": [
    "test_set.shape"
   ]
  },
  {
   "cell_type": "code",
   "execution_count": 235,
   "metadata": {},
   "outputs": [
    {
     "data": {
      "text/html": [
       "<div>\n",
       "<style scoped>\n",
       "    .dataframe tbody tr th:only-of-type {\n",
       "        vertical-align: middle;\n",
       "    }\n",
       "\n",
       "    .dataframe tbody tr th {\n",
       "        vertical-align: top;\n",
       "    }\n",
       "\n",
       "    .dataframe thead th {\n",
       "        text-align: right;\n",
       "    }\n",
       "</style>\n",
       "<table border=\"1\" class=\"dataframe\">\n",
       "  <thead>\n",
       "    <tr style=\"text-align: right;\">\n",
       "      <th></th>\n",
       "      <th>store_nbr</th>\n",
       "      <th>sales</th>\n",
       "      <th>onpromotion</th>\n",
       "      <th>transactions</th>\n",
       "      <th>oil_price</th>\n",
       "      <th>cluster</th>\n",
       "      <th>Year</th>\n",
       "      <th>family_AUTOMOTIVE</th>\n",
       "      <th>family_BABY CARE</th>\n",
       "      <th>family_BEAUTY</th>\n",
       "      <th>...</th>\n",
       "      <th>city_Quevedo</th>\n",
       "      <th>city_Quito</th>\n",
       "      <th>city_Riobamba</th>\n",
       "      <th>city_Salinas</th>\n",
       "      <th>city_Santo Domingo</th>\n",
       "      <th>holiday_type_Additional</th>\n",
       "      <th>holiday_type_Bridge</th>\n",
       "      <th>holiday_type_Event</th>\n",
       "      <th>holiday_type_Holiday</th>\n",
       "      <th>holiday_type_Transfer</th>\n",
       "    </tr>\n",
       "  </thead>\n",
       "  <tbody>\n",
       "    <tr>\n",
       "      <th>0</th>\n",
       "      <td>25</td>\n",
       "      <td>-0.325920</td>\n",
       "      <td>0</td>\n",
       "      <td>-0.917916</td>\n",
       "      <td>1.185642</td>\n",
       "      <td>1</td>\n",
       "      <td>2013</td>\n",
       "      <td>1.0</td>\n",
       "      <td>0.0</td>\n",
       "      <td>0.0</td>\n",
       "      <td>...</td>\n",
       "      <td>0.0</td>\n",
       "      <td>0.0</td>\n",
       "      <td>0.0</td>\n",
       "      <td>1.0</td>\n",
       "      <td>0.0</td>\n",
       "      <td>0.0</td>\n",
       "      <td>0.0</td>\n",
       "      <td>0.0</td>\n",
       "      <td>1.0</td>\n",
       "      <td>0.0</td>\n",
       "    </tr>\n",
       "    <tr>\n",
       "      <th>1</th>\n",
       "      <td>25</td>\n",
       "      <td>-0.325920</td>\n",
       "      <td>0</td>\n",
       "      <td>-0.917916</td>\n",
       "      <td>1.185642</td>\n",
       "      <td>1</td>\n",
       "      <td>2013</td>\n",
       "      <td>0.0</td>\n",
       "      <td>1.0</td>\n",
       "      <td>0.0</td>\n",
       "      <td>...</td>\n",
       "      <td>0.0</td>\n",
       "      <td>0.0</td>\n",
       "      <td>0.0</td>\n",
       "      <td>1.0</td>\n",
       "      <td>0.0</td>\n",
       "      <td>0.0</td>\n",
       "      <td>0.0</td>\n",
       "      <td>0.0</td>\n",
       "      <td>1.0</td>\n",
       "      <td>0.0</td>\n",
       "    </tr>\n",
       "    <tr>\n",
       "      <th>2</th>\n",
       "      <td>25</td>\n",
       "      <td>-0.324316</td>\n",
       "      <td>0</td>\n",
       "      <td>-0.917916</td>\n",
       "      <td>1.185642</td>\n",
       "      <td>1</td>\n",
       "      <td>2013</td>\n",
       "      <td>0.0</td>\n",
       "      <td>0.0</td>\n",
       "      <td>1.0</td>\n",
       "      <td>...</td>\n",
       "      <td>0.0</td>\n",
       "      <td>0.0</td>\n",
       "      <td>0.0</td>\n",
       "      <td>1.0</td>\n",
       "      <td>0.0</td>\n",
       "      <td>0.0</td>\n",
       "      <td>0.0</td>\n",
       "      <td>0.0</td>\n",
       "      <td>1.0</td>\n",
       "      <td>0.0</td>\n",
       "    </tr>\n",
       "    <tr>\n",
       "      <th>3</th>\n",
       "      <td>25</td>\n",
       "      <td>0.323701</td>\n",
       "      <td>0</td>\n",
       "      <td>-0.917916</td>\n",
       "      <td>1.185642</td>\n",
       "      <td>1</td>\n",
       "      <td>2013</td>\n",
       "      <td>0.0</td>\n",
       "      <td>0.0</td>\n",
       "      <td>0.0</td>\n",
       "      <td>...</td>\n",
       "      <td>0.0</td>\n",
       "      <td>0.0</td>\n",
       "      <td>0.0</td>\n",
       "      <td>1.0</td>\n",
       "      <td>0.0</td>\n",
       "      <td>0.0</td>\n",
       "      <td>0.0</td>\n",
       "      <td>0.0</td>\n",
       "      <td>1.0</td>\n",
       "      <td>0.0</td>\n",
       "    </tr>\n",
       "    <tr>\n",
       "      <th>4</th>\n",
       "      <td>25</td>\n",
       "      <td>-0.325920</td>\n",
       "      <td>0</td>\n",
       "      <td>-0.917916</td>\n",
       "      <td>1.185642</td>\n",
       "      <td>1</td>\n",
       "      <td>2013</td>\n",
       "      <td>0.0</td>\n",
       "      <td>0.0</td>\n",
       "      <td>0.0</td>\n",
       "      <td>...</td>\n",
       "      <td>0.0</td>\n",
       "      <td>0.0</td>\n",
       "      <td>0.0</td>\n",
       "      <td>1.0</td>\n",
       "      <td>0.0</td>\n",
       "      <td>0.0</td>\n",
       "      <td>0.0</td>\n",
       "      <td>0.0</td>\n",
       "      <td>1.0</td>\n",
       "      <td>0.0</td>\n",
       "    </tr>\n",
       "    <tr>\n",
       "      <th>...</th>\n",
       "      <td>...</td>\n",
       "      <td>...</td>\n",
       "      <td>...</td>\n",
       "      <td>...</td>\n",
       "      <td>...</td>\n",
       "      <td>...</td>\n",
       "      <td>...</td>\n",
       "      <td>...</td>\n",
       "      <td>...</td>\n",
       "      <td>...</td>\n",
       "      <td>...</td>\n",
       "      <td>...</td>\n",
       "      <td>...</td>\n",
       "      <td>...</td>\n",
       "      <td>...</td>\n",
       "      <td>...</td>\n",
       "      <td>...</td>\n",
       "      <td>...</td>\n",
       "      <td>...</td>\n",
       "      <td>...</td>\n",
       "      <td>...</td>\n",
       "    </tr>\n",
       "    <tr>\n",
       "      <th>320920</th>\n",
       "      <td>22</td>\n",
       "      <td>-0.232429</td>\n",
       "      <td>0</td>\n",
       "      <td>-0.896970</td>\n",
       "      <td>-0.470019</td>\n",
       "      <td>7</td>\n",
       "      <td>2016</td>\n",
       "      <td>0.0</td>\n",
       "      <td>0.0</td>\n",
       "      <td>0.0</td>\n",
       "      <td>...</td>\n",
       "      <td>0.0</td>\n",
       "      <td>0.0</td>\n",
       "      <td>0.0</td>\n",
       "      <td>0.0</td>\n",
       "      <td>0.0</td>\n",
       "      <td>1.0</td>\n",
       "      <td>0.0</td>\n",
       "      <td>0.0</td>\n",
       "      <td>0.0</td>\n",
       "      <td>0.0</td>\n",
       "    </tr>\n",
       "    <tr>\n",
       "      <th>320921</th>\n",
       "      <td>22</td>\n",
       "      <td>-0.313088</td>\n",
       "      <td>0</td>\n",
       "      <td>-0.896970</td>\n",
       "      <td>-0.470019</td>\n",
       "      <td>7</td>\n",
       "      <td>2016</td>\n",
       "      <td>0.0</td>\n",
       "      <td>0.0</td>\n",
       "      <td>0.0</td>\n",
       "      <td>...</td>\n",
       "      <td>0.0</td>\n",
       "      <td>0.0</td>\n",
       "      <td>0.0</td>\n",
       "      <td>0.0</td>\n",
       "      <td>0.0</td>\n",
       "      <td>1.0</td>\n",
       "      <td>0.0</td>\n",
       "      <td>0.0</td>\n",
       "      <td>0.0</td>\n",
       "      <td>0.0</td>\n",
       "    </tr>\n",
       "    <tr>\n",
       "      <th>320922</th>\n",
       "      <td>22</td>\n",
       "      <td>0.023148</td>\n",
       "      <td>3</td>\n",
       "      <td>-0.896970</td>\n",
       "      <td>-0.470019</td>\n",
       "      <td>7</td>\n",
       "      <td>2016</td>\n",
       "      <td>0.0</td>\n",
       "      <td>0.0</td>\n",
       "      <td>0.0</td>\n",
       "      <td>...</td>\n",
       "      <td>0.0</td>\n",
       "      <td>0.0</td>\n",
       "      <td>0.0</td>\n",
       "      <td>0.0</td>\n",
       "      <td>0.0</td>\n",
       "      <td>1.0</td>\n",
       "      <td>0.0</td>\n",
       "      <td>0.0</td>\n",
       "      <td>0.0</td>\n",
       "      <td>0.0</td>\n",
       "    </tr>\n",
       "    <tr>\n",
       "      <th>320923</th>\n",
       "      <td>22</td>\n",
       "      <td>-0.325920</td>\n",
       "      <td>0</td>\n",
       "      <td>-0.896970</td>\n",
       "      <td>-0.470019</td>\n",
       "      <td>7</td>\n",
       "      <td>2016</td>\n",
       "      <td>0.0</td>\n",
       "      <td>0.0</td>\n",
       "      <td>0.0</td>\n",
       "      <td>...</td>\n",
       "      <td>0.0</td>\n",
       "      <td>0.0</td>\n",
       "      <td>0.0</td>\n",
       "      <td>0.0</td>\n",
       "      <td>0.0</td>\n",
       "      <td>1.0</td>\n",
       "      <td>0.0</td>\n",
       "      <td>0.0</td>\n",
       "      <td>0.0</td>\n",
       "      <td>0.0</td>\n",
       "    </tr>\n",
       "    <tr>\n",
       "      <th>320924</th>\n",
       "      <td>22</td>\n",
       "      <td>-0.325118</td>\n",
       "      <td>0</td>\n",
       "      <td>-0.896970</td>\n",
       "      <td>-0.470019</td>\n",
       "      <td>7</td>\n",
       "      <td>2016</td>\n",
       "      <td>0.0</td>\n",
       "      <td>0.0</td>\n",
       "      <td>0.0</td>\n",
       "      <td>...</td>\n",
       "      <td>0.0</td>\n",
       "      <td>0.0</td>\n",
       "      <td>0.0</td>\n",
       "      <td>0.0</td>\n",
       "      <td>0.0</td>\n",
       "      <td>1.0</td>\n",
       "      <td>0.0</td>\n",
       "      <td>0.0</td>\n",
       "      <td>0.0</td>\n",
       "      <td>0.0</td>\n",
       "    </tr>\n",
       "  </tbody>\n",
       "</table>\n",
       "<p>284889 rows × 67 columns</p>\n",
       "</div>"
      ],
      "text/plain": [
       "        store_nbr     sales  onpromotion  transactions  oil_price  cluster  \\\n",
       "0              25 -0.325920            0     -0.917916   1.185642        1   \n",
       "1              25 -0.325920            0     -0.917916   1.185642        1   \n",
       "2              25 -0.324316            0     -0.917916   1.185642        1   \n",
       "3              25  0.323701            0     -0.917916   1.185642        1   \n",
       "4              25 -0.325920            0     -0.917916   1.185642        1   \n",
       "...           ...       ...          ...           ...        ...      ...   \n",
       "320920         22 -0.232429            0     -0.896970  -0.470019        7   \n",
       "320921         22 -0.313088            0     -0.896970  -0.470019        7   \n",
       "320922         22  0.023148            3     -0.896970  -0.470019        7   \n",
       "320923         22 -0.325920            0     -0.896970  -0.470019        7   \n",
       "320924         22 -0.325118            0     -0.896970  -0.470019        7   \n",
       "\n",
       "        Year  family_AUTOMOTIVE  family_BABY CARE  family_BEAUTY  ...  \\\n",
       "0       2013                1.0               0.0            0.0  ...   \n",
       "1       2013                0.0               1.0            0.0  ...   \n",
       "2       2013                0.0               0.0            1.0  ...   \n",
       "3       2013                0.0               0.0            0.0  ...   \n",
       "4       2013                0.0               0.0            0.0  ...   \n",
       "...      ...                ...               ...            ...  ...   \n",
       "320920  2016                0.0               0.0            0.0  ...   \n",
       "320921  2016                0.0               0.0            0.0  ...   \n",
       "320922  2016                0.0               0.0            0.0  ...   \n",
       "320923  2016                0.0               0.0            0.0  ...   \n",
       "320924  2016                0.0               0.0            0.0  ...   \n",
       "\n",
       "        city_Quevedo  city_Quito  city_Riobamba  city_Salinas  \\\n",
       "0                0.0         0.0            0.0           1.0   \n",
       "1                0.0         0.0            0.0           1.0   \n",
       "2                0.0         0.0            0.0           1.0   \n",
       "3                0.0         0.0            0.0           1.0   \n",
       "4                0.0         0.0            0.0           1.0   \n",
       "...              ...         ...            ...           ...   \n",
       "320920           0.0         0.0            0.0           0.0   \n",
       "320921           0.0         0.0            0.0           0.0   \n",
       "320922           0.0         0.0            0.0           0.0   \n",
       "320923           0.0         0.0            0.0           0.0   \n",
       "320924           0.0         0.0            0.0           0.0   \n",
       "\n",
       "        city_Santo Domingo  holiday_type_Additional  holiday_type_Bridge  \\\n",
       "0                      0.0                      0.0                  0.0   \n",
       "1                      0.0                      0.0                  0.0   \n",
       "2                      0.0                      0.0                  0.0   \n",
       "3                      0.0                      0.0                  0.0   \n",
       "4                      0.0                      0.0                  0.0   \n",
       "...                    ...                      ...                  ...   \n",
       "320920                 0.0                      1.0                  0.0   \n",
       "320921                 0.0                      1.0                  0.0   \n",
       "320922                 0.0                      1.0                  0.0   \n",
       "320923                 0.0                      1.0                  0.0   \n",
       "320924                 0.0                      1.0                  0.0   \n",
       "\n",
       "        holiday_type_Event  holiday_type_Holiday  holiday_type_Transfer  \n",
       "0                      0.0                   1.0                    0.0  \n",
       "1                      0.0                   1.0                    0.0  \n",
       "2                      0.0                   1.0                    0.0  \n",
       "3                      0.0                   1.0                    0.0  \n",
       "4                      0.0                   1.0                    0.0  \n",
       "...                    ...                   ...                    ...  \n",
       "320920                 0.0                   0.0                    0.0  \n",
       "320921                 0.0                   0.0                    0.0  \n",
       "320922                 0.0                   0.0                    0.0  \n",
       "320923                 0.0                   0.0                    0.0  \n",
       "320924                 0.0                   0.0                    0.0  \n",
       "\n",
       "[284889 rows x 67 columns]"
      ]
     },
     "execution_count": 235,
     "metadata": {},
     "output_type": "execute_result"
    }
   ],
   "source": [
    "train_set"
   ]
  },
  {
   "cell_type": "code",
   "execution_count": 236,
   "metadata": {},
   "outputs": [],
   "source": [
    "# Define input features (X) and target variable (y)\n",
    "X_train = train_set.drop('sales', axis=1)  \n",
    "y_train = train_set['sales'] \n",
    "\n",
    "X_test = train_set.drop('sales', axis=1)  \n",
    "y_test = train_set['sales']"
   ]
  },
  {
   "cell_type": "markdown",
   "metadata": {},
   "source": [
    "### Modeling "
   ]
  },
  {
   "cell_type": "code",
   "execution_count": 237,
   "metadata": {},
   "outputs": [
    {
     "name": "stdout",
     "output_type": "stream",
     "text": [
      "Test statistics: 0.001674191286430398\n",
      "p-value: 0.1\n",
      "Critical values: {'10%': 0.119, '5%': 0.146, '2.5%': 0.176, '1%': 0.216}\n",
      "Series is stationary\n"
     ]
    }
   ],
   "source": [
    "# Perform differencing to make the series stationary\n",
    "train_set['stationary_sales'] = train_set['sales'].diff().fillna(0)\n",
    "\n",
    "# Run KPSS test on the differenced series\n",
    "stats, p, lags, critical_values = kpss(train_set['stationary_sales'], 'ct')\n",
    "\n",
    "# Display test results\n",
    "print(f'Test statistics: {stats}')\n",
    "print(f'p-value: {p}')\n",
    "print(f'Critical values: {critical_values}')\n",
    "if p < 0.05:\n",
    "    print(\"Series is not stationary\")\n",
    "else:\n",
    "    print(\"Series is stationary\")\n"
   ]
  },
  {
   "cell_type": "markdown",
   "metadata": {},
   "source": [
    "####  Model 1 : XGBoost Model"
   ]
  },
  {
   "cell_type": "code",
   "execution_count": 238,
   "metadata": {},
   "outputs": [],
   "source": [
    "xgb = XGBRegressor()\n",
    "xgb.fit(X_train, y_train)\n",
    "xgb_predictions = xgb.predict(X_test)"
   ]
  },
  {
   "cell_type": "markdown",
   "metadata": {},
   "source": []
  },
  {
   "cell_type": "code",
   "execution_count": 239,
   "metadata": {},
   "outputs": [
    {
     "data": {
      "image/png": "[encoded data removed]",
      "text/plain": [
       "<Figure size 432x288 with 1 Axes>"
      ]
     },
     "metadata": {},
     "output_type": "display_data"
    }
   ],
   "source": [
    "plt.scatter(y_test, xgb_predictions)\n",
    "plt.xlabel(\"True Values\")\n",
    "plt.ylabel(\"Predictions\")\n",
    "plt.title(\"XGBoost\")\n",
    "plt.grid(False)\n",
    "plt.show()"
   ]
  },
  {
   "cell_type": "markdown",
   "metadata": {},
   "source": [
    "####  Evaluation Metrics for XGBoost"
   ]
  },
  {
   "cell_type": "code",
   "execution_count": 240,
   "metadata": {},
   "outputs": [],
   "source": [
    "xgb_mse = mean_squared_error(y_test, xgb_predictions).round(2)\n",
    "xgb_rmse = np.sqrt(xgb_mse).round(2)"
   ]
  },
  {
   "cell_type": "code",
   "execution_count": 241,
   "metadata": {},
   "outputs": [],
   "source": [
    "# apply the absolute value function to y_test to remove negative signs\n",
    "y_test_abs = abs(y_test)\n",
    "xgb_predictions_abs = abs(xgb_predictions)"
   ]
  },
  {
   "cell_type": "code",
   "execution_count": 242,
   "metadata": {},
   "outputs": [],
   "source": [
    "# calculate the mean squared logarithmic error using the new y_test_abs and xgb_predictions_abs array\n",
    "xgb_rmsle = np.sqrt(mean_squared_log_error(y_test_abs, xgb_predictions_abs)).round(2)"
   ]
  },
  {
   "cell_type": "code",
   "execution_count": 243,
   "metadata": {},
   "outputs": [
    {
     "name": "stdout",
     "output_type": "stream",
     "text": [
      "\n",
      "Evaluation Results for XGBoost:\n",
      "╒══════════╤═════════╕\n",
      "│ Metric   │   Value │\n",
      "╞══════════╪═════════╡\n",
      "│ MSE      │    0.06 │\n",
      "├──────────┼─────────┤\n",
      "│ RMSE     │    0.24 │\n",
      "├──────────┼─────────┤\n",
      "│ RMSLE    │    0.07 │\n",
      "╘══════════╧═════════╛\n"
     ]
    }
   ],
   "source": [
    "from tabulate import tabulate\n",
    "# Define the evaluation results in a list\n",
    "results = [\n",
    "    [\"MSE\", xgb_mse],\n",
    "    [\"RMSE\", xgb_rmse],\n",
    "    [\"RMSLE\", xgb_rmsle]\n",
    "]\n",
    "\n",
    "# Print the evaluation results in a table\n",
    "print(\"\\nEvaluation Results for XGBoost:\")\n",
    "print(tabulate(results, headers=[\"Metric\", \"Value\"], tablefmt=\"fancy_grid\"))"
   ]
  },
  {
   "cell_type": "markdown",
   "metadata": {},
   "source": [
    "#### Model 2 : Decision Tree Regression Model"
   ]
  },
  {
   "cell_type": "code",
   "execution_count": 244,
   "metadata": {},
   "outputs": [
    {
     "data": {
      "text/html": [
       "<style>#sk-container-id-1 {color: black;background-color: white;}#sk-container-id-1 pre{padding: 0;}#sk-container-id-1 div.sk-toggleable {background-color: white;}#sk-container-id-1 label.sk-toggleable__label {cursor: pointer;display: block;width: 100%;margin-bottom: 0;padding: 0.3em;box-sizing: border-box;text-align: center;}#sk-container-id-1 label.sk-toggleable__label-arrow:before {content: \"▸\";float: left;margin-right: 0.25em;color: #696969;}#sk-container-id-1 label.sk-toggleable__label-arrow:hover:before {color: black;}#sk-container-id-1 div.sk-estimator:hover label.sk-toggleable__label-arrow:before {color: black;}#sk-container-id-1 div.sk-toggleable__content {max-height: 0;max-width: 0;overflow: hidden;text-align: left;background-color: #f0f8ff;}#sk-container-id-1 div.sk-toggleable__content pre {margin: 0.2em;color: black;border-radius: 0.25em;background-color: #f0f8ff;}#sk-container-id-1 input.sk-toggleable__control:checked~div.sk-toggleable__content {max-height: 200px;max-width: 100%;overflow: auto;}#sk-container-id-1 input.sk-toggleable__control:checked~label.sk-toggleable__label-arrow:before {content: \"▾\";}#sk-container-id-1 div.sk-estimator input.sk-toggleable__control:checked~label.sk-toggleable__label {background-color: #d4ebff;}#sk-container-id-1 div.sk-label input.sk-toggleable__control:checked~label.sk-toggleable__label {background-color: #d4ebff;}#sk-container-id-1 input.sk-hidden--visually {border: 0;clip: rect(1px 1px 1px 1px);clip: rect(1px, 1px, 1px, 1px);height: 1px;margin: -1px;overflow: hidden;padding: 0;position: absolute;width: 1px;}#sk-container-id-1 div.sk-estimator {font-family: monospace;background-color: #f0f8ff;border: 1px dotted black;border-radius: 0.25em;box-sizing: border-box;margin-bottom: 0.5em;}#sk-container-id-1 div.sk-estimator:hover {background-color: #d4ebff;}#sk-container-id-1 div.sk-parallel-item::after {content: \"\";width: 100%;border-bottom: 1px solid gray;flex-grow: 1;}#sk-container-id-1 div.sk-label:hover label.sk-toggleable__label {background-color: #d4ebff;}#sk-container-id-1 div.sk-serial::before {content: \"\";position: absolute;border-left: 1px solid gray;box-sizing: border-box;top: 0;bottom: 0;left: 50%;z-index: 0;}#sk-container-id-1 div.sk-serial {display: flex;flex-direction: column;align-items: center;background-color: white;padding-right: 0.2em;padding-left: 0.2em;position: relative;}#sk-container-id-1 div.sk-item {position: relative;z-index: 1;}#sk-container-id-1 div.sk-parallel {display: flex;align-items: stretch;justify-content: center;background-color: white;position: relative;}#sk-container-id-1 div.sk-item::before, #sk-container-id-1 div.sk-parallel-item::before {content: \"\";position: absolute;border-left: 1px solid gray;box-sizing: border-box;top: 0;bottom: 0;left: 50%;z-index: -1;}#sk-container-id-1 div.sk-parallel-item {display: flex;flex-direction: column;z-index: 1;position: relative;background-color: white;}#sk-container-id-1 div.sk-parallel-item:first-child::after {align-self: flex-end;width: 50%;}#sk-container-id-1 div.sk-parallel-item:last-child::after {align-self: flex-start;width: 50%;}#sk-container-id-1 div.sk-parallel-item:only-child::after {width: 0;}#sk-container-id-1 div.sk-dashed-wrapped {border: 1px dashed gray;margin: 0 0.4em 0.5em 0.4em;box-sizing: border-box;padding-bottom: 0.4em;background-color: white;}#sk-container-id-1 div.sk-label label {font-family: monospace;font-weight: bold;display: inline-block;line-height: 1.2em;}#sk-container-id-1 div.sk-label-container {text-align: center;}#sk-container-id-1 div.sk-container {/* jupyter's `normalize.less` sets `[hidden] { display: none; }` but bootstrap.min.css set `[hidden] { display: none !important; }` so we also need the `!important` here to be able to override the default hidden behavior on the sphinx rendered scikit-learn.org. See: https://github.com/scikit-learn/scikit-learn/issues/21755 */display: inline-block !important;position: relative;}#sk-container-id-1 div.sk-text-repr-fallback {display: none;}</style><div id=\"sk-container-id-1\" class=\"sk-top-container\"><div class=\"sk-text-repr-fallback\"><pre>DecisionTreeRegressor()</pre><b>In a Jupyter environment, please rerun this cell to show the HTML representation or trust the notebook. <br />On GitHub, the HTML representation is unable to render, please try loading this page with nbviewer.org.</b></div><div class=\"sk-container\" hidden><div class=\"sk-item\"><div class=\"sk-estimator sk-toggleable\"><input class=\"sk-toggleable__control sk-hidden--visually\" id=\"sk-estimator-id-1\" type=\"checkbox\" checked><label for=\"sk-estimator-id-1\" class=\"sk-toggleable__label sk-toggleable__label-arrow\">DecisionTreeRegressor</label><div class=\"sk-toggleable__content\"><pre>DecisionTreeRegressor()</pre></div></div></div></div></div>"
      ],
      "text/plain": [
       "DecisionTreeRegressor()"
      ]
     },
     "execution_count": 244,
     "metadata": {},
     "output_type": "execute_result"
    }
   ],
   "source": [
    "# Decision Tree Regression Model\n",
    "dt = DecisionTreeRegressor()\n",
    "dt.fit(X_train, y_train)"
   ]
  },
  {
   "cell_type": "code",
   "execution_count": 245,
   "metadata": {},
   "outputs": [
    {
     "data": {
      "text/plain": [
       "array([-0.32592044, -0.32592044, -0.32431644, ...,  0.02314783,\n",
       "       -0.32592044, -0.32511844])"
      ]
     },
     "execution_count": 245,
     "metadata": {},
     "output_type": "execute_result"
    }
   ],
   "source": [
    "# Make prediction on X_test\n",
    "dt_predictions = dt.predict(X_test)\n",
    "dt_predictions"
   ]
  },
  {
   "cell_type": "code",
   "execution_count": 246,
   "metadata": {},
   "outputs": [
    {
     "data": {
      "image/png": "[encoded data removed]",
      "text/plain": [
       "<Figure size 432x288 with 1 Axes>"
      ]
     },
     "metadata": {},
     "output_type": "display_data"
    }
   ],
   "source": [
    "plt.scatter(y_test, dt_predictions)\n",
    "plt.xlabel(\"True Values\")\n",
    "plt.ylabel(\"Predictions\")\n",
    "plt.title(\"Decision Tree Regression\")\n",
    "plt.grid(False)\n",
    "plt.show()"
   ]
  },
  {
   "cell_type": "markdown",
   "metadata": {},
   "source": [
    "####  Evaluation Metrics for Decision Tree Regression"
   ]
  },
  {
   "cell_type": "code",
   "execution_count": 247,
   "metadata": {},
   "outputs": [],
   "source": [
    "dt_mse = mean_squared_error(y_test, dt_predictions).round(2)\n"
   ]
  },
  {
   "cell_type": "code",
   "execution_count": 248,
   "metadata": {},
   "outputs": [],
   "source": [
    "dt_rmse = np.sqrt(dt_mse).round(2)\n"
   ]
  },
  {
   "cell_type": "code",
   "execution_count": 249,
   "metadata": {},
   "outputs": [],
   "source": [
    "# apply the absolute value function to y_test to remove negative signs\n",
    "y_test_abs = abs(y_test)\n",
    "dt_predictions_abs = abs(dt_predictions)"
   ]
  },
  {
   "cell_type": "code",
   "execution_count": 250,
   "metadata": {},
   "outputs": [],
   "source": [
    "# calculate the mean squared logarithmic error using the new y_test_abs and dt_predictions_abs array\n",
    "dt_rmsle = np.sqrt(mean_squared_log_error(y_test_abs, dt_predictions_abs)).round(2)\n"
   ]
  },
  {
   "cell_type": "code",
   "execution_count": 251,
   "metadata": {},
   "outputs": [
    {
     "name": "stdout",
     "output_type": "stream",
     "text": [
      "\n",
      "Evaluation Results for Decision Tree Regression:\n",
      "╒══════════╤═════════╕\n",
      "│ Metric   │   Value │\n",
      "╞══════════╪═════════╡\n",
      "│ MSE      │       0 │\n",
      "├──────────┼─────────┤\n",
      "│ RMSE     │       0 │\n",
      "├──────────┼─────────┤\n",
      "│ RMSLE    │       0 │\n",
      "╘══════════╧═════════╛\n"
     ]
    }
   ],
   "source": [
    "# Define the evaluation results in a list\n",
    "results = [\n",
    "    [\"MSE\", dt_mse],\n",
    "    [\"RMSE\", dt_rmse],\n",
    "    [\"RMSLE\", dt_rmsle]\n",
    "]\n",
    "\n",
    "# Print the evaluation results in a table\n",
    "print(\"\\nEvaluation Results for Decision Tree Regression:\")\n",
    "print(tabulate(results, headers=[\"Metric\", \"Value\"], tablefmt=\"fancy_grid\"))\n"
   ]
  },
  {
   "cell_type": "markdown",
   "metadata": {},
   "source": [
    "#### Model 3 : Linear Regression"
   ]
  },
  {
   "cell_type": "code",
   "execution_count": 252,
   "metadata": {},
   "outputs": [
    {
     "data": {
      "text/html": [
       "<style>#sk-container-id-2 {color: black;background-color: white;}#sk-container-id-2 pre{padding: 0;}#sk-container-id-2 div.sk-toggleable {background-color: white;}#sk-container-id-2 label.sk-toggleable__label {cursor: pointer;display: block;width: 100%;margin-bottom: 0;padding: 0.3em;box-sizing: border-box;text-align: center;}#sk-container-id-2 label.sk-toggleable__label-arrow:before {content: \"▸\";float: left;margin-right: 0.25em;color: #696969;}#sk-container-id-2 label.sk-toggleable__label-arrow:hover:before {color: black;}#sk-container-id-2 div.sk-estimator:hover label.sk-toggleable__label-arrow:before {color: black;}#sk-container-id-2 div.sk-toggleable__content {max-height: 0;max-width: 0;overflow: hidden;text-align: left;background-color: #f0f8ff;}#sk-container-id-2 div.sk-toggleable__content pre {margin: 0.2em;color: black;border-radius: 0.25em;background-color: #f0f8ff;}#sk-container-id-2 input.sk-toggleable__control:checked~div.sk-toggleable__content {max-height: 200px;max-width: 100%;overflow: auto;}#sk-container-id-2 input.sk-toggleable__control:checked~label.sk-toggleable__label-arrow:before {content: \"▾\";}#sk-container-id-2 div.sk-estimator input.sk-toggleable__control:checked~label.sk-toggleable__label {background-color: #d4ebff;}#sk-container-id-2 div.sk-label input.sk-toggleable__control:checked~label.sk-toggleable__label {background-color: #d4ebff;}#sk-container-id-2 input.sk-hidden--visually {border: 0;clip: rect(1px 1px 1px 1px);clip: rect(1px, 1px, 1px, 1px);height: 1px;margin: -1px;overflow: hidden;padding: 0;position: absolute;width: 1px;}#sk-container-id-2 div.sk-estimator {font-family: monospace;background-color: #f0f8ff;border: 1px dotted black;border-radius: 0.25em;box-sizing: border-box;margin-bottom: 0.5em;}#sk-container-id-2 div.sk-estimator:hover {background-color: #d4ebff;}#sk-container-id-2 div.sk-parallel-item::after {content: \"\";width: 100%;border-bottom: 1px solid gray;flex-grow: 1;}#sk-container-id-2 div.sk-label:hover label.sk-toggleable__label {background-color: #d4ebff;}#sk-container-id-2 div.sk-serial::before {content: \"\";position: absolute;border-left: 1px solid gray;box-sizing: border-box;top: 0;bottom: 0;left: 50%;z-index: 0;}#sk-container-id-2 div.sk-serial {display: flex;flex-direction: column;align-items: center;background-color: white;padding-right: 0.2em;padding-left: 0.2em;position: relative;}#sk-container-id-2 div.sk-item {position: relative;z-index: 1;}#sk-container-id-2 div.sk-parallel {display: flex;align-items: stretch;justify-content: center;background-color: white;position: relative;}#sk-container-id-2 div.sk-item::before, #sk-container-id-2 div.sk-parallel-item::before {content: \"\";position: absolute;border-left: 1px solid gray;box-sizing: border-box;top: 0;bottom: 0;left: 50%;z-index: -1;}#sk-container-id-2 div.sk-parallel-item {display: flex;flex-direction: column;z-index: 1;position: relative;background-color: white;}#sk-container-id-2 div.sk-parallel-item:first-child::after {align-self: flex-end;width: 50%;}#sk-container-id-2 div.sk-parallel-item:last-child::after {align-self: flex-start;width: 50%;}#sk-container-id-2 div.sk-parallel-item:only-child::after {width: 0;}#sk-container-id-2 div.sk-dashed-wrapped {border: 1px dashed gray;margin: 0 0.4em 0.5em 0.4em;box-sizing: border-box;padding-bottom: 0.4em;background-color: white;}#sk-container-id-2 div.sk-label label {font-family: monospace;font-weight: bold;display: inline-block;line-height: 1.2em;}#sk-container-id-2 div.sk-label-container {text-align: center;}#sk-container-id-2 div.sk-container {/* jupyter's `normalize.less` sets `[hidden] { display: none; }` but bootstrap.min.css set `[hidden] { display: none !important; }` so we also need the `!important` here to be able to override the default hidden behavior on the sphinx rendered scikit-learn.org. See: https://github.com/scikit-learn/scikit-learn/issues/21755 */display: inline-block !important;position: relative;}#sk-container-id-2 div.sk-text-repr-fallback {display: none;}</style><div id=\"sk-container-id-2\" class=\"sk-top-container\"><div class=\"sk-text-repr-fallback\"><pre>LinearRegression()</pre><b>In a Jupyter environment, please rerun this cell to show the HTML representation or trust the notebook. <br />On GitHub, the HTML representation is unable to render, please try loading this page with nbviewer.org.</b></div><div class=\"sk-container\" hidden><div class=\"sk-item\"><div class=\"sk-estimator sk-toggleable\"><input class=\"sk-toggleable__control sk-hidden--visually\" id=\"sk-estimator-id-2\" type=\"checkbox\" checked><label for=\"sk-estimator-id-2\" class=\"sk-toggleable__label sk-toggleable__label-arrow\">LinearRegression</label><div class=\"sk-toggleable__content\"><pre>LinearRegression()</pre></div></div></div></div></div>"
      ],
      "text/plain": [
       "LinearRegression()"
      ]
     },
     "execution_count": 252,
     "metadata": {},
     "output_type": "execute_result"
    }
   ],
   "source": [
    "# Linear Regression Model\n",
    "lr = LinearRegression()\n",
    "lr.fit(X_train, y_train)"
   ]
  },
  {
   "cell_type": "code",
   "execution_count": 253,
   "metadata": {},
   "outputs": [],
   "source": [
    "# Make prediction on X_test\n",
    "lr_predictions = lr.predict(X_test)"
   ]
  },
  {
   "cell_type": "code",
   "execution_count": 254,
   "metadata": {},
   "outputs": [
    {
     "data": {
      "image/png": "[encoded data removed]",
      "text/plain": [
       "<Figure size 432x288 with 1 Axes>"
      ]
     },
     "metadata": {},
     "output_type": "display_data"
    }
   ],
   "source": [
    "plt.scatter(y_test, lr_predictions)\n",
    "plt.xlabel(\"True Values\")\n",
    "plt.ylabel(\"Predictions\")\n",
    "plt.title(\"Linear Regression\")\n",
    "plt.grid(False)\n",
    "plt.show()"
   ]
  },
  {
   "cell_type": "markdown",
   "metadata": {},
   "source": [
    "#### Evaluation Metrics for Linear Regression"
   ]
  },
  {
   "cell_type": "code",
   "execution_count": 255,
   "metadata": {},
   "outputs": [],
   "source": [
    "lr_mse = mean_squared_error(y_test, lr_predictions).round(2)\n",
    "lr_rmse = np.sqrt(lr_mse).round(2)"
   ]
  },
  {
   "cell_type": "code",
   "execution_count": 256,
   "metadata": {},
   "outputs": [],
   "source": [
    "# apply the absolute value function to y_test to remove negative signs\n",
    "y_test_abs = abs(y_test)\n",
    "lr_predictions_abs = abs(lr_predictions)"
   ]
  },
  {
   "cell_type": "code",
   "execution_count": 257,
   "metadata": {},
   "outputs": [],
   "source": [
    "# calculate the mean squared logarithmic error using the new y_test_abs and lr_predictions_abs array\n",
    "lr_rmsle = np.sqrt(mean_squared_log_error(y_test_abs, lr_predictions_abs)).round(2)"
   ]
  },
  {
   "cell_type": "code",
   "execution_count": 258,
   "metadata": {},
   "outputs": [
    {
     "name": "stdout",
     "output_type": "stream",
     "text": [
      "\n",
      "Evaluation Results for Linear Regression:\n",
      "╒══════════╤═════════╕\n",
      "│ Metric   │   Value │\n",
      "╞══════════╪═════════╡\n",
      "│ MSE      │    0.44 │\n",
      "├──────────┼─────────┤\n",
      "│ RMSE     │    0.66 │\n",
      "├──────────┼─────────┤\n",
      "│ RMSLE    │    0.18 │\n",
      "╘══════════╧═════════╛\n"
     ]
    }
   ],
   "source": [
    "# Define the evaluation results in a list\n",
    "results = [\n",
    "    [\"MSE\", lr_mse],\n",
    "    [\"RMSE\", lr_rmse],\n",
    "    [\"RMSLE\", lr_rmsle]\n",
    "]\n",
    "\n",
    "# Print the evaluation results in a table\n",
    "print(\"\\nEvaluation Results for Linear Regression:\")\n",
    "print(tabulate(results, headers=[\"Metric\", \"Value\"], tablefmt=\"fancy_grid\"))"
   ]
  },
  {
   "cell_type": "markdown",
   "metadata": {},
   "source": [
    "#### Model 4 : Random Forest Regressor"
   ]
  },
  {
   "cell_type": "code",
   "execution_count": 259,
   "metadata": {},
   "outputs": [
    {
     "data": {
      "text/html": [
       "<style>#sk-container-id-3 {color: black;background-color: white;}#sk-container-id-3 pre{padding: 0;}#sk-container-id-3 div.sk-toggleable {background-color: white;}#sk-container-id-3 label.sk-toggleable__label {cursor: pointer;display: block;width: 100%;margin-bottom: 0;padding: 0.3em;box-sizing: border-box;text-align: center;}#sk-container-id-3 label.sk-toggleable__label-arrow:before {content: \"▸\";float: left;margin-right: 0.25em;color: #696969;}#sk-container-id-3 label.sk-toggleable__label-arrow:hover:before {color: black;}#sk-container-id-3 div.sk-estimator:hover label.sk-toggleable__label-arrow:before {color: black;}#sk-container-id-3 div.sk-toggleable__content {max-height: 0;max-width: 0;overflow: hidden;text-align: left;background-color: #f0f8ff;}#sk-container-id-3 div.sk-toggleable__content pre {margin: 0.2em;color: black;border-radius: 0.25em;background-color: #f0f8ff;}#sk-container-id-3 input.sk-toggleable__control:checked~div.sk-toggleable__content {max-height: 200px;max-width: 100%;overflow: auto;}#sk-container-id-3 input.sk-toggleable__control:checked~label.sk-toggleable__label-arrow:before {content: \"▾\";}#sk-container-id-3 div.sk-estimator input.sk-toggleable__control:checked~label.sk-toggleable__label {background-color: #d4ebff;}#sk-container-id-3 div.sk-label input.sk-toggleable__control:checked~label.sk-toggleable__label {background-color: #d4ebff;}#sk-container-id-3 input.sk-hidden--visually {border: 0;clip: rect(1px 1px 1px 1px);clip: rect(1px, 1px, 1px, 1px);height: 1px;margin: -1px;overflow: hidden;padding: 0;position: absolute;width: 1px;}#sk-container-id-3 div.sk-estimator {font-family: monospace;background-color: #f0f8ff;border: 1px dotted black;border-radius: 0.25em;box-sizing: border-box;margin-bottom: 0.5em;}#sk-container-id-3 div.sk-estimator:hover {background-color: #d4ebff;}#sk-container-id-3 div.sk-parallel-item::after {content: \"\";width: 100%;border-bottom: 1px solid gray;flex-grow: 1;}#sk-container-id-3 div.sk-label:hover label.sk-toggleable__label {background-color: #d4ebff;}#sk-container-id-3 div.sk-serial::before {content: \"\";position: absolute;border-left: 1px solid gray;box-sizing: border-box;top: 0;bottom: 0;left: 50%;z-index: 0;}#sk-container-id-3 div.sk-serial {display: flex;flex-direction: column;align-items: center;background-color: white;padding-right: 0.2em;padding-left: 0.2em;position: relative;}#sk-container-id-3 div.sk-item {position: relative;z-index: 1;}#sk-container-id-3 div.sk-parallel {display: flex;align-items: stretch;justify-content: center;background-color: white;position: relative;}#sk-container-id-3 div.sk-item::before, #sk-container-id-3 div.sk-parallel-item::before {content: \"\";position: absolute;border-left: 1px solid gray;box-sizing: border-box;top: 0;bottom: 0;left: 50%;z-index: -1;}#sk-container-id-3 div.sk-parallel-item {display: flex;flex-direction: column;z-index: 1;position: relative;background-color: white;}#sk-container-id-3 div.sk-parallel-item:first-child::after {align-self: flex-end;width: 50%;}#sk-container-id-3 div.sk-parallel-item:last-child::after {align-self: flex-start;width: 50%;}#sk-container-id-3 div.sk-parallel-item:only-child::after {width: 0;}#sk-container-id-3 div.sk-dashed-wrapped {border: 1px dashed gray;margin: 0 0.4em 0.5em 0.4em;box-sizing: border-box;padding-bottom: 0.4em;background-color: white;}#sk-container-id-3 div.sk-label label {font-family: monospace;font-weight: bold;display: inline-block;line-height: 1.2em;}#sk-container-id-3 div.sk-label-container {text-align: center;}#sk-container-id-3 div.sk-container {/* jupyter's `normalize.less` sets `[hidden] { display: none; }` but bootstrap.min.css set `[hidden] { display: none !important; }` so we also need the `!important` here to be able to override the default hidden behavior on the sphinx rendered scikit-learn.org. See: https://github.com/scikit-learn/scikit-learn/issues/21755 */display: inline-block !important;position: relative;}#sk-container-id-3 div.sk-text-repr-fallback {display: none;}</style><div id=\"sk-container-id-3\" class=\"sk-top-container\"><div class=\"sk-text-repr-fallback\"><pre>RandomForestRegressor()</pre><b>In a Jupyter environment, please rerun this cell to show the HTML representation or trust the notebook. <br />On GitHub, the HTML representation is unable to render, please try loading this page with nbviewer.org.</b></div><div class=\"sk-container\" hidden><div class=\"sk-item\"><div class=\"sk-estimator sk-toggleable\"><input class=\"sk-toggleable__control sk-hidden--visually\" id=\"sk-estimator-id-3\" type=\"checkbox\" checked><label for=\"sk-estimator-id-3\" class=\"sk-toggleable__label sk-toggleable__label-arrow\">RandomForestRegressor</label><div class=\"sk-toggleable__content\"><pre>RandomForestRegressor()</pre></div></div></div></div></div>"
      ],
      "text/plain": [
       "RandomForestRegressor()"
      ]
     },
     "execution_count": 259,
     "metadata": {},
     "output_type": "execute_result"
    }
   ],
   "source": [
    "# Random Forest Regression Model\n",
    "rf = RandomForestRegressor()\n",
    "rf.fit(X_train, y_train)"
   ]
  },
  {
   "cell_type": "code",
   "execution_count": 260,
   "metadata": {},
   "outputs": [],
   "source": [
    "# Make prediction on X_test\n",
    "rf_predictions = rf.predict(X_test)"
   ]
  },
  {
   "cell_type": "code",
   "execution_count": 261,
   "metadata": {},
   "outputs": [
    {
     "data": {
      "image/png": "[encoded data removed]",
      "text/plain": [
       "<Figure size 432x288 with 1 Axes>"
      ]
     },
     "metadata": {},
     "output_type": "display_data"
    }
   ],
   "source": [
    "plt.scatter(y_test, rf_predictions)\n",
    "plt.xlabel(\"True Values\")\n",
    "plt.ylabel(\"Predictions\")\n",
    "plt.title(\"Random Forest Regression\")\n",
    "plt.grid(False)\n",
    "plt.show()"
   ]
  },
  {
   "cell_type": "markdown",
   "metadata": {},
   "source": [
    "##### Evaluation Metrics for Random Forest Regression"
   ]
  },
  {
   "cell_type": "code",
   "execution_count": 262,
   "metadata": {},
   "outputs": [],
   "source": [
    "rf_mse = mean_squared_error(y_test, rf_predictions).round(2)\n",
    "rf_rmse = np.sqrt(rf_mse).round(2)\n"
   ]
  },
  {
   "cell_type": "code",
   "execution_count": 263,
   "metadata": {},
   "outputs": [],
   "source": [
    "# apply the absolute value function to y_test to remove negative signs\n",
    "#y_test_abs = abs(y_test)\n",
    "rf_predictions_abs = abs(rf_predictions)"
   ]
  },
  {
   "cell_type": "code",
   "execution_count": 264,
   "metadata": {},
   "outputs": [],
   "source": [
    "# calculate the mean squared logarithmic error using the new y_test_abs and rf_predictions_abs array\n",
    "rf_rmsle = np.sqrt(mean_squared_log_error(y_test_abs, rf_predictions_abs)).round(2)"
   ]
  },
  {
   "cell_type": "code",
   "execution_count": 265,
   "metadata": {},
   "outputs": [
    {
     "name": "stdout",
     "output_type": "stream",
     "text": [
      "\n",
      "Evaluation Results for Random Forest Regressor:\n",
      "╒══════════╤═════════╕\n",
      "│ Metric   │   Value │\n",
      "╞══════════╪═════════╡\n",
      "│ MSE      │    0.02 │\n",
      "├──────────┼─────────┤\n",
      "│ RMSE     │    0.14 │\n",
      "├──────────┼─────────┤\n",
      "│ RMSLE    │    0.02 │\n",
      "╘══════════╧═════════╛\n"
     ]
    }
   ],
   "source": [
    "# Define the evaluation results in a list\n",
    "results = [\n",
    "    [\"MSE\", rf_mse],\n",
    "    [\"RMSE\", rf_rmse],\n",
    "    [\"RMSLE\", rf_rmsle]\n",
    "]\n",
    "\n",
    "# Print the evaluation results in a table\n",
    "print(\"\\nEvaluation Results for Random Forest Regressor:\")\n",
    "print(tabulate(results, headers=[\"Metric\", \"Value\"], tablefmt=\"fancy_grid\"))\n"
   ]
  },
  {
   "cell_type": "markdown",
   "metadata": {},
   "source": [
    "#### Model 5 : Auto Regressive Model"
   ]
  },
  {
   "cell_type": "code",
   "execution_count": 282,
   "metadata": {},
   "outputs": [],
   "source": [
    "# Create an instance of the AR model\n",
    "ar = AutoReg(y_train, lags=1)\n",
    "# Fit the model to the training data\n",
    "ar_fit = ar.fit()"
   ]
  },
  {
   "cell_type": "code",
   "execution_count": 283,
   "metadata": {},
   "outputs": [
    {
     "data": {
      "text/html": [
       "<table class=\"simpletable\">\n",
       "<caption>AutoReg Model Results</caption>\n",
       "<tr>\n",
       "  <th>Dep. Variable:</th>       <td>sales</td>      <th>  No. Observations:  </th>   <td>284889</td>   \n",
       "</tr>\n",
       "<tr>\n",
       "  <th>Model:</th>            <td>AutoReg(1)</td>    <th>  Log Likelihood     </th> <td>-399544.142</td>\n",
       "</tr>\n",
       "<tr>\n",
       "  <th>Method:</th>         <td>Conditional MLE</td> <th>  S.D. of innovations</th>    <td>0.984</td>   \n",
       "</tr>\n",
       "<tr>\n",
       "  <th>Date:</th>          <td>Tue, 18 Jul 2023</td> <th>  AIC                </th> <td>799094.283</td> \n",
       "</tr>\n",
       "<tr>\n",
       "  <th>Time:</th>              <td>11:07:27</td>     <th>  BIC                </th> <td>799125.963</td> \n",
       "</tr>\n",
       "<tr>\n",
       "  <th>Sample:</th>                <td>1</td>        <th>  HQIC               </th> <td>799103.466</td> \n",
       "</tr>\n",
       "<tr>\n",
       "  <th></th>                    <td>284889</td>      <th>                     </th>      <td> </td>     \n",
       "</tr>\n",
       "</table>\n",
       "<table class=\"simpletable\">\n",
       "<tr>\n",
       "      <td></td>        <th>coef</th>     <th>std err</th>      <th>z</th>      <th>P>|z|</th>  <th>[0.025</th>    <th>0.975]</th>  \n",
       "</tr>\n",
       "<tr>\n",
       "  <th>const</th>    <td>   -0.0072</td> <td>    0.002</td> <td>   -3.918</td> <td> 0.000</td> <td>   -0.011</td> <td>   -0.004</td>\n",
       "</tr>\n",
       "<tr>\n",
       "  <th>sales.L1</th> <td>    0.0913</td> <td>    0.002</td> <td>   48.916</td> <td> 0.000</td> <td>    0.088</td> <td>    0.095</td>\n",
       "</tr>\n",
       "</table>\n",
       "<table class=\"simpletable\">\n",
       "<caption>Roots</caption>\n",
       "<tr>\n",
       "    <td></td>   <th>            Real</th>  <th>         Imaginary</th> <th>         Modulus</th>  <th>        Frequency</th>\n",
       "</tr>\n",
       "<tr>\n",
       "  <th>AR.1</th> <td>          10.9572</td> <td>          +0.0000j</td> <td>          10.9572</td> <td>           0.0000</td>\n",
       "</tr>\n",
       "</table>"
      ],
      "text/latex": [
       "\\begin{center}\n",
       "\\begin{tabular}{lclc}\n",
       "\\toprule\n",
       "\\textbf{Dep. Variable:} &           sales           & \\textbf{  No. Observations:  } &           284889           \\\\\n",
       "\\textbf{Model:}         &         AutoReg(1)        & \\textbf{  Log Likelihood     } &        -399544.142         \\\\\n",
       "\\textbf{Method:}        &      Conditional MLE      & \\textbf{  S.D. of innovations} &           0.984            \\\\\n",
       "\\textbf{Date:}          &      Tue, 18 Jul 2023     & \\textbf{  AIC                } &         799094.283         \\\\\n",
       "\\textbf{Time:}          &          11:07:27         & \\textbf{  BIC                } &         799125.963         \\\\\n",
       "\\textbf{Sample:}        &             1             & \\textbf{  HQIC               } &         799103.466         \\\\\n",
       "\\textbf{}               &           284889          & \\textbf{                     } &                            \\\\\n",
       "\\bottomrule\n",
       "\\end{tabular}\n",
       "\\begin{tabular}{lcccccc}\n",
       "                  & \\textbf{coef} & \\textbf{std err} & \\textbf{z} & \\textbf{P$> |$z$|$} & \\textbf{[0.025} & \\textbf{0.975]}  \\\\\n",
       "\\midrule\n",
       "\\textbf{const}    &      -0.0072  &        0.002     &    -3.918  &         0.000        &       -0.011    &       -0.004     \\\\\n",
       "\\textbf{sales.L1} &       0.0913  &        0.002     &    48.916  &         0.000        &        0.088    &        0.095     \\\\\n",
       "\\bottomrule\n",
       "\\end{tabular}\n",
       "\\begin{tabular}{lcccc}\n",
       "              & \\textbf{            Real} & \\textbf{         Imaginary} & \\textbf{         Modulus} & \\textbf{        Frequency}  \\\\\n",
       "\\midrule\n",
       "\\textbf{AR.1} &               10.9572     &                +0.0000j     &               10.9572     &                0.0000       \\\\\n",
       "\\bottomrule\n",
       "\\end{tabular}\n",
       "%\\caption{AutoReg Model Results}\n",
       "\\end{center}"
      ],
      "text/plain": [
       "<class 'statsmodels.iolib.summary.Summary'>\n",
       "\"\"\"\n",
       "                            AutoReg Model Results                             \n",
       "==============================================================================\n",
       "Dep. Variable:                  sales   No. Observations:               284889\n",
       "Model:                     AutoReg(1)   Log Likelihood             -399544.142\n",
       "Method:               Conditional MLE   S.D. of innovations              0.984\n",
       "Date:                Tue, 18 Jul 2023   AIC                         799094.283\n",
       "Time:                        11:07:27   BIC                         799125.963\n",
       "Sample:                             1   HQIC                        799103.466\n",
       "                               284889                                         \n",
       "==============================================================================\n",
       "                 coef    std err          z      P>|z|      [0.025      0.975]\n",
       "------------------------------------------------------------------------------\n",
       "const         -0.0072      0.002     -3.918      0.000      -0.011      -0.004\n",
       "sales.L1       0.0913      0.002     48.916      0.000       0.088       0.095\n",
       "                                    Roots                                    \n",
       "=============================================================================\n",
       "                  Real          Imaginary           Modulus         Frequency\n",
       "-----------------------------------------------------------------------------\n",
       "AR.1           10.9572           +0.0000j           10.9572            0.0000\n",
       "-----------------------------------------------------------------------------\n",
       "\"\"\""
      ]
     },
     "execution_count": 283,
     "metadata": {},
     "output_type": "execute_result"
    }
   ],
   "source": [
    "ar_fit.summary()"
   ]
  },
  {
   "cell_type": "code",
   "execution_count": 285,
   "metadata": {},
   "outputs": [],
   "source": [
    "# Make predictions on the test data\n",
    "ar_predictions = ar_fit.predict(start=len(y_train), end=len(y_train) + len(X_test) - 1)"
   ]
  },
  {
   "cell_type": "markdown",
   "metadata": {},
   "source": [
    "#### Evaluation for AR model "
   ]
  },
  {
   "cell_type": "code",
   "execution_count": 286,
   "metadata": {},
   "outputs": [],
   "source": [
    "ar_mse = mean_squared_error(y_test, ar_predictions).round(2)\n",
    "ar_rmse = np.sqrt(ar_mse).round(2)"
   ]
  },
  {
   "cell_type": "code",
   "execution_count": 287,
   "metadata": {},
   "outputs": [],
   "source": [
    "# apply the absolute value function to y_test to remove negative signs\n",
    "#y_test_abs = abs(y_test)\n",
    "ar_predictions_abs = abs(ar_predictions)"
   ]
  },
  {
   "cell_type": "code",
   "execution_count": 288,
   "metadata": {},
   "outputs": [],
   "source": [
    "# calculate the mean squared logarithmic error using the new y_test_abs and ar_predictions_abs array\n",
    "ar_rmsle = np.sqrt(mean_squared_log_error(y_test_abs, ar_predictions_abs)).round(2)"
   ]
  },
  {
   "cell_type": "code",
   "execution_count": 289,
   "metadata": {},
   "outputs": [
    {
     "name": "stdout",
     "output_type": "stream",
     "text": [
      "\n",
      "Evaluation Results for Auto Regressive Model:\n",
      "╒══════════╤═════════╕\n",
      "│ Metric   │   Value │\n",
      "╞══════════╪═════════╡\n",
      "│ MSE      │    0.98 │\n",
      "├──────────┼─────────┤\n",
      "│ RMSE     │    0.99 │\n",
      "├──────────┼─────────┤\n",
      "│ RMSLE    │    0.41 │\n",
      "╘══════════╧═════════╛\n"
     ]
    }
   ],
   "source": [
    "# Define the evaluation results in a list\n",
    "results = [\n",
    "    [\"MSE\", ar_mse],\n",
    "    [\"RMSE\", ar_rmse],\n",
    "    [\"RMSLE\", ar_rmsle]\n",
    "]\n",
    "\n",
    "# Print the evaluation results in a table\n",
    "print(\"\\nEvaluation Results for Auto Regressive Model:\")\n",
    "print(tabulate(results, headers=[\"Metric\", \"Value\"], tablefmt=\"fancy_grid\"))\n"
   ]
  },
  {
   "cell_type": "markdown",
   "metadata": {},
   "source": [
    "#### Model 6 : ARIMA Model"
   ]
  },
  {
   "cell_type": "code",
   "execution_count": 271,
   "metadata": {},
   "outputs": [],
   "source": [
    "p = 1\n",
    "d = 0 \n",
    "q = 0 # --> p and q are equal to zero as data is already stationary\n",
    "\n",
    "# Create an instance of the ARIMA model\n",
    "arima_model = ARIMA(y_train, order=(p,d, q))\n",
    "\n",
    "# Fit the model to the training data\n",
    "arima_model_fit = arima_model.fit()"
   ]
  },
  {
   "cell_type": "code",
   "execution_count": 272,
   "metadata": {},
   "outputs": [
    {
     "data": {
      "text/html": [
       "<table class=\"simpletable\">\n",
       "<caption>SARIMAX Results</caption>\n",
       "<tr>\n",
       "  <th>Dep. Variable:</th>         <td>sales</td>      <th>  No. Observations:  </th>   <td>284889</td>   \n",
       "</tr>\n",
       "<tr>\n",
       "  <th>Model:</th>            <td>ARIMA(1, 0, 0)</td>  <th>  Log Likelihood     </th> <td>-399545.100</td>\n",
       "</tr>\n",
       "<tr>\n",
       "  <th>Date:</th>            <td>Tue, 18 Jul 2023</td> <th>  AIC                </th> <td>799096.200</td> \n",
       "</tr>\n",
       "<tr>\n",
       "  <th>Time:</th>                <td>11:01:32</td>     <th>  BIC                </th> <td>799127.880</td> \n",
       "</tr>\n",
       "<tr>\n",
       "  <th>Sample:</th>                  <td>0</td>        <th>  HQIC               </th> <td>799105.383</td> \n",
       "</tr>\n",
       "<tr>\n",
       "  <th></th>                     <td> - 284889</td>    <th>                     </th>      <td> </td>     \n",
       "</tr>\n",
       "<tr>\n",
       "  <th>Covariance Type:</th>        <td>opg</td>       <th>                     </th>      <td> </td>     \n",
       "</tr>\n",
       "</table>\n",
       "<table class=\"simpletable\">\n",
       "<tr>\n",
       "     <td></td>       <th>coef</th>     <th>std err</th>      <th>z</th>      <th>P>|z|</th>  <th>[0.025</th>    <th>0.975]</th>  \n",
       "</tr>\n",
       "<tr>\n",
       "  <th>const</th>  <td>   -0.0079</td> <td>    0.002</td> <td>   -3.355</td> <td> 0.001</td> <td>   -0.013</td> <td>   -0.003</td>\n",
       "</tr>\n",
       "<tr>\n",
       "  <th>ar.L1</th>  <td>    0.0913</td> <td>    0.000</td> <td>  455.254</td> <td> 0.000</td> <td>    0.091</td> <td>    0.092</td>\n",
       "</tr>\n",
       "<tr>\n",
       "  <th>sigma2</th> <td>    0.9676</td> <td>    0.000</td> <td> 6199.755</td> <td> 0.000</td> <td>    0.967</td> <td>    0.968</td>\n",
       "</tr>\n",
       "</table>\n",
       "<table class=\"simpletable\">\n",
       "<tr>\n",
       "  <th>Ljung-Box (L1) (Q):</th>     <td>0.21</td> <th>  Jarque-Bera (JB):  </th> <td>7081896948.91</td>\n",
       "</tr>\n",
       "<tr>\n",
       "  <th>Prob(Q):</th>                <td>0.64</td> <th>  Prob(JB):          </th>     <td>0.00</td>     \n",
       "</tr>\n",
       "<tr>\n",
       "  <th>Heteroskedasticity (H):</th> <td>2.65</td> <th>  Skew:              </th>     <td>14.31</td>    \n",
       "</tr>\n",
       "<tr>\n",
       "  <th>Prob(H) (two-sided):</th>    <td>0.00</td> <th>  Kurtosis:          </th>    <td>774.87</td>    \n",
       "</tr>\n",
       "</table><br/><br/>Warnings:<br/>[1] Covariance matrix calculated using the outer product of gradients (complex-step)."
      ],
      "text/latex": [
       "\\begin{center}\n",
       "\\begin{tabular}{lclc}\n",
       "\\toprule\n",
       "\\textbf{Dep. Variable:}          &      sales       & \\textbf{  No. Observations:  } &     284889     \\\\\n",
       "\\textbf{Model:}                  &  ARIMA(1, 0, 0)  & \\textbf{  Log Likelihood     } &  -399545.100   \\\\\n",
       "\\textbf{Date:}                   & Tue, 18 Jul 2023 & \\textbf{  AIC                } &   799096.200   \\\\\n",
       "\\textbf{Time:}                   &     11:01:32     & \\textbf{  BIC                } &   799127.880   \\\\\n",
       "\\textbf{Sample:}                 &        0         & \\textbf{  HQIC               } &   799105.383   \\\\\n",
       "\\textbf{}                        &     - 284889     & \\textbf{                     } &                \\\\\n",
       "\\textbf{Covariance Type:}        &       opg        & \\textbf{                     } &                \\\\\n",
       "\\bottomrule\n",
       "\\end{tabular}\n",
       "\\begin{tabular}{lcccccc}\n",
       "                & \\textbf{coef} & \\textbf{std err} & \\textbf{z} & \\textbf{P$> |$z$|$} & \\textbf{[0.025} & \\textbf{0.975]}  \\\\\n",
       "\\midrule\n",
       "\\textbf{const}  &      -0.0079  &        0.002     &    -3.355  &         0.001        &       -0.013    &       -0.003     \\\\\n",
       "\\textbf{ar.L1}  &       0.0913  &        0.000     &   455.254  &         0.000        &        0.091    &        0.092     \\\\\n",
       "\\textbf{sigma2} &       0.9676  &        0.000     &  6199.755  &         0.000        &        0.967    &        0.968     \\\\\n",
       "\\bottomrule\n",
       "\\end{tabular}\n",
       "\\begin{tabular}{lclc}\n",
       "\\textbf{Ljung-Box (L1) (Q):}     & 0.21 & \\textbf{  Jarque-Bera (JB):  } & 7081896948.91  \\\\\n",
       "\\textbf{Prob(Q):}                & 0.64 & \\textbf{  Prob(JB):          } &      0.00      \\\\\n",
       "\\textbf{Heteroskedasticity (H):} & 2.65 & \\textbf{  Skew:              } &     14.31      \\\\\n",
       "\\textbf{Prob(H) (two-sided):}    & 0.00 & \\textbf{  Kurtosis:          } &     774.87     \\\\\n",
       "\\bottomrule\n",
       "\\end{tabular}\n",
       "%\\caption{SARIMAX Results}\n",
       "\\end{center}\n",
       "\n",
       "Warnings: \\newline\n",
       " [1] Covariance matrix calculated using the outer product of gradients (complex-step)."
      ],
      "text/plain": [
       "<class 'statsmodels.iolib.summary.Summary'>\n",
       "\"\"\"\n",
       "                               SARIMAX Results                                \n",
       "==============================================================================\n",
       "Dep. Variable:                  sales   No. Observations:               284889\n",
       "Model:                 ARIMA(1, 0, 0)   Log Likelihood             -399545.100\n",
       "Date:                Tue, 18 Jul 2023   AIC                         799096.200\n",
       "Time:                        11:01:32   BIC                         799127.880\n",
       "Sample:                             0   HQIC                        799105.383\n",
       "                             - 284889                                         \n",
       "Covariance Type:                  opg                                         \n",
       "==============================================================================\n",
       "                 coef    std err          z      P>|z|      [0.025      0.975]\n",
       "------------------------------------------------------------------------------\n",
       "const         -0.0079      0.002     -3.355      0.001      -0.013      -0.003\n",
       "ar.L1          0.0913      0.000    455.254      0.000       0.091       0.092\n",
       "sigma2         0.9676      0.000   6199.755      0.000       0.967       0.968\n",
       "===================================================================================\n",
       "Ljung-Box (L1) (Q):                   0.21   Jarque-Bera (JB):        7081896948.91\n",
       "Prob(Q):                              0.64   Prob(JB):                         0.00\n",
       "Heteroskedasticity (H):               2.65   Skew:                            14.31\n",
       "Prob(H) (two-sided):                  0.00   Kurtosis:                       774.87\n",
       "===================================================================================\n",
       "\n",
       "Warnings:\n",
       "[1] Covariance matrix calculated using the outer product of gradients (complex-step).\n",
       "\"\"\""
      ]
     },
     "execution_count": 272,
     "metadata": {},
     "output_type": "execute_result"
    }
   ],
   "source": [
    "arima_model_fit.summary()"
   ]
  },
  {
   "cell_type": "code",
   "execution_count": 273,
   "metadata": {
    "scrolled": false
   },
   "outputs": [],
   "source": [
    "# Make predictions on the test data\n",
    "arima_predictions = arima_model_fit.predict(start=len(y_train), end=len(y_train) + len(X_test) - 1)"
   ]
  },
  {
   "cell_type": "markdown",
   "metadata": {},
   "source": [
    "#### Evaluation for ARIMA model "
   ]
  },
  {
   "cell_type": "code",
   "execution_count": 274,
   "metadata": {},
   "outputs": [],
   "source": [
    "arima_mse = mean_squared_error(y_test, arima_predictions).round(2)\n",
    "arima_rmse = np.sqrt(arima_mse).round(2)"
   ]
  },
  {
   "cell_type": "code",
   "execution_count": 275,
   "metadata": {},
   "outputs": [],
   "source": [
    "# apply the absolute value function to y_test to remove negative signs\n",
    "#y_test_abs = abs(y_test)\n",
    "arima_predictions_abs = abs(arima_predictions)"
   ]
  },
  {
   "cell_type": "code",
   "execution_count": 276,
   "metadata": {},
   "outputs": [],
   "source": [
    "# calculate the mean squared logarithmic error using the new y_test_abs and arima_predictions_abs array\n",
    "arima_rmsle = np.sqrt(mean_squared_log_error(y_test_abs, arima_predictions_abs)).round(2)"
   ]
  },
  {
   "cell_type": "code",
   "execution_count": 277,
   "metadata": {},
   "outputs": [
    {
     "name": "stdout",
     "output_type": "stream",
     "text": [
      "\n",
      "Evaluation Results for ARIMA Model:\n",
      "╒══════════╤═════════╕\n",
      "│ Metric   │   Value │\n",
      "╞══════════╪═════════╡\n",
      "│ MSE      │    0.98 │\n",
      "├──────────┼─────────┤\n",
      "│ RMSE     │    0.99 │\n",
      "├──────────┼─────────┤\n",
      "│ RMSLE    │    0.41 │\n",
      "╘══════════╧═════════╛\n"
     ]
    }
   ],
   "source": [
    "# Define the evaluation results in a list\n",
    "results = [\n",
    "    [\"MSE\", arima_mse],\n",
    "    [\"RMSE\", arima_rmse],\n",
    "    [\"RMSLE\", arima_rmsle]\n",
    "]\n",
    "\n",
    "# Print the evaluation results in a table\n",
    "print(\"\\nEvaluation Results for ARIMA Model:\")\n",
    "print(tabulate(results, headers=[\"Metric\", \"Value\"], tablefmt=\"fancy_grid\"))\n"
   ]
  },
  {
   "cell_type": "markdown",
   "metadata": {},
   "source": [
    "#### Model 7: SARIMAX"
   ]
  },
  {
   "cell_type": "code",
   "execution_count": 291,
   "metadata": {},
   "outputs": [],
   "source": [
    "# Set the seasonal order parameters\n",
    "P = 0  # Seasonal autoregressive order\n",
    "D = 0  # Seasonal differencing order\n",
    "Q = 0  # Seasonal moving average order\n",
    "m = 0  # Number of time steps in each season\n",
    "\n",
    "# Create an instance of the SARIMAX model\n",
    "sarimax = SARIMAX(y_train, order=(p, d, q), seasonal_order=(P, D, Q, m))\n",
    "\n",
    "# Fit the model to the training data\n",
    "sarimax_fit = sarimax.fit()"
   ]
  },
  {
   "cell_type": "code",
   "execution_count": 292,
   "metadata": {},
   "outputs": [
    {
     "data": {
      "text/plain": [
       "284889   -0.029691\n",
       "284890   -0.002711\n",
       "284891   -0.000248\n",
       "284892   -0.000023\n",
       "284893   -0.000002\n",
       "            ...   \n",
       "569773    0.000000\n",
       "569774    0.000000\n",
       "569775    0.000000\n",
       "569776    0.000000\n",
       "569777    0.000000\n",
       "Name: predicted_mean, Length: 284889, dtype: float64"
      ]
     },
     "execution_count": 292,
     "metadata": {},
     "output_type": "execute_result"
    }
   ],
   "source": [
    "# Make predictions on the test data\n",
    "sarimax_predictions = sarimax_fit.get_prediction(start=len(y_train), end=len(y_train) + len(X_test) - 1)\n",
    "\n",
    "# Extract the predicted values\n",
    "sarimax_predictions_values = sarimax_predictions.predicted_mean\n",
    "sarimax_predictions_values\n"
   ]
  },
  {
   "cell_type": "markdown",
   "metadata": {},
   "source": [
    "#### Evaluation for SARIMAX model "
   ]
  },
  {
   "cell_type": "code",
   "execution_count": 293,
   "metadata": {},
   "outputs": [],
   "source": [
    "sarimax_mse = mean_squared_error(y_test, sarimax_predictions_values).round(2)\n",
    "sarimax_rmse = np.sqrt(sarimax_mse).round(2)"
   ]
  },
  {
   "cell_type": "code",
   "execution_count": 294,
   "metadata": {},
   "outputs": [],
   "source": [
    "# apply the absolute value function to y_test to remove negative signs\n",
    "y_test_abs = abs(y_test)\n",
    "sarimax_predictions_abs = np.abs(sarimax_predictions_values)"
   ]
  },
  {
   "cell_type": "code",
   "execution_count": 295,
   "metadata": {},
   "outputs": [],
   "source": [
    "# calculate the mean squared logarithmic error using the new y_test_abs and sarimax_predictions_abs array\n",
    "sarimax_rmsle = np.sqrt(mean_squared_log_error(y_test_abs, sarimax_predictions_abs)).round(2)"
   ]
  },
  {
   "cell_type": "code",
   "execution_count": 296,
   "metadata": {},
   "outputs": [
    {
     "name": "stdout",
     "output_type": "stream",
     "text": [
      "\n",
      "Evaluation Results for SARIMAX Model:\n",
      "╒══════════╤═════════╕\n",
      "│ Metric   │   Value │\n",
      "╞══════════╪═════════╡\n",
      "│ MSE      │    0.98 │\n",
      "├──────────┼─────────┤\n",
      "│ RMSE     │    0.99 │\n",
      "├──────────┼─────────┤\n",
      "│ RMSLE    │    0.42 │\n",
      "╘══════════╧═════════╛\n"
     ]
    }
   ],
   "source": [
    "# Define the evaluation results in a list\n",
    "results = [\n",
    "    [\"MSE\", sarimax_mse],\n",
    "    [\"RMSE\", sarimax_rmse],\n",
    "    [\"RMSLE\", sarimax_rmsle]\n",
    "]\n",
    "\n",
    "# Print the evaluation results in a table\n",
    "print(\"\\nEvaluation Results for SARIMAX Model:\")\n",
    "print(tabulate(results, headers=[\"Metric\", \"Value\"], tablefmt=\"fancy_grid\"))\n"
   ]
  },
  {
   "cell_type": "markdown",
   "metadata": {},
   "source": [
    "### Model Selection"
   ]
  },
  {
   "cell_type": "code",
   "execution_count": 297,
   "metadata": {},
   "outputs": [
    {
     "name": "stdout",
     "output_type": "stream",
     "text": [
      "\n",
      " RMSLE of all the Models:\n",
      "╒═════════════════════════╤═════════╕\n",
      "│ Model                   │   RMSLE │\n",
      "╞═════════════════════════╪═════════╡\n",
      "│ XG Boost                │    0.07 │\n",
      "├─────────────────────────┼─────────┤\n",
      "│ Decision Tree Regressor │    0    │\n",
      "├─────────────────────────┼─────────┤\n",
      "│ Linear Regression       │    0.18 │\n",
      "├─────────────────────────┼─────────┤\n",
      "│ Random Forest Regressor │    0.02 │\n",
      "├─────────────────────────┼─────────┤\n",
      "│ AR Model                │    0.41 │\n",
      "├─────────────────────────┼─────────┤\n",
      "│ ARIMA Model             │    0.41 │\n",
      "├─────────────────────────┼─────────┤\n",
      "│ SARIMAX Model           │    0.42 │\n",
      "╘═════════════════════════╧═════════╛\n"
     ]
    }
   ],
   "source": [
    "RMSLES = [\n",
    "    [\"XG Boost\", xgb_rmsle],\n",
    "    [\"Decision Tree Regressor\", dt_rmsle],\n",
    "    [\"Linear Regression\", lr_rmsle],\n",
    "    [\"Random Forest Regressor\", rf_rmsle],\n",
    "    [\"AR Model\", ar_rmsle],\n",
    "    [\"ARIMA Model\", arima_rmsle],\n",
    "    [\"SARIMAX Model\", sarimax_rmsle]\n",
    "]\n",
    "\n",
    "# Print the evaluation results in a table\n",
    "print(\"\\n RMSLE of all the Models:\")\n",
    "print(tabulate(RMSLES, headers=[\"Model\", \"RMSLE\"], tablefmt=\"fancy_grid\"))\n"
   ]
  },
  {
   "cell_type": "markdown",
   "metadata": {},
   "source": [
    "The best performing model amongst the models trained is the Linear Regression Model so it is selected for improvement "
   ]
  },
  {
   "cell_type": "markdown",
   "metadata": {},
   "source": [
    "### Model Improvement"
   ]
  }
 ],
 "metadata": {
  "kernelspec": {
   "display_name": "Python 3",
   "language": "python",
   "name": "python3"
  },
  "language_info": {
   "codemirror_mode": {
    "name": "ipython",
    "version": 3
   },
   "file_extension": ".py",
   "mimetype": "text/x-python",
   "name": "python",
   "nbconvert_exporter": "python",
   "pygments_lexer": "ipython3",
   "version": "3.8.5"
  }
 },
 "nbformat": 4,
 "nbformat_minor": 4
}
